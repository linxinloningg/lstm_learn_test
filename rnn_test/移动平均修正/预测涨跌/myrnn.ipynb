{
 "cells": [
  {
   "cell_type": "code",
   "execution_count": 1,
   "id": "1e6b039f",
   "metadata": {},
   "outputs": [],
   "source": [
    "import numpy as np\n",
    "import tensorflow as tf\n",
    "from tensorflow.keras.layers import Dropout, Dense, SimpleRNN\n",
    "import matplotlib.pyplot as plt\n",
    "import os\n",
    "import pandas as pd\n",
    "from sklearn.preprocessing import MinMaxScaler\n",
    "from sklearn.metrics import mean_squared_error, mean_absolute_error\n",
    "import math"
   ]
  },
  {
   "cell_type": "code",
   "execution_count": 2,
   "id": "598b766c",
   "metadata": {},
   "outputs": [
    {
     "name": "stdout",
     "output_type": "stream",
     "text": [
      "numpy 1.21.4\n",
      "pandas 1.3.4\n",
      "tensorflow 2.7.0\n"
     ]
    }
   ],
   "source": [
    "for module in np, pd, tf:\n",
    "     print (module.__name__, module.__version__)"
   ]
  },
  {
   "cell_type": "code",
   "execution_count": 3,
   "id": "f2b9f998",
   "metadata": {},
   "outputs": [],
   "source": [
    "# 这两行代码解决 plt 中文显示的问题\n",
    "plt.rcParams['font.sans-serif'] = ['SimHei']\n",
    "plt.rcParams['axes.unicode_minus'] = False"
   ]
  },
  {
   "cell_type": "code",
   "execution_count": 4,
   "id": "19b9fe5b",
   "metadata": {},
   "outputs": [],
   "source": [
    "stock = pd.read_csv('../dataset/sh600031.csv')  # 读取股票文件"
   ]
  },
  {
   "cell_type": "markdown",
   "id": "ecdba8e7",
   "metadata": {},
   "source": [
    "# 增添一列T+1涨跌数据"
   ]
  },
  {
   "cell_type": "code",
   "execution_count": 5,
   "id": "c5bcf0a4",
   "metadata": {},
   "outputs": [],
   "source": [
    "datalist = list()\n",
    "# 上市第一天都设为涨\n",
    "datalist.append(1)\n",
    "for i in range(1,len(stock)):\n",
    "    if stock.iloc[i,list(stock.columns).index('close')]>stock.iloc[i-1,list(stock.columns).index('close')]:\n",
    "        datalist.append(1)\n",
    "    else :\n",
    "        datalist.append(0)\n",
    "stock['chan'] = datalist\n"
   ]
  },
  {
   "cell_type": "code",
   "execution_count": 6,
   "id": "5c2c83b9",
   "metadata": {},
   "outputs": [
    {
     "data": {
      "text/html": [
       "<div>\n",
       "<style scoped>\n",
       "    .dataframe tbody tr th:only-of-type {\n",
       "        vertical-align: middle;\n",
       "    }\n",
       "\n",
       "    .dataframe tbody tr th {\n",
       "        vertical-align: top;\n",
       "    }\n",
       "\n",
       "    .dataframe thead th {\n",
       "        text-align: right;\n",
       "    }\n",
       "</style>\n",
       "<table border=\"1\" class=\"dataframe\">\n",
       "  <thead>\n",
       "    <tr style=\"text-align: right;\">\n",
       "      <th></th>\n",
       "      <th>date</th>\n",
       "      <th>open</th>\n",
       "      <th>high</th>\n",
       "      <th>low</th>\n",
       "      <th>close</th>\n",
       "      <th>volume</th>\n",
       "      <th>chan</th>\n",
       "    </tr>\n",
       "  </thead>\n",
       "  <tbody>\n",
       "    <tr>\n",
       "      <th>0</th>\n",
       "      <td>2003-07-03</td>\n",
       "      <td>23.00</td>\n",
       "      <td>23.00</td>\n",
       "      <td>20.10</td>\n",
       "      <td>21.30</td>\n",
       "      <td>33816715</td>\n",
       "      <td>1</td>\n",
       "    </tr>\n",
       "    <tr>\n",
       "      <th>1</th>\n",
       "      <td>2003-07-04</td>\n",
       "      <td>21.30</td>\n",
       "      <td>22.18</td>\n",
       "      <td>21.05</td>\n",
       "      <td>21.84</td>\n",
       "      <td>7697544</td>\n",
       "      <td>1</td>\n",
       "    </tr>\n",
       "    <tr>\n",
       "      <th>2</th>\n",
       "      <td>2003-07-07</td>\n",
       "      <td>21.90</td>\n",
       "      <td>21.96</td>\n",
       "      <td>21.51</td>\n",
       "      <td>21.80</td>\n",
       "      <td>3951205</td>\n",
       "      <td>0</td>\n",
       "    </tr>\n",
       "    <tr>\n",
       "      <th>3</th>\n",
       "      <td>2003-07-08</td>\n",
       "      <td>21.80</td>\n",
       "      <td>22.22</td>\n",
       "      <td>21.70</td>\n",
       "      <td>21.91</td>\n",
       "      <td>2117357</td>\n",
       "      <td>1</td>\n",
       "    </tr>\n",
       "    <tr>\n",
       "      <th>4</th>\n",
       "      <td>2003-07-09</td>\n",
       "      <td>21.75</td>\n",
       "      <td>22.65</td>\n",
       "      <td>21.70</td>\n",
       "      <td>22.47</td>\n",
       "      <td>3440447</td>\n",
       "      <td>1</td>\n",
       "    </tr>\n",
       "  </tbody>\n",
       "</table>\n",
       "</div>"
      ],
      "text/plain": [
       "         date   open   high    low  close    volume  chan\n",
       "0  2003-07-03  23.00  23.00  20.10  21.30  33816715     1\n",
       "1  2003-07-04  21.30  22.18  21.05  21.84   7697544     1\n",
       "2  2003-07-07  21.90  21.96  21.51  21.80   3951205     0\n",
       "3  2003-07-08  21.80  22.22  21.70  21.91   2117357     1\n",
       "4  2003-07-09  21.75  22.65  21.70  22.47   3440447     1"
      ]
     },
     "execution_count": 6,
     "metadata": {},
     "output_type": "execute_result"
    }
   ],
   "source": [
    "stock.head()"
   ]
  },
  {
   "cell_type": "code",
   "execution_count": 7,
   "id": "d19e9abb",
   "metadata": {},
   "outputs": [],
   "source": [
    "# 取除日期外全部特征\n",
    "training_set = stock.iloc[0:int(len(stock) / 5 * 4), 1:]\n",
    "test_set = stock.iloc[int(len(stock) / 5 * 4):, 1:]"
   ]
  },
  {
   "cell_type": "code",
   "execution_count": 8,
   "id": "98067b71",
   "metadata": {},
   "outputs": [
    {
     "data": {
      "text/plain": [
       "((3539, 6), (885, 6))"
      ]
     },
     "execution_count": 8,
     "metadata": {},
     "output_type": "execute_result"
    }
   ],
   "source": [
    "training_set.shape , test_set.shape"
   ]
  },
  {
   "cell_type": "code",
   "execution_count": 9,
   "id": "c09b3f35",
   "metadata": {},
   "outputs": [],
   "source": [
    "training_set = training_set.values\n",
    "test_set = test_set.values"
   ]
  },
  {
   "cell_type": "markdown",
   "id": "76fafde1",
   "metadata": {},
   "source": [
    "# 归一化处理（进行缩放）"
   ]
  },
  {
   "cell_type": "code",
   "execution_count": 10,
   "id": "cc40ac52",
   "metadata": {},
   "outputs": [],
   "source": [
    "# 归一化\n",
    "sc = MinMaxScaler(feature_range=(0, 1))  # 定义归一化：归一化到(0，1)之间\n",
    "# 缩放\n",
    "training_set_scaled = sc.fit_transform(training_set)  # 求得训练集的最大值，最小值这些训练集固有的属性，并在训练集上进行归一化\n",
    "test_set = sc.transform(test_set)  # 利用训练集的属性对测试集进行归一化"
   ]
  },
  {
   "cell_type": "code",
   "execution_count": 11,
   "id": "e4ecce28",
   "metadata": {},
   "outputs": [
    {
     "data": {
      "text/plain": [
       "array([[0.05522682, 0.05507641, 0.05927126, 0.05862832, 0.07466331,\n",
       "        1.        ],\n",
       "       [0.05689577, 0.05916175, 0.0617004 , 0.06257901, 0.13024207,\n",
       "        1.        ],\n",
       "       [0.05947504, 0.06022091, 0.06445344, 0.06352718, 0.11363668,\n",
       "        1.        ],\n",
       "       ...,\n",
       "       [0.27901684, 0.27674383, 0.28987854, 0.28334387, 0.14002392,\n",
       "        0.        ],\n",
       "       [0.27218935, 0.27507944, 0.2859919 , 0.28603034, 0.13212227,\n",
       "        1.        ],\n",
       "       [0.27279624, 0.27583598, 0.2897166 , 0.28223767, 0.10478023,\n",
       "        0.        ]])"
      ]
     },
     "execution_count": 11,
     "metadata": {},
     "output_type": "execute_result"
    }
   ],
   "source": [
    "test_set"
   ]
  },
  {
   "cell_type": "code",
   "execution_count": 12,
   "id": "b8ddb695",
   "metadata": {},
   "outputs": [],
   "source": [
    "# 参数设置\n",
    "# 步进值\n",
    "seq_len = 1"
   ]
  },
  {
   "cell_type": "markdown",
   "id": "407cfaf6",
   "metadata": {},
   "source": [
    "#  训练集处理"
   ]
  },
  {
   "cell_type": "code",
   "execution_count": 13,
   "id": "72443933",
   "metadata": {},
   "outputs": [],
   "source": [
    "x_train = []\n",
    "y_train = []\n",
    "\n",
    "# 数据进行分组\n",
    "for i in range(seq_len, len(training_set_scaled)):\n",
    "    # 全部特征\n",
    "    x_train.append(training_set_scaled[i - seq_len:i, 0:])\n",
    "    # T+1的涨跌幅\n",
    "    y_train.append(training_set_scaled[i, list(stock.iloc[0:int(len(stock) / 5 * 4), 1:].columns).index('chan')])\n",
    "\n",
    "# 将训练集由list格式变为array格式\n",
    "x_train, y_train = np.array(x_train), np.array(y_train)\n",
    "x_train = np.reshape(x_train, (x_train.shape[0], seq_len, training_set.shape[1]))"
   ]
  },
  {
   "cell_type": "markdown",
   "id": "7139fe95",
   "metadata": {},
   "source": [
    "# 测试集处理"
   ]
  },
  {
   "cell_type": "code",
   "execution_count": 14,
   "id": "d1080c88",
   "metadata": {},
   "outputs": [],
   "source": [
    "x_test = []\n",
    "y_test = []\n",
    "\n",
    "# 利用for循环，遍历整个测试集，提取测试集中连续5天的开盘价作为输入特征x_train，第6天的数据作为标签\n",
    "for i in range(seq_len, len(test_set)):\n",
    "    # 全部特征\n",
    "    x_test.append(test_set[i - seq_len:i, 0:])\n",
    "    # T+1的涨跌幅\n",
    "    y_test.append(test_set[i, list(stock.iloc[0:int(len(stock) / 5 * 4), 1:].columns).index('chan')])\n",
    "\n",
    "    # 测试集变array并reshape为符合RNN输入要求：[送入样本数， 循环核时间展开步数， 每个时间步输入特征个数]\n",
    "x_test, y_test = np.array(x_test), np.array(y_test)\n",
    "x_test = np.reshape(x_test, (x_test.shape[0], seq_len, test_set.shape[1]))"
   ]
  },
  {
   "cell_type": "code",
   "execution_count": 15,
   "id": "985ffc61",
   "metadata": {},
   "outputs": [],
   "source": [
    "model = tf.keras.Sequential([\n",
    "    SimpleRNN(80, return_sequences=True),\n",
    "    Dropout(0.2),\n",
    "    SimpleRNN(100),\n",
    "    Dropout(0.2),\n",
    "    Dense(1)\n",
    "])"
   ]
  },
  {
   "cell_type": "code",
   "execution_count": 16,
   "id": "e0627142",
   "metadata": {},
   "outputs": [],
   "source": [
    "model.compile(optimizer=tf.keras.optimizers.Adam(0.001),loss='mean_squared_error')  \n",
    "# 损失函数用均方误差\n",
    "# 该应用只观测loss数值，不观测准确率，所以删去metrics选项，一会在每个epoch迭代显示时只显示loss值"
   ]
  },
  {
   "cell_type": "code",
   "execution_count": 17,
   "id": "6b862f3c",
   "metadata": {},
   "outputs": [
    {
     "name": "stdout",
     "output_type": "stream",
     "text": [
      "-------------load the model-----------------\n"
     ]
    }
   ],
   "source": [
    "checkpoint_save_path = \"./checkpoint/rnn_stock.ckpt\"\n",
    "if os.path.exists(checkpoint_save_path + '.index'):\n",
    "    print('-------------load the model-----------------')\n",
    "    model.load_weights(checkpoint_save_path)"
   ]
  },
  {
   "cell_type": "code",
   "execution_count": 18,
   "id": "4dd4f75d",
   "metadata": {},
   "outputs": [],
   "source": [
    "# 训练参数\n",
    "batch_size = 64\n",
    "epochs = 100\n",
    "validation_freq=1\n",
    "# 等等"
   ]
  },
  {
   "cell_type": "code",
   "execution_count": 19,
   "id": "943e6a5c",
   "metadata": {},
   "outputs": [
    {
     "name": "stdout",
     "output_type": "stream",
     "text": [
      "Epoch 1/100\n",
      "56/56 [==============================] - 5s 22ms/step - loss: 0.2843 - val_loss: 0.2590\n",
      "Epoch 2/100\n",
      "56/56 [==============================] - 1s 11ms/step - loss: 0.2541 - val_loss: 0.2557\n",
      "Epoch 3/100\n",
      "56/56 [==============================] - 1s 11ms/step - loss: 0.2525 - val_loss: 0.2530\n",
      "Epoch 4/100\n",
      "56/56 [==============================] - 0s 6ms/step - loss: 0.2510 - val_loss: 0.2531\n",
      "Epoch 5/100\n",
      "56/56 [==============================] - 1s 10ms/step - loss: 0.2524 - val_loss: 0.2521\n",
      "Epoch 6/100\n",
      "56/56 [==============================] - 0s 8ms/step - loss: 0.2506 - val_loss: 0.2519\n",
      "Epoch 7/100\n",
      "56/56 [==============================] - 0s 8ms/step - loss: 0.2516 - val_loss: 0.2517\n",
      "Epoch 8/100\n",
      "56/56 [==============================] - 0s 7ms/step - loss: 0.2528 - val_loss: 0.2546\n",
      "Epoch 9/100\n",
      "56/56 [==============================] - 0s 6ms/step - loss: 0.2516 - val_loss: 0.2513\n",
      "Epoch 10/100\n",
      "56/56 [==============================] - 0s 7ms/step - loss: 0.2509 - val_loss: 0.2511\n",
      "Epoch 11/100\n",
      "56/56 [==============================] - 0s 7ms/step - loss: 0.2503 - val_loss: 0.2523\n",
      "Epoch 12/100\n",
      "56/56 [==============================] - 0s 8ms/step - loss: 0.2508 - val_loss: 0.2511\n",
      "Epoch 13/100\n",
      "56/56 [==============================] - 0s 6ms/step - loss: 0.2516 - val_loss: 0.2517\n",
      "Epoch 14/100\n",
      "56/56 [==============================] - 0s 7ms/step - loss: 0.2506 - val_loss: 0.2514\n",
      "Epoch 15/100\n",
      "56/56 [==============================] - 0s 6ms/step - loss: 0.2513 - val_loss: 0.2530\n",
      "Epoch 16/100\n",
      "56/56 [==============================] - 0s 7ms/step - loss: 0.2510 - val_loss: 0.2540\n",
      "Epoch 17/100\n",
      "56/56 [==============================] - 0s 7ms/step - loss: 0.2514 - val_loss: 0.2508\n",
      "Epoch 18/100\n",
      "56/56 [==============================] - 0s 5ms/step - loss: 0.2507 - val_loss: 0.2545\n",
      "Epoch 19/100\n",
      "56/56 [==============================] - 0s 5ms/step - loss: 0.2502 - val_loss: 0.2511\n",
      "Epoch 20/100\n",
      "56/56 [==============================] - 0s 7ms/step - loss: 0.2525 - val_loss: 0.2508\n",
      "Epoch 21/100\n",
      "56/56 [==============================] - 0s 6ms/step - loss: 0.2508 - val_loss: 0.2503\n",
      "Epoch 22/100\n",
      "56/56 [==============================] - 0s 6ms/step - loss: 0.2517 - val_loss: 0.2509\n",
      "Epoch 23/100\n",
      "56/56 [==============================] - 0s 6ms/step - loss: 0.2509 - val_loss: 0.2512\n",
      "Epoch 24/100\n",
      "56/56 [==============================] - 0s 6ms/step - loss: 0.2512 - val_loss: 0.2507\n",
      "Epoch 25/100\n",
      "56/56 [==============================] - 0s 5ms/step - loss: 0.2519 - val_loss: 0.2506\n",
      "Epoch 26/100\n",
      "56/56 [==============================] - 0s 5ms/step - loss: 0.2501 - val_loss: 0.2541\n",
      "Epoch 27/100\n",
      "56/56 [==============================] - 0s 5ms/step - loss: 0.2513 - val_loss: 0.2546\n",
      "Epoch 28/100\n",
      "56/56 [==============================] - 0s 6ms/step - loss: 0.2506 - val_loss: 0.2510\n",
      "Epoch 29/100\n",
      "56/56 [==============================] - 0s 6ms/step - loss: 0.2514 - val_loss: 0.2507\n",
      "Epoch 30/100\n",
      "56/56 [==============================] - 0s 6ms/step - loss: 0.2512 - val_loss: 0.2504\n",
      "Epoch 31/100\n",
      "56/56 [==============================] - 0s 5ms/step - loss: 0.2511 - val_loss: 0.2504\n",
      "Epoch 32/100\n",
      "56/56 [==============================] - 0s 6ms/step - loss: 0.2513 - val_loss: 0.2513\n",
      "Epoch 33/100\n",
      "56/56 [==============================] - 0s 6ms/step - loss: 0.2516 - val_loss: 0.2510\n",
      "Epoch 34/100\n",
      "56/56 [==============================] - 0s 6ms/step - loss: 0.2509 - val_loss: 0.2533\n",
      "Epoch 35/100\n",
      "56/56 [==============================] - 0s 5ms/step - loss: 0.2510 - val_loss: 0.2513\n",
      "Epoch 36/100\n",
      "56/56 [==============================] - 0s 6ms/step - loss: 0.2516 - val_loss: 0.2555\n",
      "Epoch 37/100\n",
      "56/56 [==============================] - 0s 5ms/step - loss: 0.2520 - val_loss: 0.2508\n",
      "Epoch 38/100\n",
      "56/56 [==============================] - 0s 5ms/step - loss: 0.2511 - val_loss: 0.2515\n",
      "Epoch 39/100\n",
      "56/56 [==============================] - 0s 5ms/step - loss: 0.2502 - val_loss: 0.2504\n",
      "Epoch 40/100\n",
      "56/56 [==============================] - 0s 7ms/step - loss: 0.2509 - val_loss: 0.2502\n",
      "Epoch 41/100\n",
      "56/56 [==============================] - 0s 6ms/step - loss: 0.2516 - val_loss: 0.2524\n",
      "Epoch 42/100\n",
      "56/56 [==============================] - 0s 6ms/step - loss: 0.2495 - val_loss: 0.2518\n",
      "Epoch 43/100\n",
      "56/56 [==============================] - 0s 7ms/step - loss: 0.2506 - val_loss: 0.2505\n",
      "Epoch 44/100\n",
      "56/56 [==============================] - 0s 7ms/step - loss: 0.2522 - val_loss: 0.2502\n",
      "Epoch 45/100\n",
      "56/56 [==============================] - 0s 5ms/step - loss: 0.2509 - val_loss: 0.2507\n",
      "Epoch 46/100\n",
      "56/56 [==============================] - 0s 6ms/step - loss: 0.2510 - val_loss: 0.2536\n",
      "Epoch 47/100\n",
      "56/56 [==============================] - 0s 5ms/step - loss: 0.2517 - val_loss: 0.2503\n",
      "Epoch 48/100\n",
      "56/56 [==============================] - 0s 6ms/step - loss: 0.2514 - val_loss: 0.2522\n",
      "Epoch 49/100\n",
      "56/56 [==============================] - 0s 6ms/step - loss: 0.2503 - val_loss: 0.2505\n",
      "Epoch 50/100\n",
      "56/56 [==============================] - 0s 5ms/step - loss: 0.2504 - val_loss: 0.2511\n",
      "Epoch 51/100\n",
      "56/56 [==============================] - 0s 5ms/step - loss: 0.2502 - val_loss: 0.2595\n",
      "Epoch 52/100\n",
      "56/56 [==============================] - 0s 6ms/step - loss: 0.2508 - val_loss: 0.2544\n",
      "Epoch 53/100\n",
      "56/56 [==============================] - 0s 6ms/step - loss: 0.2502 - val_loss: 0.2511\n",
      "Epoch 54/100\n",
      "56/56 [==============================] - 0s 5ms/step - loss: 0.2501 - val_loss: 0.2540\n",
      "Epoch 55/100\n",
      "56/56 [==============================] - 0s 5ms/step - loss: 0.2507 - val_loss: 0.2519\n",
      "Epoch 56/100\n",
      "56/56 [==============================] - 0s 8ms/step - loss: 0.2505 - val_loss: 0.2502\n",
      "Epoch 57/100\n",
      "56/56 [==============================] - 0s 6ms/step - loss: 0.2509 - val_loss: 0.2520\n",
      "Epoch 58/100\n",
      "56/56 [==============================] - 0s 5ms/step - loss: 0.2507 - val_loss: 0.2517\n",
      "Epoch 59/100\n",
      "56/56 [==============================] - 0s 8ms/step - loss: 0.2507 - val_loss: 0.2501\n",
      "Epoch 60/100\n",
      "56/56 [==============================] - 0s 7ms/step - loss: 0.2506 - val_loss: 0.2496\n",
      "Epoch 61/100\n",
      "56/56 [==============================] - 0s 7ms/step - loss: 0.2510 - val_loss: 0.2506\n",
      "Epoch 62/100\n",
      "56/56 [==============================] - 0s 6ms/step - loss: 0.2513 - val_loss: 0.2523\n",
      "Epoch 63/100\n",
      "56/56 [==============================] - 0s 6ms/step - loss: 0.2509 - val_loss: 0.2502\n",
      "Epoch 64/100\n",
      "56/56 [==============================] - 0s 6ms/step - loss: 0.2510 - val_loss: 0.2522\n",
      "Epoch 65/100\n",
      "56/56 [==============================] - 0s 5ms/step - loss: 0.2508 - val_loss: 0.2507\n",
      "Epoch 66/100\n",
      "56/56 [==============================] - 0s 6ms/step - loss: 0.2509 - val_loss: 0.2529\n",
      "Epoch 67/100\n",
      "56/56 [==============================] - 0s 6ms/step - loss: 0.2507 - val_loss: 0.2504\n",
      "Epoch 68/100\n",
      "56/56 [==============================] - 0s 6ms/step - loss: 0.2511 - val_loss: 0.2515\n",
      "Epoch 69/100\n",
      "56/56 [==============================] - 0s 6ms/step - loss: 0.2509 - val_loss: 0.2520\n",
      "Epoch 70/100\n",
      "56/56 [==============================] - 0s 5ms/step - loss: 0.2515 - val_loss: 0.2514\n",
      "Epoch 71/100\n",
      "56/56 [==============================] - 0s 6ms/step - loss: 0.2505 - val_loss: 0.2506\n",
      "Epoch 72/100\n",
      "56/56 [==============================] - 0s 6ms/step - loss: 0.2506 - val_loss: 0.2503\n",
      "Epoch 73/100\n",
      "56/56 [==============================] - 0s 6ms/step - loss: 0.2505 - val_loss: 0.2508\n",
      "Epoch 74/100\n",
      "56/56 [==============================] - 0s 6ms/step - loss: 0.2517 - val_loss: 0.2555\n",
      "Epoch 75/100\n",
      "56/56 [==============================] - 0s 6ms/step - loss: 0.2508 - val_loss: 0.2519\n",
      "Epoch 76/100\n",
      "56/56 [==============================] - 0s 6ms/step - loss: 0.2500 - val_loss: 0.2499\n",
      "Epoch 77/100\n",
      "56/56 [==============================] - 0s 6ms/step - loss: 0.2504 - val_loss: 0.2533\n",
      "Epoch 78/100\n",
      "56/56 [==============================] - 0s 6ms/step - loss: 0.2502 - val_loss: 0.2522\n",
      "Epoch 79/100\n",
      "56/56 [==============================] - 0s 6ms/step - loss: 0.2506 - val_loss: 0.2514\n",
      "Epoch 80/100\n",
      "56/56 [==============================] - 0s 6ms/step - loss: 0.2503 - val_loss: 0.2500\n",
      "Epoch 81/100\n",
      "56/56 [==============================] - 0s 6ms/step - loss: 0.2510 - val_loss: 0.2536\n",
      "Epoch 82/100\n",
      "56/56 [==============================] - 0s 5ms/step - loss: 0.2512 - val_loss: 0.2511\n"
     ]
    },
    {
     "name": "stdout",
     "output_type": "stream",
     "text": [
      "Epoch 83/100\n",
      "56/56 [==============================] - 0s 5ms/step - loss: 0.2507 - val_loss: 0.2524\n",
      "Epoch 84/100\n",
      "56/56 [==============================] - 0s 6ms/step - loss: 0.2516 - val_loss: 0.2514\n",
      "Epoch 85/100\n",
      "56/56 [==============================] - 0s 6ms/step - loss: 0.2504 - val_loss: 0.2515\n",
      "Epoch 86/100\n",
      "56/56 [==============================] - 0s 5ms/step - loss: 0.2502 - val_loss: 0.2504\n",
      "Epoch 87/100\n",
      "56/56 [==============================] - 0s 5ms/step - loss: 0.2501 - val_loss: 0.2513\n",
      "Epoch 88/100\n",
      "56/56 [==============================] - 0s 5ms/step - loss: 0.2509 - val_loss: 0.2533\n",
      "Epoch 89/100\n",
      "56/56 [==============================] - 0s 6ms/step - loss: 0.2505 - val_loss: 0.2501\n",
      "Epoch 90/100\n",
      "56/56 [==============================] - 0s 6ms/step - loss: 0.2506 - val_loss: 0.2504\n",
      "Epoch 91/100\n",
      "56/56 [==============================] - 0s 6ms/step - loss: 0.2498 - val_loss: 0.2524\n",
      "Epoch 92/100\n",
      "56/56 [==============================] - 0s 6ms/step - loss: 0.2509 - val_loss: 0.2550\n",
      "Epoch 93/100\n",
      "56/56 [==============================] - 0s 6ms/step - loss: 0.2500 - val_loss: 0.2510\n",
      "Epoch 94/100\n",
      "56/56 [==============================] - 0s 6ms/step - loss: 0.2508 - val_loss: 0.2509\n",
      "Epoch 95/100\n",
      "56/56 [==============================] - 0s 6ms/step - loss: 0.2513 - val_loss: 0.2503\n",
      "Epoch 96/100\n",
      "56/56 [==============================] - 0s 6ms/step - loss: 0.2507 - val_loss: 0.2530\n",
      "Epoch 97/100\n",
      "56/56 [==============================] - 0s 7ms/step - loss: 0.2510 - val_loss: 0.2510\n",
      "Epoch 98/100\n",
      "56/56 [==============================] - 0s 6ms/step - loss: 0.2502 - val_loss: 0.2501\n",
      "Epoch 99/100\n",
      "56/56 [==============================] - 0s 6ms/step - loss: 0.2504 - val_loss: 0.2572\n",
      "Epoch 100/100\n",
      "56/56 [==============================] - 0s 6ms/step - loss: 0.2513 - val_loss: 0.2522\n",
      "Model: \"sequential\"\n",
      "_________________________________________________________________\n",
      " Layer (type)                Output Shape              Param #   \n",
      "=================================================================\n",
      " simple_rnn (SimpleRNN)      (None, 1, 80)             6960      \n",
      "                                                                 \n",
      " dropout (Dropout)           (None, 1, 80)             0         \n",
      "                                                                 \n",
      " simple_rnn_1 (SimpleRNN)    (None, 100)               18100     \n",
      "                                                                 \n",
      " dropout_1 (Dropout)         (None, 100)               0         \n",
      "                                                                 \n",
      " dense (Dense)               (None, 1)                 101       \n",
      "                                                                 \n",
      "=================================================================\n",
      "Total params: 25,161\n",
      "Trainable params: 25,161\n",
      "Non-trainable params: 0\n",
      "_________________________________________________________________\n"
     ]
    },
    {
     "data": {
      "image/png": "[encoded data removed]",
      "text/plain": [
       "<Figure size 432x288 with 1 Axes>"
      ]
     },
     "metadata": {
      "needs_background": "light"
     },
     "output_type": "display_data"
    }
   ],
   "source": [
    "cp_callback = tf.keras.callbacks.ModelCheckpoint(filepath=checkpoint_save_path,\n",
    "                                                 save_weights_only=True,\n",
    "                                                 save_best_only=True,\n",
    "                                                 monitor='val_loss')\n",
    "\n",
    "_model = model.fit(x_train, y_train, batch_size=batch_size, epochs=epochs, validation_data=(x_test, y_test), validation_freq=validation_freq,\n",
    "                   callbacks=[cp_callback])\n",
    "\n",
    "model.summary()\n",
    "\n",
    "file = open('./weights.txt', 'w')  # 参数提取\n",
    "for v in model.trainable_variables:\n",
    "    file.write(str(v.name) + '\\n')\n",
    "    file.write(str(v.shape) + '\\n')\n",
    "    file.write(str(v.numpy()) + '\\n')\n",
    "file.close()\n",
    "\n",
    "loss = _model.history['loss']\n",
    "val_loss = _model.history['val_loss']\n",
    "\n",
    "plt.plot(loss, label='训练损失')\n",
    "plt.plot(val_loss, label='测试损失')\n",
    "plt.title('训练和测试损失')\n",
    "plt.legend()\n",
    "plt.show()"
   ]
  },
  {
   "cell_type": "code",
   "execution_count": 20,
   "id": "a7bfc942",
   "metadata": {},
   "outputs": [],
   "source": [
    "# 预测\n",
    "# 测试集输入模型进行预测\n",
    "predicted_stock_price = model.predict(x_test)"
   ]
  },
  {
   "cell_type": "code",
   "execution_count": 21,
   "id": "d08f0c99",
   "metadata": {},
   "outputs": [],
   "source": [
    "# 归一时是对所有数据列进行的归一\n",
    "# 补充数据列之后才能进行反归一\n",
    "predicted_df = pd.DataFrame(test_set[seq_len:])\n",
    "predicted_df.iloc[:, list(stock.iloc[0:int(len(stock) / 5 * 4), 1:].columns).index('chan')] = predicted_stock_price\n",
    "predicted_set = predicted_df.values\n",
    "# 对预测数据还原---从（0，1）反归一化到原始范围\n",
    "predicted_stock_price = sc.inverse_transform(predicted_set)\n",
    "# 对真实数据还原---从（0，1）反归一化到原始范围\n",
    "real_stock_price = sc.inverse_transform(test_set[seq_len:])"
   ]
  },
  {
   "cell_type": "code",
   "execution_count": 22,
   "id": "fe90d59a",
   "metadata": {},
   "outputs": [
    {
     "data": {
      "text/plain": [
       "array([[8.36000000e+00, 8.62000000e+00, 8.36000000e+00, 8.59000000e+00,\n",
       "        1.12531094e+08, 4.66994107e-01],\n",
       "       [8.53000000e+00, 8.69000000e+00, 8.53000000e+00, 8.65000000e+00,\n",
       "        9.81910050e+07, 4.65172410e-01],\n",
       "       [8.65000000e+00, 8.72000000e+00, 8.50000000e+00, 8.51000000e+00,\n",
       "        5.29614480e+07, 4.65829760e-01],\n",
       "       ...,\n",
       "       [2.30000000e+01, 2.30000000e+01, 2.24500000e+01, 2.25600000e+01,\n",
       "        1.20978513e+08, 4.73224312e-01],\n",
       "       [2.25500000e+01, 2.28900000e+01, 2.22100000e+01, 2.27300000e+01,\n",
       "        1.14154802e+08, 4.70604181e-01],\n",
       "       [2.25900000e+01, 2.29400000e+01, 2.24400000e+01, 2.24900000e+01,\n",
       "        9.05427410e+07, 4.77671534e-01]])"
      ]
     },
     "execution_count": 22,
     "metadata": {},
     "output_type": "execute_result"
    }
   ],
   "source": [
    "predicted_stock_price"
   ]
  },
  {
   "cell_type": "code",
   "execution_count": 23,
   "id": "4a841942",
   "metadata": {},
   "outputs": [],
   "source": [
    "# 只取涨跌幅\n",
    "real_stock_price = test_set[seq_len:][:,list(stock.iloc[0:int(len(stock) / 5 * 4), 1:].columns).index('chan')]\n",
    "predicted_stock_price = predicted_set[:,list(stock.iloc[0:int(len(stock) / 5 * 4), 1:].columns).index('chan')]"
   ]
  },
  {
   "cell_type": "code",
   "execution_count": 24,
   "id": "fd6c0bec",
   "metadata": {},
   "outputs": [
    {
     "data": {
      "text/plain": [
       "array([0.46699411, 0.46517241, 0.46582976, 0.46241868, 0.46040818,\n",
       "       0.4622612 , 0.46726933, 0.46148854, 0.46766308, 0.46728969,\n",
       "       0.46391577, 0.46774286, 0.46024472, 0.46726227, 0.4616659 ,\n",
       "       0.46668991, 0.46188685, 0.4663451 , 0.46605158, 0.46719605,\n",
       "       0.46263862, 0.46152985, 0.4679108 , 0.46503568, 0.46198916,\n",
       "       0.4625507 , 0.46731502, 0.46111351, 0.461878  , 0.46173799,\n",
       "       0.46141151, 0.46756703, 0.46833241, 0.46762329, 0.46132961,\n",
       "       0.46677822, 0.46692696, 0.46730846, 0.4670091 , 0.46713758,\n",
       "       0.46246633, 0.46206897, 0.46751624, 0.46093953, 0.46063268,\n",
       "       0.46130472, 0.46640405, 0.45604187, 0.46036631, 0.46393082,\n",
       "       0.4645499 , 0.46003723, 0.45946741, 0.45997962, 0.46155205,\n",
       "       0.46576893, 0.45998445, 0.46568015, 0.45846966, 0.46099678,\n",
       "       0.45980677, 0.46721572, 0.46740437, 0.46233147, 0.46670082,\n",
       "       0.46806264, 0.46243495, 0.46242851, 0.46788359, 0.46648377,\n",
       "       0.46794242, 0.46574792, 0.46056947, 0.46477541, 0.4617154 ,\n",
       "       0.46228015, 0.46721393, 0.46467924, 0.45967808, 0.46437046,\n",
       "       0.46102351, 0.46545106, 0.46225727, 0.45987025, 0.46601737,\n",
       "       0.46180877, 0.46736452, 0.46230331, 0.46225467, 0.46232581,\n",
       "       0.4626247 , 0.46779466, 0.46242297, 0.46247754, 0.46815959,\n",
       "       0.46850896, 0.46700209, 0.46280628, 0.46886754, 0.46222425,\n",
       "       0.46868283, 0.46276557, 0.46841258, 0.46247107, 0.46277338,\n",
       "       0.46239203, 0.46264395, 0.46747994, 0.46230373, 0.4607169 ,\n",
       "       0.46034801, 0.46789593, 0.46696758, 0.4673565 , 0.46818915,\n",
       "       0.46802217, 0.46302009, 0.46772137, 0.46309638, 0.46307093,\n",
       "       0.46261653, 0.46245986, 0.4681569 , 0.46127656, 0.46713954,\n",
       "       0.46790802, 0.46250072, 0.46801606, 0.46052355, 0.46633852,\n",
       "       0.46647772, 0.46142554, 0.46633843, 0.4615989 , 0.46191281,\n",
       "       0.46190229, 0.46699369, 0.46716678, 0.46648526, 0.46694663,\n",
       "       0.4620198 , 0.46774951, 0.46251202, 0.46294379, 0.46281493,\n",
       "       0.46780962, 0.4618876 , 0.46800837, 0.46272048, 0.46193913,\n",
       "       0.46226719, 0.46211699, 0.46217424, 0.46296579, 0.46244717,\n",
       "       0.46832022, 0.46826702, 0.46837327, 0.46268088, 0.46839696,\n",
       "       0.4668065 , 0.46287632, 0.46237549, 0.46280733, 0.46820056,\n",
       "       0.46315277, 0.46863422, 0.46787995, 0.4665266 , 0.46214196,\n",
       "       0.46710518, 0.46223807, 0.46233922, 0.46177873, 0.46199095,\n",
       "       0.46753484, 0.46268386, 0.46821302, 0.46309805, 0.46191663,\n",
       "       0.46210575, 0.46255019, 0.46793574, 0.46759298, 0.46313301,\n",
       "       0.46779591, 0.46289152, 0.46782988, 0.46775961, 0.4671765 ,\n",
       "       0.46803382, 0.46829849, 0.4678973 , 0.46315336, 0.46288544,\n",
       "       0.46833938, 0.46776193, 0.46766713, 0.46767282, 0.46811903,\n",
       "       0.46278024, 0.46270069, 0.46737757, 0.46308368, 0.46727699,\n",
       "       0.46769157, 0.46316403, 0.46315899, 0.4668411 , 0.4620263 ,\n",
       "       0.46837828, 0.46799046, 0.46621379, 0.46495011, 0.46242368,\n",
       "       0.4616394 , 0.46352264, 0.46743447, 0.46118808, 0.46026742,\n",
       "       0.46720189, 0.46166143, 0.46022934, 0.46719241, 0.46456385,\n",
       "       0.46173352, 0.46729237, 0.46548387, 0.46574178, 0.4633607 ,\n",
       "       0.4680286 , 0.46942681, 0.46346056, 0.4608815 , 0.46122974,\n",
       "       0.46798933, 0.46332625, 0.46622461, 0.46510735, 0.46114588,\n",
       "       0.46813336, 0.46641216, 0.46653807, 0.46354502, 0.46834576,\n",
       "       0.46093857, 0.46349633, 0.46137416, 0.46779421, 0.46351376,\n",
       "       0.47027564, 0.46500427, 0.45753965, 0.46912047, 0.46895134,\n",
       "       0.46274468, 0.46866122, 0.46696627, 0.4637486 , 0.46118551,\n",
       "       0.46680608, 0.46312582, 0.4698956 , 0.46648115, 0.4641546 ,\n",
       "       0.46369171, 0.46832299, 0.46957341, 0.462556  , 0.46438187,\n",
       "       0.46961546, 0.47033665, 0.4648273 , 0.47024271, 0.46976486,\n",
       "       0.46780646, 0.46555012, 0.46440953, 0.46407664, 0.46472308,\n",
       "       0.46916199, 0.47001922, 0.46483088, 0.47057578, 0.46752065,\n",
       "       0.46363434, 0.47091255, 0.46435538, 0.46569276, 0.47153938,\n",
       "       0.46980223, 0.46949354, 0.46451312, 0.47177988, 0.46522912,\n",
       "       0.46660385, 0.46499455, 0.47154295, 0.46930218, 0.46529597,\n",
       "       0.46510869, 0.46602213, 0.47186464, 0.46520376, 0.4666096 ,\n",
       "       0.46603414, 0.47086239, 0.47099182, 0.47003555, 0.46518806,\n",
       "       0.46965319, 0.46941674, 0.46538755, 0.46987087, 0.46525514,\n",
       "       0.47115034, 0.47217345, 0.47007427, 0.46528214, 0.46675304,\n",
       "       0.4665564 , 0.47220182, 0.46566212, 0.46613574, 0.46470839,\n",
       "       0.47245166, 0.46660274, 0.46655017, 0.47260019, 0.46533522,\n",
       "       0.4645161 , 0.47132188, 0.46641785, 0.47149587, 0.47104532,\n",
       "       0.4660027 , 0.46570116, 0.46884781, 0.46560585, 0.47064131,\n",
       "       0.46534055, 0.46573973, 0.47131371, 0.47124231, 0.46531552,\n",
       "       0.47121853, 0.46632719, 0.47113568, 0.47129038, 0.46717873,\n",
       "       0.46686661, 0.47333425, 0.46733576, 0.46672601, 0.47343516,\n",
       "       0.47335625, 0.47125098, 0.46689528, 0.4671393 , 0.47338894,\n",
       "       0.46633512, 0.47367728, 0.46790665, 0.47315127, 0.46750966,\n",
       "       0.47372791, 0.47221497, 0.47257042, 0.4727627 , 0.467143  ,\n",
       "       0.46790197, 0.46724069, 0.47379881, 0.47422826, 0.46776128,\n",
       "       0.46630117, 0.47255576, 0.46632013, 0.46727866, 0.47082996,\n",
       "       0.46553293, 0.47121042, 0.47158825, 0.47174269, 0.46661797,\n",
       "       0.47277483, 0.4666011 , 0.46671927, 0.47199547, 0.47308695,\n",
       "       0.47290218, 0.46729338, 0.47256741, 0.47102857, 0.46734059,\n",
       "       0.47362205, 0.46744788, 0.47199988, 0.47291034, 0.46759823,\n",
       "       0.46839678, 0.46706975, 0.47276905, 0.47327074, 0.4678095 ,\n",
       "       0.47195491, 0.47278452, 0.4680444 , 0.47348154, 0.46777016,\n",
       "       0.4659372 , 0.47233462, 0.46678746, 0.47272518, 0.47280577,\n",
       "       0.46812573, 0.46835062, 0.47223157, 0.47436035, 0.47336653,\n",
       "       0.47364742, 0.47438532, 0.47435191, 0.47408742, 0.47308439,\n",
       "       0.46951663, 0.46699947, 0.4739086 , 0.46841756, 0.47459328,\n",
       "       0.47506672, 0.46794358, 0.46882507, 0.46928102, 0.47565472,\n",
       "       0.46898085, 0.47459304, 0.46556765, 0.47383463, 0.46691501,\n",
       "       0.46284264, 0.46996531, 0.4718895 , 0.47302854, 0.46688631,\n",
       "       0.47144926, 0.4734951 , 0.47397494, 0.4740558 , 0.47499812,\n",
       "       0.47467682, 0.4686313 , 0.46901569, 0.47402316, 0.47416183,\n",
       "       0.47449481, 0.46744537, 0.47344136, 0.47223619, 0.4662962 ,\n",
       "       0.47108361, 0.46530566, 0.47453475, 0.47507057, 0.46892339,\n",
       "       0.46862325, 0.4754464 , 0.46935546, 0.46869135, 0.46708989,\n",
       "       0.46549404, 0.471331  , 0.46557194, 0.46267807, 0.46985883,\n",
       "       0.47081983, 0.47203431, 0.4731375 , 0.4691669 , 0.47425592,\n",
       "       0.4741931 , 0.46890005, 0.4752484 , 0.47528893, 0.47547632,\n",
       "       0.47305927, 0.47046167, 0.47078803, 0.47616556, 0.47504431,\n",
       "       0.4699415 , 0.469531  , 0.47026682, 0.47667602, 0.47688255,\n",
       "       0.47133923, 0.47119036, 0.47069442, 0.47739267, 0.47712779,\n",
       "       0.4771516 , 0.47041976, 0.47784621, 0.47751743, 0.47850776,\n",
       "       0.47786957, 0.47827607, 0.47842133, 0.47091925, 0.47198397,\n",
       "       0.46919847, 0.47741652, 0.47789642, 0.47056657, 0.46986133,\n",
       "       0.46990877, 0.47666004, 0.47063982, 0.46949899, 0.47014135,\n",
       "       0.47032526, 0.47618628, 0.46986437, 0.47538063, 0.4773221 ,\n",
       "       0.47013736, 0.47667891, 0.47666371, 0.47698879, 0.4759202 ,\n",
       "       0.47048527, 0.4706066 , 0.47750431, 0.47018397, 0.47694564,\n",
       "       0.46993521, 0.46731496, 0.46817565, 0.47543564, 0.47533241,\n",
       "       0.47695419, 0.47525582, 0.47381106, 0.47575188, 0.47585535,\n",
       "       0.46943861, 0.4692103 , 0.47541267, 0.4699831 , 0.47525677,\n",
       "       0.47008711, 0.47550464, 0.47009197, 0.47764683, 0.47539154,\n",
       "       0.47826189, 0.46971887, 0.47783065, 0.47069597, 0.47882041,\n",
       "       0.4717142 , 0.47857648, 0.47213298, 0.47109944, 0.47697571,\n",
       "       0.47799611, 0.47058114, 0.47110206, 0.47819871, 0.47197431,\n",
       "       0.47190249, 0.47040072, 0.47216034, 0.47790891, 0.47739378,\n",
       "       0.47277206, 0.47835469, 0.47903728, 0.47261024, 0.47660387,\n",
       "       0.47864747, 0.472462  , 0.47879595, 0.47067067, 0.47252828,\n",
       "       0.4802413 , 0.47881579, 0.4788968 , 0.47305104, 0.47269821,\n",
       "       0.47997797, 0.47237158, 0.47961801, 0.48083478, 0.4734174 ,\n",
       "       0.47997916, 0.48044825, 0.47988173, 0.48102248, 0.48214918,\n",
       "       0.47462058, 0.48247883, 0.47526759, 0.47497708, 0.48200059,\n",
       "       0.47543901, 0.48216894, 0.48214319, 0.48244745, 0.484364  ,\n",
       "       0.47602436, 0.47657454, 0.47665435, 0.47652259, 0.48386264,\n",
       "       0.47680977, 0.47521526, 0.47230595, 0.4818286 , 0.48214221,\n",
       "       0.48272878, 0.48297322, 0.47503585, 0.48325205, 0.4732601 ,\n",
       "       0.48234743, 0.48266447, 0.48321322, 0.48310748, 0.4766168 ,\n",
       "       0.48323268, 0.48437804, 0.47659007, 0.48459131, 0.47711256,\n",
       "       0.47637755, 0.4848271 , 0.48428994, 0.48470867, 0.48615509,\n",
       "       0.47821414, 0.48583961, 0.48448187, 0.47718096, 0.486375  ,\n",
       "       0.48665285, 0.47880301, 0.48739833, 0.47962272, 0.47931561,\n",
       "       0.47847289, 0.4871397 , 0.48663658, 0.47865391, 0.4865222 ,\n",
       "       0.48713288, 0.48741284, 0.47873691, 0.47778463, 0.48662189,\n",
       "       0.48676115, 0.48760402, 0.48851416, 0.48859277, 0.48034316,\n",
       "       0.48908246, 0.48942071, 0.47964323, 0.48933288, 0.48910412,\n",
       "       0.49095535, 0.48119158, 0.49258953, 0.49403912, 0.48042107,\n",
       "       0.47902977, 0.48980695, 0.49201649, 0.47992936, 0.49099302,\n",
       "       0.49104241, 0.48233366, 0.49169067, 0.48233968, 0.49268225,\n",
       "       0.48277488, 0.49240106, 0.49325746, 0.49271297, 0.49273485,\n",
       "       0.48321015, 0.48319188, 0.49311155, 0.49450374, 0.4962638 ,\n",
       "       0.48527253, 0.48286074, 0.48281249, 0.49375805, 0.48250061,\n",
       "       0.49271935, 0.48218364, 0.49353474, 0.48407382, 0.48421651,\n",
       "       0.48209637, 0.493476  , 0.48255891, 0.47746003, 0.48933703,\n",
       "       0.49028903, 0.48135403, 0.47992373, 0.47856602, 0.48857641,\n",
       "       0.48995462, 0.4802959 , 0.48953038, 0.48116416, 0.47838002,\n",
       "       0.48840463, 0.48811856, 0.48973551, 0.48965329, 0.47405943,\n",
       "       0.48745924, 0.48888674, 0.48053369, 0.48850536, 0.48019657,\n",
       "       0.47858736, 0.47324041, 0.4854165 , 0.48621577, 0.4855642 ,\n",
       "       0.48585361, 0.48523894, 0.47769943, 0.4779647 , 0.47848544,\n",
       "       0.48415092, 0.47666255, 0.4772574 , 0.4858934 , 0.48599565,\n",
       "       0.47585616, 0.47582829, 0.48426917, 0.47508574, 0.47301996,\n",
       "       0.47484577, 0.47157857, 0.4788886 , 0.47984129, 0.47629851,\n",
       "       0.48316795, 0.483394  , 0.47459179, 0.48238772, 0.4805297 ,\n",
       "       0.47828552, 0.47995985, 0.47398943, 0.47455034, 0.47945398,\n",
       "       0.47427279, 0.47638762, 0.47445726, 0.47591653, 0.48421976,\n",
       "       0.47729793, 0.47311229, 0.46978444, 0.47410631, 0.47413608,\n",
       "       0.48212424, 0.47978696, 0.47490329, 0.47856438, 0.4740257 ,\n",
       "       0.48306733, 0.48022604, 0.47466218, 0.47413644, 0.48027647,\n",
       "       0.47467291, 0.47156247, 0.47021961, 0.48064512, 0.47326922,\n",
       "       0.46978945, 0.47974789, 0.4722105 , 0.47968644, 0.47217652,\n",
       "       0.47899932, 0.47223315, 0.47515789, 0.4759244 , 0.47116116,\n",
       "       0.47201926, 0.46910095, 0.47131515, 0.47076231, 0.47266906,\n",
       "       0.479729  , 0.47222421, 0.47694036, 0.46554154, 0.47017229,\n",
       "       0.4700295 , 0.4719426 , 0.47456658, 0.47854888, 0.47217232,\n",
       "       0.47262248, 0.48232019, 0.47081107, 0.47197962, 0.48069537,\n",
       "       0.47169939, 0.47362182, 0.47974926, 0.4707247 , 0.46701616,\n",
       "       0.47859442, 0.47867876, 0.46472788, 0.47712579, 0.4687047 ,\n",
       "       0.46648592, 0.47142142, 0.47557983, 0.47235739, 0.47195771,\n",
       "       0.47385451, 0.4809621 , 0.47237983, 0.4734478 , 0.47211987,\n",
       "       0.47987342, 0.47412673, 0.47261825, 0.48066199, 0.47358787,\n",
       "       0.47064206, 0.48082668, 0.47326317, 0.48090848, 0.4802686 ,\n",
       "       0.47434396, 0.4735406 , 0.48203954, 0.4819341 , 0.47439981,\n",
       "       0.47264051, 0.48004031, 0.47341016, 0.47257268, 0.47858363,\n",
       "       0.47339004, 0.47332126, 0.47209072, 0.46853986, 0.47732863,\n",
       "       0.47872901, 0.47045836, 0.47724658, 0.47844881, 0.47611296,\n",
       "       0.47233102, 0.4699859 , 0.46910658, 0.47519445, 0.47108746,\n",
       "       0.47874945, 0.47201169, 0.47832173, 0.47150502, 0.47642606,\n",
       "       0.47783196, 0.47322431, 0.47060418, 0.47767153])"
      ]
     },
     "execution_count": 24,
     "metadata": {},
     "output_type": "execute_result"
    }
   ],
   "source": [
    "predicted_stock_price"
   ]
  },
  {
   "cell_type": "code",
   "execution_count": 34,
   "id": "2d929347",
   "metadata": {},
   "outputs": [
    {
     "data": {
      "image/png": "[encoded data removed]",
      "text/plain": [
       "<Figure size 432x288 with 1 Axes>"
      ]
     },
     "metadata": {
      "needs_background": "light"
     },
     "output_type": "display_data"
    }
   ],
   "source": [
    "# 画出真实数据和预测数据的对比曲线\n",
    "x = real_stock_price[:30]\n",
    "y = predicted_stock_price[:30]\n",
    "plt.scatter(list(range(len(x))),x,c='red',label='实时涨跌')\n",
    "plt.scatter(list(range(len(y))),y,c='blue',label='预测涨跌')\n",
    "plt.title('股票涨跌预测')\n",
    "plt.xlabel('时间')\n",
    "plt.ylabel('股票涨跌')\n",
    "plt.legend()\n",
    "plt.show()"
   ]
  },
  {
   "cell_type": "code",
   "execution_count": 26,
   "id": "dd0c9962",
   "metadata": {},
   "outputs": [
    {
     "name": "stdout",
     "output_type": "stream",
     "text": [
      "均方误差: 0.252181\n",
      "均方根误差: 0.502176\n",
      "平均绝对误差: 0.501335\n"
     ]
    }
   ],
   "source": [
    "# 评估\n",
    "# calculate MSE 均方误差 ---> E[(预测值-真实值)^2] (预测值减真实值求平方后求均值)\n",
    "mse = mean_squared_error(predicted_stock_price, real_stock_price)\n",
    "# calculate RMSE 均方根误差--->sqrt[MSE]    (对均方误差开方)\n",
    "rmse = math.sqrt(mean_squared_error(predicted_stock_price, real_stock_price))\n",
    "# calculate MAE 平均绝对误差----->E[|预测值-真实值|](预测值减真实值求绝对值后求均值）\n",
    "mae = mean_absolute_error(predicted_stock_price, real_stock_price)\n",
    "print('均方误差: %.6f' % mse)\n",
    "print('均方根误差: %.6f' % rmse)\n",
    "print('平均绝对误差: %.6f' % mae)"
   ]
  },
  {
   "cell_type": "code",
   "execution_count": 27,
   "id": "551cf138",
   "metadata": {},
   "outputs": [
    {
     "name": "stdout",
     "output_type": "stream",
     "text": [
      "准确率：0.13199487541403088\n"
     ]
    }
   ],
   "source": [
    "#ACC\n",
    "error = 0\n",
    "summery = 0\n",
    "for i in range(24):\n",
    "    error += abs(predicted_stock_price[i] - real_stock_price[i])\n",
    "    summery += real_stock_price[i]\n",
    "acc = 1 - error/summery\n",
    "print(\"准确率：{}\".format(acc))"
   ]
  },
  {
   "cell_type": "code",
   "execution_count": null,
   "id": "c429f402",
   "metadata": {},
   "outputs": [],
   "source": []
  }
 ],
 "metadata": {
  "kernelspec": {
   "display_name": "deep",
   "language": "python",
   "name": "deep"
  },
  "language_info": {
   "codemirror_mode": {
    "name": "ipython",
    "version": 3
   },
   "file_extension": ".py",
   "mimetype": "text/x-python",
   "name": "python",
   "nbconvert_exporter": "python",
   "pygments_lexer": "ipython3",
   "version": "3.9.7"
  }
 },
 "nbformat": 4,
 "nbformat_minor": 5
}
