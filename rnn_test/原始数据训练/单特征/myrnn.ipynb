{
 "cells": [
  {
   "cell_type": "code",
   "execution_count": 1,
   "id": "04eb2284",
   "metadata": {},
   "outputs": [],
   "source": [
    "import numpy as np\n",
    "import tensorflow as tf\n",
    "from tensorflow.keras.layers import Dropout, Dense, SimpleRNN\n",
    "import matplotlib.pyplot as plt\n",
    "import os\n",
    "import pandas as pd\n",
    "from sklearn.preprocessing import MinMaxScaler\n",
    "from sklearn.metrics import mean_squared_error, mean_absolute_error\n",
    "import math"
   ]
  },
  {
   "cell_type": "code",
   "execution_count": 2,
   "id": "d3a06b0f",
   "metadata": {
    "scrolled": true
   },
   "outputs": [
    {
     "name": "stdout",
     "output_type": "stream",
     "text": [
      "numpy 1.21.4\n",
      "pandas 1.3.4\n",
      "tensorflow 2.7.0\n"
     ]
    }
   ],
   "source": [
    "for module in np, pd, tf:\n",
    "     print (module.__name__, module.__version__)"
   ]
  },
  {
   "cell_type": "code",
   "execution_count": 3,
   "id": "8d798630",
   "metadata": {},
   "outputs": [],
   "source": [
    "# 这两行代码解决 plt 中文显示的问题\n",
    "plt.rcParams['font.sans-serif'] = ['SimHei']\n",
    "plt.rcParams['axes.unicode_minus'] = False"
   ]
  },
  {
   "cell_type": "code",
   "execution_count": 4,
   "id": "ea365654",
   "metadata": {
    "scrolled": true
   },
   "outputs": [],
   "source": [
    "stock = pd.read_csv('../dataset/600031.csv')  # 读取股票文件"
   ]
  },
  {
   "cell_type": "code",
   "execution_count": 5,
   "id": "381a64a4",
   "metadata": {},
   "outputs": [
    {
     "data": {
      "text/html": [
       "<div>\n",
       "<style scoped>\n",
       "    .dataframe tbody tr th:only-of-type {\n",
       "        vertical-align: middle;\n",
       "    }\n",
       "\n",
       "    .dataframe tbody tr th {\n",
       "        vertical-align: top;\n",
       "    }\n",
       "\n",
       "    .dataframe thead th {\n",
       "        text-align: right;\n",
       "    }\n",
       "</style>\n",
       "<table border=\"1\" class=\"dataframe\">\n",
       "  <thead>\n",
       "    <tr style=\"text-align: right;\">\n",
       "      <th></th>\n",
       "      <th>日期</th>\n",
       "      <th>开盘</th>\n",
       "      <th>收盘</th>\n",
       "      <th>最高</th>\n",
       "      <th>最低</th>\n",
       "      <th>成交量</th>\n",
       "      <th>成交额</th>\n",
       "      <th>振幅</th>\n",
       "      <th>涨跌幅</th>\n",
       "      <th>涨跌额</th>\n",
       "      <th>换手率</th>\n",
       "    </tr>\n",
       "  </thead>\n",
       "  <tbody>\n",
       "    <tr>\n",
       "      <th>0</th>\n",
       "      <td>2020-11-09</td>\n",
       "      <td>27.80</td>\n",
       "      <td>27.54</td>\n",
       "      <td>28.14</td>\n",
       "      <td>26.89</td>\n",
       "      <td>856249</td>\n",
       "      <td>2348800992</td>\n",
       "      <td>4.55</td>\n",
       "      <td>0.18</td>\n",
       "      <td>0.05</td>\n",
       "      <td>1.01</td>\n",
       "    </tr>\n",
       "    <tr>\n",
       "      <th>1</th>\n",
       "      <td>2020-11-10</td>\n",
       "      <td>27.98</td>\n",
       "      <td>27.32</td>\n",
       "      <td>27.98</td>\n",
       "      <td>26.91</td>\n",
       "      <td>558824</td>\n",
       "      <td>1523209504</td>\n",
       "      <td>3.89</td>\n",
       "      <td>-0.80</td>\n",
       "      <td>-0.22</td>\n",
       "      <td>0.66</td>\n",
       "    </tr>\n",
       "    <tr>\n",
       "      <th>2</th>\n",
       "      <td>2020-11-11</td>\n",
       "      <td>27.33</td>\n",
       "      <td>28.31</td>\n",
       "      <td>28.86</td>\n",
       "      <td>27.21</td>\n",
       "      <td>1015374</td>\n",
       "      <td>2873205488</td>\n",
       "      <td>6.04</td>\n",
       "      <td>3.62</td>\n",
       "      <td>0.99</td>\n",
       "      <td>1.20</td>\n",
       "    </tr>\n",
       "    <tr>\n",
       "      <th>3</th>\n",
       "      <td>2020-11-12</td>\n",
       "      <td>28.31</td>\n",
       "      <td>28.70</td>\n",
       "      <td>28.88</td>\n",
       "      <td>27.91</td>\n",
       "      <td>718595</td>\n",
       "      <td>2041558432</td>\n",
       "      <td>3.43</td>\n",
       "      <td>1.38</td>\n",
       "      <td>0.39</td>\n",
       "      <td>0.85</td>\n",
       "    </tr>\n",
       "    <tr>\n",
       "      <th>4</th>\n",
       "      <td>2020-11-13</td>\n",
       "      <td>28.28</td>\n",
       "      <td>28.16</td>\n",
       "      <td>28.50</td>\n",
       "      <td>27.60</td>\n",
       "      <td>674807</td>\n",
       "      <td>1888773520</td>\n",
       "      <td>3.14</td>\n",
       "      <td>-1.88</td>\n",
       "      <td>-0.54</td>\n",
       "      <td>0.80</td>\n",
       "    </tr>\n",
       "  </tbody>\n",
       "</table>\n",
       "</div>"
      ],
      "text/plain": [
       "           日期     开盘     收盘     最高     最低      成交量         成交额    振幅   涨跌幅  \\\n",
       "0  2020-11-09  27.80  27.54  28.14  26.89   856249  2348800992  4.55  0.18   \n",
       "1  2020-11-10  27.98  27.32  27.98  26.91   558824  1523209504  3.89 -0.80   \n",
       "2  2020-11-11  27.33  28.31  28.86  27.21  1015374  2873205488  6.04  3.62   \n",
       "3  2020-11-12  28.31  28.70  28.88  27.91   718595  2041558432  3.43  1.38   \n",
       "4  2020-11-13  28.28  28.16  28.50  27.60   674807  1888773520  3.14 -1.88   \n",
       "\n",
       "    涨跌额   换手率  \n",
       "0  0.05  1.01  \n",
       "1 -0.22  0.66  \n",
       "2  0.99  1.20  \n",
       "3  0.39  0.85  \n",
       "4 -0.54  0.80  "
      ]
     },
     "execution_count": 5,
     "metadata": {},
     "output_type": "execute_result"
    }
   ],
   "source": [
    "stock.head()"
   ]
  },
  {
   "cell_type": "markdown",
   "id": "f9e11616",
   "metadata": {},
   "source": [
    "### 用收盘价预测股价\n",
    "### 将数据集分成训练集：测试集 == 4:1"
   ]
  },
  {
   "cell_type": "code",
   "execution_count": 6,
   "id": "b34a5c82",
   "metadata": {},
   "outputs": [],
   "source": [
    "# 取收盘价特征\n",
    "training_set = stock.iloc[0:int(len(stock) / 5 * 4), 2:3].values\n",
    "test_set = stock.iloc[int(len(stock) / 5 * 4):, 2:3].values"
   ]
  },
  {
   "cell_type": "code",
   "execution_count": 7,
   "id": "640134f4",
   "metadata": {},
   "outputs": [
    {
     "data": {
      "text/plain": [
       "((201, 1), (51, 1))"
      ]
     },
     "execution_count": 7,
     "metadata": {},
     "output_type": "execute_result"
    }
   ],
   "source": [
    "training_set.shape , test_set.shape"
   ]
  },
  {
   "cell_type": "markdown",
   "id": "1437e872",
   "metadata": {},
   "source": [
    "# 归一化处理（进行缩放）"
   ]
  },
  {
   "cell_type": "code",
   "execution_count": 8,
   "id": "cd9d2883",
   "metadata": {},
   "outputs": [],
   "source": [
    "# 归一化\n",
    "sc = MinMaxScaler(feature_range=(0, 1))  # 定义归一化：归一化到(0，1)之间\n",
    "# 缩放\n",
    "training_set_scaled = sc.fit_transform(training_set)  # 求得训练集的最大值，最小值这些训练集固有的属性，并在训练集上进行归一化\n",
    "test_set = sc.transform(test_set)  # 利用训练集的属性对测试集进行归一化"
   ]
  },
  {
   "cell_type": "code",
   "execution_count": 9,
   "id": "bf700d1f",
   "metadata": {},
   "outputs": [],
   "source": [
    "# 数据参数：\n",
    "# 步进值\n",
    "seq_len = 5"
   ]
  },
  {
   "cell_type": "markdown",
   "id": "9005792e",
   "metadata": {},
   "source": [
    "# 训练集处理"
   ]
  },
  {
   "cell_type": "code",
   "execution_count": 10,
   "id": "16df04c4",
   "metadata": {},
   "outputs": [],
   "source": [
    "x_train = []\n",
    "y_train = []\n",
    "# 数据进行分组\n",
    "for i in range(5, len(training_set_scaled)):\n",
    "    x_train.append(training_set_scaled[i - seq_len:i, 0])\n",
    "    y_train.append(training_set_scaled[i, 0])\n",
    "\n",
    "# 对训练集进行打乱\n",
    "np.random.seed(7)\n",
    "np.random.shuffle(x_train)\n",
    "np.random.seed(7)\n",
    "np.random.shuffle(y_train)\n",
    "tf.random.set_seed(7)\n",
    "\n",
    "# 将训练集由list格式变为array格式\n",
    "x_train, y_train = np.array(x_train), np.array(y_train)\n",
    "x_train = np.reshape(x_train, (x_train.shape[0], seq_len, 1))"
   ]
  },
  {
   "cell_type": "markdown",
   "id": "d60e7ecc",
   "metadata": {},
   "source": [
    "# 测试集处理"
   ]
  },
  {
   "cell_type": "code",
   "execution_count": 11,
   "id": "b9e187ff",
   "metadata": {},
   "outputs": [],
   "source": [
    "x_test = []\n",
    "y_test = []\n",
    "\n",
    "# 利用for循环，遍历整个测试集，提取测试集中连续5(seq_len)天的开盘价作为输入特征x_train，第6(seq_len+1)天的数据作为标签\n",
    "for i in range(seq_len, len(test_set)):\n",
    "    x_test.append(test_set[i - seq_len:i, 0])\n",
    "    y_test.append(test_set[i, 0])\n",
    "\n",
    "# 测试集变array并reshape为符合RNN输入要求：[送入样本数， 循环核时间展开步数， 每个时间步输入特征个数]\n",
    "x_test, y_test = np.array(x_test), np.array(y_test)\n",
    "x_test = np.reshape(x_test, (x_test.shape[0], seq_len, 1))"
   ]
  },
  {
   "cell_type": "markdown",
   "id": "7bfede67",
   "metadata": {},
   "source": [
    "# 构建模型\n",
    "\n",
    "### 序列化建模，一般步骤为：\n",
    "\n",
    "　　* 1、实例化一个Sequential类，该类是继承于Model类；\n",
    "\n",
    "　　* 2、添加所需要的神经网络层；\n",
    "\n",
    "　　* 3、用compile进行编译模型；\n",
    "\n",
    "　　* 4、用fit训练模型；\n",
    "\n",
    "　　* 5、用predict预测。"
   ]
  },
  {
   "cell_type": "code",
   "execution_count": 12,
   "id": "915a6f87",
   "metadata": {},
   "outputs": [],
   "source": [
    "model = tf.keras.Sequential([\n",
    "    SimpleRNN(80, return_sequences=True),\n",
    "    Dropout(0.2),\n",
    "    SimpleRNN(100),\n",
    "    Dropout(0.2),\n",
    "    Dense(1)\n",
    "])"
   ]
  },
  {
   "cell_type": "code",
   "execution_count": 13,
   "id": "13e2a40d",
   "metadata": {},
   "outputs": [],
   "source": [
    "model.compile(optimizer=tf.keras.optimizers.Adam(0.001),loss='mean_squared_error')  \n",
    "# 损失函数用均方误差\n",
    "# 该应用只观测loss数值，不观测准确率，所以删去metrics选项，一会在每个epoch迭代显示时只显示loss值"
   ]
  },
  {
   "cell_type": "markdown",
   "id": "4feb7c32",
   "metadata": {},
   "source": [
    "# 预测一次，并保存预测结构，用于之后的验证"
   ]
  },
  {
   "cell_type": "code",
   "execution_count": 14,
   "id": "d6ee0eca",
   "metadata": {},
   "outputs": [
    {
     "name": "stdout",
     "output_type": "stream",
     "text": [
      "-------------load the model-----------------\n"
     ]
    }
   ],
   "source": [
    "checkpoint_save_path = \"./checkpoint/rnn_stock.ckpt\"\n",
    "if os.path.exists(checkpoint_save_path + '.index'):\n",
    "    print('-------------load the model-----------------')\n",
    "    model.load_weights(checkpoint_save_path)\n"
   ]
  },
  {
   "cell_type": "markdown",
   "id": "9af12663",
   "metadata": {},
   "source": [
    "# 参数详解：\n",
    "* x=None, #输入的x值\n",
    "* y=None, #输入的y标签值\n",
    "* batch_size=None, #整数 ，每次梯度更新的样本数即批量大小。未指定，默认为32。\n",
    "* epochs=1, #迭代次数\n",
    "* verbose=1, #整数，代表以什么形式来展示日志状态，\n",
    "* verbose = 0 为不在标准输出流输出日志信息，verbose = 1 为输出进度条记录，verbose = 2 为每个epoch输出一行记录\n",
    "* callbacks=None, #回调函数，这个list中的回调函数将会在训练过程中的适当时机被调用，参考回调函数\n",
    "* validation_split=0.0, #浮点数0-1之间，用作验证集的训练数据的比例。模型将分出一部分不会被训练的验证数据，并将在每一轮结束时评估这些验证数据的误差和任何其他模型指标。\n",
    "* validation_data=None, #这个参数会覆盖 validation_split\n",
    "   即两个函数只能存在一个，它的输入为元组 (x_val，y_val)，这作为验证数据。\n",
    "* shuffle=True, #布尔值。是否在每轮迭代之前混洗数据\n",
    "* class_weight=None,\n",
    "* sample_weight=None, \n",
    "* initial_epoch=0, \n",
    "* steps_per_epoch=None, #一个epoch包含的步数（每一步是一个batch的数据送入）\n",
    "   当使用如TensorFlow数据Tensor之类的输入张量进行训练时，默认的None代表自动分割，即数据集样本数/batch样本数。\n",
    "* validation_steps=None, #在验证集上的step总数，仅当steps_per_epoch被指定时有用。\n",
    "* validation_freq=1, #指使用验证集实施验证的频率。当等于1时代表每个epoch结束都验证一次\n",
    "* max_queue_size=10,\n",
    "* workers=1,\n",
    "* use_multiprocessing=False   "
   ]
  },
  {
   "cell_type": "code",
   "execution_count": 15,
   "id": "195133aa",
   "metadata": {},
   "outputs": [],
   "source": [
    "# 训练参数\n",
    "batch_size = 64\n",
    "epochs = 100\n",
    "validation_freq=1\n",
    "# 等等"
   ]
  },
  {
   "cell_type": "code",
   "execution_count": 16,
   "id": "d9e2df5b",
   "metadata": {},
   "outputs": [
    {
     "name": "stdout",
     "output_type": "stream",
     "text": [
      "Epoch 1/100\n",
      "4/4 [==============================] - 3s 162ms/step - loss: 0.0047 - val_loss: 3.5782e-04\n",
      "Epoch 2/100\n",
      "4/4 [==============================] - 0s 19ms/step - loss: 0.0040 - val_loss: 6.3953e-04\n",
      "Epoch 3/100\n",
      "4/4 [==============================] - 0s 19ms/step - loss: 0.0040 - val_loss: 7.9248e-04\n",
      "Epoch 4/100\n",
      "4/4 [==============================] - 0s 29ms/step - loss: 0.0040 - val_loss: 6.7095e-04\n",
      "Epoch 5/100\n",
      "4/4 [==============================] - 0s 27ms/step - loss: 0.0034 - val_loss: 7.7306e-04\n",
      "Epoch 6/100\n",
      "4/4 [==============================] - 0s 21ms/step - loss: 0.0039 - val_loss: 8.3483e-04\n",
      "Epoch 7/100\n",
      "4/4 [==============================] - 0s 21ms/step - loss: 0.0034 - val_loss: 5.8372e-04\n",
      "Epoch 8/100\n",
      "4/4 [==============================] - 0s 21ms/step - loss: 0.0039 - val_loss: 4.2337e-04\n",
      "Epoch 9/100\n",
      "4/4 [==============================] - 0s 29ms/step - loss: 0.0042 - val_loss: 4.1443e-04\n",
      "Epoch 10/100\n",
      "4/4 [==============================] - 0s 31ms/step - loss: 0.0046 - val_loss: 6.5804e-04\n",
      "Epoch 11/100\n",
      "4/4 [==============================] - 0s 28ms/step - loss: 0.0043 - val_loss: 7.1344e-04\n",
      "Epoch 12/100\n",
      "4/4 [==============================] - 0s 24ms/step - loss: 0.0038 - val_loss: 6.9855e-04\n",
      "Epoch 13/100\n",
      "4/4 [==============================] - 0s 23ms/step - loss: 0.0040 - val_loss: 8.8228e-04\n",
      "Epoch 14/100\n",
      "4/4 [==============================] - 0s 20ms/step - loss: 0.0050 - val_loss: 6.1363e-04\n",
      "Epoch 15/100\n",
      "4/4 [==============================] - 0s 42ms/step - loss: 0.0043 - val_loss: 3.4776e-04\n",
      "Epoch 16/100\n",
      "4/4 [==============================] - 0s 41ms/step - loss: 0.0047 - val_loss: 3.2721e-04\n",
      "Epoch 17/100\n",
      "4/4 [==============================] - 0s 22ms/step - loss: 0.0047 - val_loss: 3.8915e-04\n",
      "Epoch 18/100\n",
      "4/4 [==============================] - 0s 24ms/step - loss: 0.0045 - val_loss: 4.8886e-04\n",
      "Epoch 19/100\n",
      "4/4 [==============================] - 0s 24ms/step - loss: 0.0053 - val_loss: 3.7028e-04\n",
      "Epoch 20/100\n",
      "4/4 [==============================] - 0s 24ms/step - loss: 0.0038 - val_loss: 3.5191e-04\n",
      "Epoch 21/100\n",
      "4/4 [==============================] - 0s 21ms/step - loss: 0.0045 - val_loss: 4.5052e-04\n",
      "Epoch 22/100\n",
      "4/4 [==============================] - 0s 20ms/step - loss: 0.0038 - val_loss: 5.4841e-04\n",
      "Epoch 23/100\n",
      "4/4 [==============================] - 0s 18ms/step - loss: 0.0037 - val_loss: 5.5375e-04\n",
      "Epoch 24/100\n",
      "4/4 [==============================] - 0s 18ms/step - loss: 0.0040 - val_loss: 5.1051e-04\n",
      "Epoch 25/100\n",
      "4/4 [==============================] - 0s 20ms/step - loss: 0.0043 - val_loss: 5.5879e-04\n",
      "Epoch 26/100\n",
      "4/4 [==============================] - 0s 19ms/step - loss: 0.0032 - val_loss: 6.1769e-04\n",
      "Epoch 27/100\n",
      "4/4 [==============================] - 0s 19ms/step - loss: 0.0040 - val_loss: 4.5261e-04\n",
      "Epoch 28/100\n",
      "4/4 [==============================] - 0s 29ms/step - loss: 0.0034 - val_loss: 3.0531e-04\n",
      "Epoch 29/100\n",
      "4/4 [==============================] - 0s 19ms/step - loss: 0.0040 - val_loss: 3.0768e-04\n",
      "Epoch 30/100\n",
      "4/4 [==============================] - 0s 17ms/step - loss: 0.0037 - val_loss: 3.5895e-04\n",
      "Epoch 31/100\n",
      "4/4 [==============================] - 0s 20ms/step - loss: 0.0038 - val_loss: 3.9166e-04\n",
      "Epoch 32/100\n",
      "4/4 [==============================] - 0s 19ms/step - loss: 0.0038 - val_loss: 4.6793e-04\n",
      "Epoch 33/100\n",
      "4/4 [==============================] - 0s 20ms/step - loss: 0.0038 - val_loss: 4.8909e-04\n",
      "Epoch 34/100\n",
      "4/4 [==============================] - 0s 20ms/step - loss: 0.0035 - val_loss: 4.1352e-04\n",
      "Epoch 35/100\n",
      "4/4 [==============================] - 0s 19ms/step - loss: 0.0033 - val_loss: 3.7736e-04\n",
      "Epoch 36/100\n",
      "4/4 [==============================] - 0s 23ms/step - loss: 0.0034 - val_loss: 3.9972e-04\n",
      "Epoch 37/100\n",
      "4/4 [==============================] - 0s 23ms/step - loss: 0.0044 - val_loss: 4.2946e-04\n",
      "Epoch 38/100\n",
      "4/4 [==============================] - 0s 22ms/step - loss: 0.0035 - val_loss: 5.0316e-04\n",
      "Epoch 39/100\n",
      "4/4 [==============================] - 0s 17ms/step - loss: 0.0043 - val_loss: 3.9913e-04\n",
      "Epoch 40/100\n",
      "4/4 [==============================] - 0s 18ms/step - loss: 0.0034 - val_loss: 3.2349e-04\n",
      "Epoch 41/100\n",
      "4/4 [==============================] - 0s 21ms/step - loss: 0.0037 - val_loss: 3.4063e-04\n",
      "Epoch 42/100\n",
      "4/4 [==============================] - 0s 24ms/step - loss: 0.0033 - val_loss: 3.2568e-04\n",
      "Epoch 43/100\n",
      "4/4 [==============================] - 0s 18ms/step - loss: 0.0037 - val_loss: 3.3342e-04\n",
      "Epoch 44/100\n",
      "4/4 [==============================] - 0s 19ms/step - loss: 0.0032 - val_loss: 3.6487e-04\n",
      "Epoch 45/100\n",
      "4/4 [==============================] - 0s 19ms/step - loss: 0.0033 - val_loss: 4.7446e-04\n",
      "Epoch 46/100\n",
      "4/4 [==============================] - 0s 18ms/step - loss: 0.0042 - val_loss: 6.0513e-04\n",
      "Epoch 47/100\n",
      "4/4 [==============================] - 0s 19ms/step - loss: 0.0038 - val_loss: 9.0047e-04\n",
      "Epoch 48/100\n",
      "4/4 [==============================] - 0s 19ms/step - loss: 0.0037 - val_loss: 8.8742e-04\n",
      "Epoch 49/100\n",
      "4/4 [==============================] - 0s 19ms/step - loss: 0.0039 - val_loss: 5.9902e-04\n",
      "Epoch 50/100\n",
      "4/4 [==============================] - 0s 19ms/step - loss: 0.0051 - val_loss: 3.6970e-04\n",
      "Epoch 51/100\n",
      "4/4 [==============================] - 0s 20ms/step - loss: 0.0041 - val_loss: 3.4908e-04\n",
      "Epoch 52/100\n",
      "4/4 [==============================] - 0s 18ms/step - loss: 0.0037 - val_loss: 4.3174e-04\n",
      "Epoch 53/100\n",
      "4/4 [==============================] - 0s 24ms/step - loss: 0.0038 - val_loss: 3.2404e-04\n",
      "Epoch 54/100\n",
      "4/4 [==============================] - 0s 22ms/step - loss: 0.0034 - val_loss: 3.5411e-04\n",
      "Epoch 55/100\n",
      "4/4 [==============================] - 0s 30ms/step - loss: 0.0034 - val_loss: 5.3971e-04\n",
      "Epoch 56/100\n",
      "4/4 [==============================] - 0s 27ms/step - loss: 0.0033 - val_loss: 6.9492e-04\n",
      "Epoch 57/100\n",
      "4/4 [==============================] - 0s 24ms/step - loss: 0.0040 - val_loss: 5.4217e-04\n",
      "Epoch 58/100\n",
      "4/4 [==============================] - 0s 25ms/step - loss: 0.0046 - val_loss: 4.2365e-04\n",
      "Epoch 59/100\n",
      "4/4 [==============================] - 0s 18ms/step - loss: 0.0032 - val_loss: 4.8043e-04\n",
      "Epoch 60/100\n",
      "4/4 [==============================] - 0s 18ms/step - loss: 0.0058 - val_loss: 3.5051e-04\n",
      "Epoch 61/100\n",
      "4/4 [==============================] - 0s 29ms/step - loss: 0.0039 - val_loss: 2.9736e-04\n",
      "Epoch 62/100\n",
      "4/4 [==============================] - 0s 18ms/step - loss: 0.0049 - val_loss: 3.4702e-04\n",
      "Epoch 63/100\n",
      "4/4 [==============================] - 0s 16ms/step - loss: 0.0039 - val_loss: 3.3780e-04\n",
      "Epoch 64/100\n",
      "4/4 [==============================] - 0s 18ms/step - loss: 0.0032 - val_loss: 3.6698e-04\n",
      "Epoch 65/100\n",
      "4/4 [==============================] - 0s 18ms/step - loss: 0.0035 - val_loss: 5.1616e-04\n",
      "Epoch 66/100\n",
      "4/4 [==============================] - 0s 27ms/step - loss: 0.0040 - val_loss: 5.2181e-04\n",
      "Epoch 67/100\n",
      "4/4 [==============================] - 0s 18ms/step - loss: 0.0038 - val_loss: 4.5825e-04\n",
      "Epoch 68/100\n",
      "4/4 [==============================] - 0s 19ms/step - loss: 0.0036 - val_loss: 4.7100e-04\n",
      "Epoch 69/100\n",
      "4/4 [==============================] - 0s 19ms/step - loss: 0.0035 - val_loss: 4.2455e-04\n",
      "Epoch 70/100\n",
      "4/4 [==============================] - 0s 20ms/step - loss: 0.0037 - val_loss: 3.9547e-04\n",
      "Epoch 71/100\n",
      "4/4 [==============================] - 0s 21ms/step - loss: 0.0032 - val_loss: 3.5367e-04\n",
      "Epoch 72/100\n",
      "4/4 [==============================] - 0s 21ms/step - loss: 0.0053 - val_loss: 3.3131e-04\n",
      "Epoch 73/100\n",
      "4/4 [==============================] - 0s 19ms/step - loss: 0.0037 - val_loss: 4.6401e-04\n",
      "Epoch 74/100\n",
      "4/4 [==============================] - 0s 18ms/step - loss: 0.0051 - val_loss: 4.7434e-04\n",
      "Epoch 75/100\n",
      "4/4 [==============================] - 0s 18ms/step - loss: 0.0037 - val_loss: 3.2587e-04\n",
      "Epoch 76/100\n",
      "4/4 [==============================] - 0s 17ms/step - loss: 0.0040 - val_loss: 3.2270e-04\n",
      "Epoch 77/100\n",
      "4/4 [==============================] - 0s 20ms/step - loss: 0.0033 - val_loss: 4.1545e-04\n",
      "Epoch 78/100\n",
      "4/4 [==============================] - 0s 19ms/step - loss: 0.0040 - val_loss: 5.0115e-04\n",
      "Epoch 79/100\n",
      "4/4 [==============================] - 0s 21ms/step - loss: 0.0041 - val_loss: 4.1746e-04\n",
      "Epoch 80/100\n",
      "4/4 [==============================] - 0s 20ms/step - loss: 0.0044 - val_loss: 3.5769e-04\n",
      "Epoch 81/100\n",
      "4/4 [==============================] - 0s 17ms/step - loss: 0.0042 - val_loss: 3.3089e-04\n",
      "Epoch 82/100\n",
      "4/4 [==============================] - 0s 29ms/step - loss: 0.0041 - val_loss: 2.9448e-04\n",
      "Epoch 83/100\n",
      "4/4 [==============================] - 0s 18ms/step - loss: 0.0040 - val_loss: 3.7349e-04\n",
      "Epoch 84/100\n",
      "4/4 [==============================] - 0s 17ms/step - loss: 0.0037 - val_loss: 6.3992e-04\n",
      "Epoch 85/100\n",
      "4/4 [==============================] - 0s 17ms/step - loss: 0.0034 - val_loss: 7.1294e-04\n",
      "Epoch 86/100\n",
      "4/4 [==============================] - 0s 16ms/step - loss: 0.0036 - val_loss: 5.5497e-04\n",
      "Epoch 87/100\n",
      "4/4 [==============================] - 0s 18ms/step - loss: 0.0040 - val_loss: 3.7926e-04\n",
      "Epoch 88/100\n",
      "4/4 [==============================] - 0s 18ms/step - loss: 0.0040 - val_loss: 3.5406e-04\n",
      "Epoch 89/100\n",
      "4/4 [==============================] - 0s 20ms/step - loss: 0.0034 - val_loss: 3.7395e-04\n",
      "Epoch 90/100\n",
      "4/4 [==============================] - 0s 19ms/step - loss: 0.0037 - val_loss: 3.9140e-04\n",
      "Epoch 91/100\n",
      "4/4 [==============================] - 0s 20ms/step - loss: 0.0034 - val_loss: 5.0033e-04\n",
      "Epoch 92/100\n",
      "4/4 [==============================] - 0s 16ms/step - loss: 0.0043 - val_loss: 4.1501e-04\n",
      "Epoch 93/100\n",
      "4/4 [==============================] - 0s 18ms/step - loss: 0.0050 - val_loss: 5.2981e-04\n",
      "Epoch 94/100\n",
      "4/4 [==============================] - 0s 18ms/step - loss: 0.0054 - val_loss: 0.0010\n",
      "Epoch 95/100\n",
      "4/4 [==============================] - 0s 18ms/step - loss: 0.0049 - val_loss: 0.0011\n",
      "Epoch 96/100\n",
      "4/4 [==============================] - 0s 17ms/step - loss: 0.0044 - val_loss: 4.4286e-04\n",
      "Epoch 97/100\n",
      "4/4 [==============================] - 0s 17ms/step - loss: 0.0038 - val_loss: 3.3577e-04\n",
      "Epoch 98/100\n",
      "4/4 [==============================] - 0s 17ms/step - loss: 0.0048 - val_loss: 3.4859e-04\n",
      "Epoch 99/100\n",
      "4/4 [==============================] - 0s 17ms/step - loss: 0.0036 - val_loss: 3.8926e-04\n",
      "Epoch 100/100\n",
      "4/4 [==============================] - 0s 17ms/step - loss: 0.0039 - val_loss: 6.9007e-04\n",
      "Model: \"sequential\"\n",
      "_________________________________________________________________\n",
      " Layer (type)                Output Shape              Param #   \n",
      "=================================================================\n",
      " simple_rnn (SimpleRNN)      (None, 5, 80)             6560      \n",
      "                                                                 \n",
      " dropout (Dropout)           (None, 5, 80)             0         \n",
      "                                                                 \n",
      " simple_rnn_1 (SimpleRNN)    (None, 100)               18100     \n",
      "                                                                 \n",
      " dropout_1 (Dropout)         (None, 100)               0         \n",
      "                                                                 \n",
      " dense (Dense)               (None, 1)                 101       \n",
      "                                                                 \n",
      "=================================================================\n",
      "Total params: 24,761\n",
      "Trainable params: 24,761\n",
      "Non-trainable params: 0\n",
      "_________________________________________________________________\n"
     ]
    },
    {
     "data": {
      "image/png": "[encoded data removed]",
      "text/plain": [
       "<Figure size 432x288 with 1 Axes>"
      ]
     },
     "metadata": {
      "needs_background": "light"
     },
     "output_type": "display_data"
    }
   ],
   "source": [
    "cp_callback = tf.keras.callbacks.ModelCheckpoint(filepath=checkpoint_save_path,\n",
    "                                                 save_weights_only=True,\n",
    "                                                 save_best_only=True,\n",
    "                                                 monitor='val_loss')\n",
    "\n",
    "_model = model.fit(x_train, y_train, batch_size=batch_size, epochs=epochs, validation_data=(x_test, y_test), validation_freq=validation_freq,\n",
    "                    callbacks=[cp_callback])\n",
    "\n",
    "model.summary()\n",
    "\n",
    "file = open('./weights.txt', 'w')  # 参数提取\n",
    "for v in model.trainable_variables:\n",
    "    file.write(str(v.name) + '\\n')\n",
    "    file.write(str(v.shape) + '\\n')\n",
    "    file.write(str(v.numpy()) + '\\n')\n",
    "file.close()\n",
    "\n",
    "loss = _model.history['loss']\n",
    "val_loss = _model.history['val_loss']\n",
    "\n",
    "plt.plot(loss, label='训练损失')\n",
    "plt.plot(val_loss, label='测试损失')\n",
    "plt.title('训练和测试损失')\n",
    "plt.legend()\n",
    "plt.show()"
   ]
  },
  {
   "cell_type": "code",
   "execution_count": 17,
   "id": "c7582a6a",
   "metadata": {},
   "outputs": [],
   "source": [
    "# 预测\n",
    "# 测试集输入模型进行预测\n",
    "predicted_stock_price = model.predict(x_test)\n",
    "# 对预测数据还原---从（0，1）反归一化到原始范围\n",
    "predicted_stock_price = sc.inverse_transform(predicted_stock_price)\n",
    "# 对真实数据还原---从（0，1）反归一化到原始范围\n",
    "real_stock_price = sc.inverse_transform(test_set[seq_len:])"
   ]
  },
  {
   "cell_type": "code",
   "execution_count": 18,
   "id": "a7060d5f",
   "metadata": {},
   "outputs": [
    {
     "data": {
      "image/png": "[encoded data removed]",
      "text/plain": [
       "<Figure size 432x288 with 1 Axes>"
      ]
     },
     "metadata": {
      "needs_background": "light"
     },
     "output_type": "display_data"
    }
   ],
   "source": [
    "# 画出真实数据和预测数据的对比曲线\n",
    "plt.plot(real_stock_price, color='red', label='股票价格')\n",
    "plt.plot(predicted_stock_price, color='blue', label='预测股票价格')\n",
    "plt.title('股票价格预测')\n",
    "plt.xlabel('时间')\n",
    "plt.ylabel('股票价格')\n",
    "plt.legend()\n",
    "plt.show()"
   ]
  },
  {
   "cell_type": "code",
   "execution_count": 19,
   "id": "e7d6659a",
   "metadata": {},
   "outputs": [
    {
     "name": "stdout",
     "output_type": "stream",
     "text": [
      "均方误差: 0.368545\n",
      "均方根误差: 0.607079\n",
      "平均绝对误差: 0.512995\n"
     ]
    }
   ],
   "source": [
    "# 评估\n",
    "# calculate MSE 均方误差 ---> E[(预测值-真实值)^2] (预测值减真实值求平方后求均值)\n",
    "mse = mean_squared_error(predicted_stock_price, real_stock_price)\n",
    "# calculate RMSE 均方根误差--->sqrt[MSE]    (对均方误差开方)\n",
    "rmse = math.sqrt(mean_squared_error(predicted_stock_price, real_stock_price))\n",
    "# calculate MAE 平均绝对误差----->E[|预测值-真实值|](预测值减真实值求绝对值后求均值）\n",
    "mae = mean_absolute_error(predicted_stock_price, real_stock_price)\n",
    "print('均方误差: %.6f' % mse)\n",
    "print('均方根误差: %.6f' % rmse)\n",
    "print('平均绝对误差: %.6f' % mae)"
   ]
  },
  {
   "cell_type": "code",
   "execution_count": 20,
   "id": "254d8fb2",
   "metadata": {},
   "outputs": [
    {
     "name": "stdout",
     "output_type": "stream",
     "text": [
      "准确率：[0.98183686]\n"
     ]
    }
   ],
   "source": [
    "#ACC\n",
    "error = 0\n",
    "summery = 0\n",
    "for i in range(24):\n",
    "    error += abs(predicted_stock_price[i] - real_stock_price[i])\n",
    "    summery += real_stock_price[i]\n",
    "acc = 1 - error/summery\n",
    "print(\"准确率：{}\".format(acc))"
   ]
  }
 ],
 "metadata": {
  "kernelspec": {
   "display_name": "deep",
   "language": "python",
   "name": "deep"
  },
  "language_info": {
   "codemirror_mode": {
    "name": "ipython",
    "version": 3
   },
   "file_extension": ".py",
   "mimetype": "text/x-python",
   "name": "python",
   "nbconvert_exporter": "python",
   "pygments_lexer": "ipython3",
   "version": "3.9.7"
  }
 },
 "nbformat": 4,
 "nbformat_minor": 5
}
