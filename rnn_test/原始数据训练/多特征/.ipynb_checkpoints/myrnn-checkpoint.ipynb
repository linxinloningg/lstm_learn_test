{
 "cells": [
  {
   "cell_type": "code",
   "execution_count": 1,
   "id": "1e2bb476",
   "metadata": {},
   "outputs": [],
   "source": [
    "import numpy as np\n",
    "import tensorflow as tf\n",
    "from tensorflow.keras.layers import Dropout, Dense, SimpleRNN\n",
    "import matplotlib.pyplot as plt\n",
    "import os\n",
    "import pandas as pd\n",
    "from sklearn.preprocessing import MinMaxScaler\n",
    "from sklearn.metrics import mean_squared_error, mean_absolute_error\n",
    "import math"
   ]
  },
  {
   "cell_type": "code",
   "execution_count": 2,
   "id": "c8957e76",
   "metadata": {},
   "outputs": [
    {
     "name": "stdout",
     "output_type": "stream",
     "text": [
      "numpy 1.21.4\n",
      "pandas 1.3.4\n",
      "tensorflow 2.7.0\n"
     ]
    }
   ],
   "source": [
    "for module in np, pd, tf:\n",
    "     print (module.__name__, module.__version__)"
   ]
  },
  {
   "cell_type": "code",
   "execution_count": 3,
   "id": "247a90dd",
   "metadata": {},
   "outputs": [],
   "source": [
    "# 这两行代码解决 plt 中文显示的问题\n",
    "plt.rcParams['font.sans-serif'] = ['SimHei']\n",
    "plt.rcParams['axes.unicode_minus'] = False"
   ]
  },
  {
   "cell_type": "code",
   "execution_count": 4,
   "id": "f298f448",
   "metadata": {},
   "outputs": [],
   "source": [
    "stock = pd.read_csv('../dataset/600031.csv')  # 读取股票文件\n",
    "# stock = stock.drop(['成交额'],axis=1)"
   ]
  },
  {
   "cell_type": "code",
   "execution_count": 5,
   "id": "33c8d18c",
   "metadata": {},
   "outputs": [
    {
     "data": {
      "text/html": [
       "<div>\n",
       "<style scoped>\n",
       "    .dataframe tbody tr th:only-of-type {\n",
       "        vertical-align: middle;\n",
       "    }\n",
       "\n",
       "    .dataframe tbody tr th {\n",
       "        vertical-align: top;\n",
       "    }\n",
       "\n",
       "    .dataframe thead th {\n",
       "        text-align: right;\n",
       "    }\n",
       "</style>\n",
       "<table border=\"1\" class=\"dataframe\">\n",
       "  <thead>\n",
       "    <tr style=\"text-align: right;\">\n",
       "      <th></th>\n",
       "      <th>日期</th>\n",
       "      <th>开盘</th>\n",
       "      <th>收盘</th>\n",
       "      <th>最高</th>\n",
       "      <th>最低</th>\n",
       "      <th>成交量</th>\n",
       "      <th>成交额</th>\n",
       "      <th>振幅</th>\n",
       "      <th>涨跌幅</th>\n",
       "      <th>涨跌额</th>\n",
       "      <th>换手率</th>\n",
       "    </tr>\n",
       "  </thead>\n",
       "  <tbody>\n",
       "    <tr>\n",
       "      <th>0</th>\n",
       "      <td>2020-11-09</td>\n",
       "      <td>27.80</td>\n",
       "      <td>27.54</td>\n",
       "      <td>28.14</td>\n",
       "      <td>26.89</td>\n",
       "      <td>856249</td>\n",
       "      <td>2348800992</td>\n",
       "      <td>4.55</td>\n",
       "      <td>0.18</td>\n",
       "      <td>0.05</td>\n",
       "      <td>1.01</td>\n",
       "    </tr>\n",
       "    <tr>\n",
       "      <th>1</th>\n",
       "      <td>2020-11-10</td>\n",
       "      <td>27.98</td>\n",
       "      <td>27.32</td>\n",
       "      <td>27.98</td>\n",
       "      <td>26.91</td>\n",
       "      <td>558824</td>\n",
       "      <td>1523209504</td>\n",
       "      <td>3.89</td>\n",
       "      <td>-0.80</td>\n",
       "      <td>-0.22</td>\n",
       "      <td>0.66</td>\n",
       "    </tr>\n",
       "    <tr>\n",
       "      <th>2</th>\n",
       "      <td>2020-11-11</td>\n",
       "      <td>27.33</td>\n",
       "      <td>28.31</td>\n",
       "      <td>28.86</td>\n",
       "      <td>27.21</td>\n",
       "      <td>1015374</td>\n",
       "      <td>2873205488</td>\n",
       "      <td>6.04</td>\n",
       "      <td>3.62</td>\n",
       "      <td>0.99</td>\n",
       "      <td>1.20</td>\n",
       "    </tr>\n",
       "    <tr>\n",
       "      <th>3</th>\n",
       "      <td>2020-11-12</td>\n",
       "      <td>28.31</td>\n",
       "      <td>28.70</td>\n",
       "      <td>28.88</td>\n",
       "      <td>27.91</td>\n",
       "      <td>718595</td>\n",
       "      <td>2041558432</td>\n",
       "      <td>3.43</td>\n",
       "      <td>1.38</td>\n",
       "      <td>0.39</td>\n",
       "      <td>0.85</td>\n",
       "    </tr>\n",
       "    <tr>\n",
       "      <th>4</th>\n",
       "      <td>2020-11-13</td>\n",
       "      <td>28.28</td>\n",
       "      <td>28.16</td>\n",
       "      <td>28.50</td>\n",
       "      <td>27.60</td>\n",
       "      <td>674807</td>\n",
       "      <td>1888773520</td>\n",
       "      <td>3.14</td>\n",
       "      <td>-1.88</td>\n",
       "      <td>-0.54</td>\n",
       "      <td>0.80</td>\n",
       "    </tr>\n",
       "  </tbody>\n",
       "</table>\n",
       "</div>"
      ],
      "text/plain": [
       "           日期     开盘     收盘     最高     最低      成交量         成交额    振幅   涨跌幅  \\\n",
       "0  2020-11-09  27.80  27.54  28.14  26.89   856249  2348800992  4.55  0.18   \n",
       "1  2020-11-10  27.98  27.32  27.98  26.91   558824  1523209504  3.89 -0.80   \n",
       "2  2020-11-11  27.33  28.31  28.86  27.21  1015374  2873205488  6.04  3.62   \n",
       "3  2020-11-12  28.31  28.70  28.88  27.91   718595  2041558432  3.43  1.38   \n",
       "4  2020-11-13  28.28  28.16  28.50  27.60   674807  1888773520  3.14 -1.88   \n",
       "\n",
       "    涨跌额   换手率  \n",
       "0  0.05  1.01  \n",
       "1 -0.22  0.66  \n",
       "2  0.99  1.20  \n",
       "3  0.39  0.85  \n",
       "4 -0.54  0.80  "
      ]
     },
     "execution_count": 5,
     "metadata": {},
     "output_type": "execute_result"
    }
   ],
   "source": [
    "stock.head()"
   ]
  },
  {
   "cell_type": "markdown",
   "id": "15bdcbdf",
   "metadata": {},
   "source": [
    "### 用多特征预测股价\n",
    "### 将数据集分成训练集：测试集 == 4:1"
   ]
  },
  {
   "cell_type": "code",
   "execution_count": 6,
   "id": "c46c880d",
   "metadata": {},
   "outputs": [],
   "source": [
    "# 取除日期外全部特征\n",
    "training_set = stock.iloc[0:int(len(stock) / 5 * 4), 1:].values\n",
    "test_set = stock.iloc[int(len(stock) / 5 * 4):, 1:].values"
   ]
  },
  {
   "cell_type": "code",
   "execution_count": 7,
   "id": "fcbfd899",
   "metadata": {},
   "outputs": [
    {
     "data": {
      "text/plain": [
       "((201, 10), (51, 10))"
      ]
     },
     "execution_count": 7,
     "metadata": {},
     "output_type": "execute_result"
    }
   ],
   "source": [
    "training_set.shape , test_set.shape"
   ]
  },
  {
   "cell_type": "markdown",
   "id": "f3c6b862",
   "metadata": {},
   "source": [
    "# 归一化处理（进行缩放）"
   ]
  },
  {
   "cell_type": "code",
   "execution_count": 8,
   "id": "d2ee46e5",
   "metadata": {},
   "outputs": [],
   "source": [
    "# 归一化\n",
    "sc = MinMaxScaler(feature_range=(0, 1))  # 定义归一化：归一化到(0，1)之间\n",
    "# 缩放\n",
    "training_set_scaled = sc.fit_transform(training_set)  # 求得训练集的最大值，最小值这些训练集固有的属性，并在训练集上进行归一化\n",
    "test_set = sc.transform(test_set)  # 利用训练集的属性对测试集进行归一化"
   ]
  },
  {
   "cell_type": "code",
   "execution_count": 9,
   "id": "9310a93f",
   "metadata": {},
   "outputs": [],
   "source": [
    "# 参数设置\n",
    "# 步进值\n",
    "seq_len = 5"
   ]
  },
  {
   "cell_type": "markdown",
   "id": "d6b53e2d",
   "metadata": {},
   "source": [
    "# 训练集处理"
   ]
  },
  {
   "cell_type": "code",
   "execution_count": 10,
   "id": "c4720fa9",
   "metadata": {},
   "outputs": [],
   "source": [
    "x_train = []\n",
    "y_train = []\n",
    "\n",
    "# 数据进行分组\n",
    "for i in range(seq_len, len(training_set_scaled)):\n",
    "    # 全部特征\n",
    "    x_train.append(training_set_scaled[i - seq_len:i, 0:])\n",
    "    # 收盘价\n",
    "    y_train.append(training_set_scaled[i, list(stock.iloc[0:int(len(stock) / 5 * 4), 1:].columns).index('收盘')])\n",
    "\n",
    "# 对训练集进行打乱\n",
    "np.random.seed(7)\n",
    "np.random.shuffle(x_train)\n",
    "np.random.seed(7)\n",
    "np.random.shuffle(y_train)\n",
    "tf.random.set_seed(7)\n",
    "\n",
    "# 将训练集由list格式变为array格式\n",
    "x_train, y_train = np.array(x_train), np.array(y_train)\n",
    "x_train = np.reshape(x_train, (x_train.shape[0], seq_len, training_set.shape[1]))"
   ]
  },
  {
   "cell_type": "markdown",
   "id": "1f4d9e55",
   "metadata": {},
   "source": [
    "# 测试集处理"
   ]
  },
  {
   "cell_type": "code",
   "execution_count": 11,
   "id": "807b27a8",
   "metadata": {},
   "outputs": [],
   "source": [
    "x_test = []\n",
    "y_test = []\n",
    "\n",
    "# 利用for循环，遍历整个测试集，提取测试集中连续5天的开盘价作为输入特征x_train，第6天的数据作为标签\n",
    "for i in range(seq_len, len(test_set)):\n",
    "    # 全部特征\n",
    "    x_test.append(test_set[i - seq_len:i, 0:])\n",
    "    # 收盘价\n",
    "    y_test.append(test_set[i, list(stock.iloc[0:int(len(stock) / 5 * 4), 1:].columns).index('收盘')])\n",
    "\n",
    "    # 测试集变array并reshape为符合RNN输入要求：[送入样本数， 循环核时间展开步数， 每个时间步输入特征个数]\n",
    "x_test, y_test = np.array(x_test), np.array(y_test)\n",
    "x_test = np.reshape(x_test, (x_test.shape[0], seq_len, test_set.shape[1]))"
   ]
  },
  {
   "cell_type": "markdown",
   "id": "6e45bc36",
   "metadata": {},
   "source": [
    "# 构建模型\n",
    "\n",
    "### 序列化建模，一般步骤为：\n",
    "\n",
    "　　* 1、实例化一个Sequential类，该类是继承于Model类；\n",
    "\n",
    "　　* 2、添加所需要的神经网络层；\n",
    "\n",
    "　　* 3、用compile进行编译模型；\n",
    "\n",
    "　　* 4、用fit训练模型；\n",
    "\n",
    "　　* 5、用predict预测。"
   ]
  },
  {
   "cell_type": "code",
   "execution_count": 12,
   "id": "6f2d3b77",
   "metadata": {},
   "outputs": [],
   "source": [
    "model = tf.keras.Sequential([\n",
    "    SimpleRNN(80, return_sequences=True),\n",
    "    Dropout(0.2),\n",
    "    SimpleRNN(100),\n",
    "    Dropout(0.2),\n",
    "    Dense(1)\n",
    "])"
   ]
  },
  {
   "cell_type": "code",
   "execution_count": 13,
   "id": "d6fb9d91",
   "metadata": {},
   "outputs": [],
   "source": [
    "model.compile(optimizer=tf.keras.optimizers.Adam(0.001),loss='mean_squared_error')  \n",
    "# 损失函数用均方误差\n",
    "# 该应用只观测loss数值，不观测准确率，所以删去metrics选项，一会在每个epoch迭代显示时只显示loss值"
   ]
  },
  {
   "cell_type": "markdown",
   "id": "c4c9c0db",
   "metadata": {},
   "source": [
    "# 预测一次，并保存预测结构，用于之后的验证"
   ]
  },
  {
   "cell_type": "code",
   "execution_count": 14,
   "id": "1f8a0afa",
   "metadata": {},
   "outputs": [],
   "source": [
    "checkpoint_save_path = \"./checkpoint/rnn_stock.ckpt\"\n",
    "if os.path.exists(checkpoint_save_path + '.index'):\n",
    "    print('-------------load the model-----------------')\n",
    "    model.load_weights(checkpoint_save_path)"
   ]
  },
  {
   "cell_type": "markdown",
   "id": "e071782a",
   "metadata": {},
   "source": [
    "# 参数详解：\n",
    "* x=None, #输入的x值\n",
    "* y=None, #输入的y标签值\n",
    "* batch_size=None, #整数 ，每次梯度更新的样本数即批量大小。未指定，默认为32。\n",
    "* epochs=1, #迭代次数\n",
    "* verbose=1, #整数，代表以什么形式来展示日志状态，\n",
    "* verbose = 0 为不在标准输出流输出日志信息，verbose = 1 为输出进度条记录，verbose = 2 为每个epoch输出一行记录\n",
    "* callbacks=None, #回调函数，这个list中的回调函数将会在训练过程中的适当时机被调用，参考回调函数\n",
    "* validation_split=0.0, #浮点数0-1之间，用作验证集的训练数据的比例。模型将分出一部分不会被训练的验证数据，并将在每一轮结束时评估这些验证数据的误差和任何其他模型指标。\n",
    "* validation_data=None, #这个参数会覆盖 validation_split\n",
    "   即两个函数只能存在一个，它的输入为元组 (x_val，y_val)，这作为验证数据。\n",
    "* shuffle=True, #布尔值。是否在每轮迭代之前混洗数据\n",
    "* class_weight=None,\n",
    "* sample_weight=None, \n",
    "* initial_epoch=0, \n",
    "* steps_per_epoch=None, #一个epoch包含的步数（每一步是一个batch的数据送入）\n",
    "   当使用如TensorFlow数据Tensor之类的输入张量进行训练时，默认的None代表自动分割，即数据集样本数/batch样本数。\n",
    "* validation_steps=None, #在验证集上的step总数，仅当steps_per_epoch被指定时有用。\n",
    "* validation_freq=1, #指使用验证集实施验证的频率。当等于1时代表每个epoch结束都验证一次\n",
    "* max_queue_size=10,\n",
    "* workers=1,\n",
    "* use_multiprocessing=False   "
   ]
  },
  {
   "cell_type": "code",
   "execution_count": 15,
   "id": "9cc9532d",
   "metadata": {},
   "outputs": [],
   "source": [
    "# 训练参数\n",
    "batch_size = 64\n",
    "epochs = 100\n",
    "validation_freq=1\n",
    "# 等等"
   ]
  },
  {
   "cell_type": "code",
   "execution_count": 16,
   "id": "5da0f3b6",
   "metadata": {
    "scrolled": true
   },
   "outputs": [
    {
     "name": "stdout",
     "output_type": "stream",
     "text": [
      "Epoch 1/100\n",
      "4/4 [==============================] - 4s 199ms/step - loss: 0.8071 - val_loss: 0.2196\n",
      "Epoch 2/100\n",
      "4/4 [==============================] - 0s 30ms/step - loss: 0.3128 - val_loss: 0.1744\n",
      "Epoch 3/100\n",
      "4/4 [==============================] - 0s 31ms/step - loss: 0.5727 - val_loss: 0.0119\n",
      "Epoch 4/100\n",
      "4/4 [==============================] - 0s 18ms/step - loss: 0.1699 - val_loss: 0.1061\n",
      "Epoch 5/100\n",
      "4/4 [==============================] - 0s 20ms/step - loss: 0.3272 - val_loss: 0.0133\n",
      "Epoch 6/100\n",
      "4/4 [==============================] - 0s 24ms/step - loss: 0.1565 - val_loss: 0.0739\n",
      "Epoch 7/100\n",
      "4/4 [==============================] - 0s 25ms/step - loss: 0.2358 - val_loss: 0.0192\n",
      "Epoch 8/100\n",
      "4/4 [==============================] - 0s 24ms/step - loss: 0.1259 - val_loss: 0.0264\n",
      "Epoch 9/100\n",
      "4/4 [==============================] - 0s 34ms/step - loss: 0.1868 - val_loss: 0.0106\n",
      "Epoch 10/100\n",
      "4/4 [==============================] - 0s 23ms/step - loss: 0.0981 - val_loss: 0.0113\n",
      "Epoch 11/100\n",
      "4/4 [==============================] - 0s 35ms/step - loss: 0.1261 - val_loss: 0.0095\n",
      "Epoch 12/100\n",
      "4/4 [==============================] - 0s 29ms/step - loss: 0.0849 - val_loss: 0.0035\n",
      "Epoch 13/100\n",
      "4/4 [==============================] - 0s 17ms/step - loss: 0.0747 - val_loss: 0.0085\n",
      "Epoch 14/100\n",
      "4/4 [==============================] - 0s 29ms/step - loss: 0.0955 - val_loss: 0.0034\n",
      "Epoch 15/100\n",
      "4/4 [==============================] - 0s 33ms/step - loss: 0.0956 - val_loss: 0.0020\n",
      "Epoch 16/100\n",
      "4/4 [==============================] - 0s 32ms/step - loss: 0.0678 - val_loss: 0.0015\n",
      "Epoch 17/100\n",
      "4/4 [==============================] - 0s 19ms/step - loss: 0.0832 - val_loss: 0.0033\n",
      "Epoch 18/100\n",
      "4/4 [==============================] - 0s 30ms/step - loss: 0.0890 - val_loss: 0.0011\n",
      "Epoch 19/100\n",
      "4/4 [==============================] - 0s 23ms/step - loss: 0.0549 - val_loss: 0.0065\n",
      "Epoch 20/100\n",
      "4/4 [==============================] - 0s 25ms/step - loss: 0.0573 - val_loss: 0.0098\n",
      "Epoch 21/100\n",
      "4/4 [==============================] - 0s 29ms/step - loss: 0.0727 - val_loss: 0.0028\n",
      "Epoch 22/100\n",
      "4/4 [==============================] - 0s 28ms/step - loss: 0.0645 - val_loss: 0.0088\n",
      "Epoch 23/100\n",
      "4/4 [==============================] - 0s 22ms/step - loss: 0.0596 - val_loss: 0.0120\n",
      "Epoch 24/100\n",
      "4/4 [==============================] - 0s 19ms/step - loss: 0.0556 - val_loss: 0.0038\n",
      "Epoch 25/100\n",
      "4/4 [==============================] - 0s 21ms/step - loss: 0.0475 - val_loss: 0.0019\n",
      "Epoch 26/100\n",
      "4/4 [==============================] - 0s 24ms/step - loss: 0.0395 - val_loss: 0.0014\n",
      "Epoch 27/100\n",
      "4/4 [==============================] - 0s 25ms/step - loss: 0.0522 - val_loss: 0.0016\n",
      "Epoch 28/100\n",
      "4/4 [==============================] - 0s 18ms/step - loss: 0.0568 - val_loss: 0.0053\n",
      "Epoch 29/100\n",
      "4/4 [==============================] - 0s 17ms/step - loss: 0.0513 - val_loss: 0.0109\n",
      "Epoch 30/100\n",
      "4/4 [==============================] - 0s 17ms/step - loss: 0.0501 - val_loss: 0.0039\n",
      "Epoch 31/100\n",
      "4/4 [==============================] - 0s 18ms/step - loss: 0.0542 - val_loss: 0.0024\n",
      "Epoch 32/100\n",
      "4/4 [==============================] - 0s 19ms/step - loss: 0.0627 - val_loss: 0.0033\n",
      "Epoch 33/100\n",
      "4/4 [==============================] - 0s 25ms/step - loss: 0.0435 - val_loss: 0.0015\n",
      "Epoch 34/100\n",
      "4/4 [==============================] - ETA: 0s - loss: 0.050 - 0s 26ms/step - loss: 0.0574 - val_loss: 0.0012\n",
      "Epoch 35/100\n",
      "4/4 [==============================] - 0s 34ms/step - loss: 0.0348 - val_loss: 0.0010\n",
      "Epoch 36/100\n",
      "4/4 [==============================] - 0s 18ms/step - loss: 0.0444 - val_loss: 0.0018\n",
      "Epoch 37/100\n",
      "4/4 [==============================] - 0s 40ms/step - loss: 0.0403 - val_loss: 8.6326e-04\n",
      "Epoch 38/100\n",
      "4/4 [==============================] - 0s 48ms/step - loss: 0.0370 - val_loss: 7.9346e-04\n",
      "Epoch 39/100\n",
      "4/4 [==============================] - 0s 26ms/step - loss: 0.0398 - val_loss: 0.0014\n",
      "Epoch 40/100\n",
      "4/4 [==============================] - 0s 17ms/step - loss: 0.0386 - val_loss: 8.3221e-04\n",
      "Epoch 41/100\n",
      "4/4 [==============================] - 0s 20ms/step - loss: 0.0336 - val_loss: 0.0011\n",
      "Epoch 42/100\n",
      "4/4 [==============================] - 0s 24ms/step - loss: 0.0444 - val_loss: 0.0020\n",
      "Epoch 43/100\n",
      "4/4 [==============================] - 0s 23ms/step - loss: 0.0309 - val_loss: 7.9513e-04\n",
      "Epoch 44/100\n",
      "4/4 [==============================] - 0s 27ms/step - loss: 0.0336 - val_loss: 0.0026\n",
      "Epoch 45/100\n",
      "4/4 [==============================] - 0s 23ms/step - loss: 0.0325 - val_loss: 0.0036\n",
      "Epoch 46/100\n",
      "4/4 [==============================] - 0s 18ms/step - loss: 0.0315 - val_loss: 0.0025\n",
      "Epoch 47/100\n",
      "4/4 [==============================] - 0s 18ms/step - loss: 0.0353 - val_loss: 9.7410e-04\n",
      "Epoch 48/100\n",
      "4/4 [==============================] - 0s 18ms/step - loss: 0.0289 - val_loss: 0.0039\n",
      "Epoch 49/100\n",
      "4/4 [==============================] - 0s 24ms/step - loss: 0.0310 - val_loss: 0.0061\n",
      "Epoch 50/100\n",
      "4/4 [==============================] - 0s 26ms/step - loss: 0.0375 - val_loss: 0.0032\n",
      "Epoch 51/100\n",
      "4/4 [==============================] - 0s 22ms/step - loss: 0.0350 - val_loss: 0.0058\n",
      "Epoch 52/100\n",
      "4/4 [==============================] - 0s 17ms/step - loss: 0.0353 - val_loss: 0.0055\n",
      "Epoch 53/100\n",
      "4/4 [==============================] - 0s 20ms/step - loss: 0.0385 - val_loss: 0.0020\n",
      "Epoch 54/100\n",
      "4/4 [==============================] - 0s 24ms/step - loss: 0.0346 - val_loss: 0.0016\n",
      "Epoch 55/100\n",
      "4/4 [==============================] - 0s 25ms/step - loss: 0.0340 - val_loss: 0.0019\n",
      "Epoch 56/100\n",
      "4/4 [==============================] - 0s 25ms/step - loss: 0.0407 - val_loss: 0.0043\n",
      "Epoch 57/100\n",
      "4/4 [==============================] - 0s 20ms/step - loss: 0.0296 - val_loss: 0.0068\n",
      "Epoch 58/100\n",
      "4/4 [==============================] - 0s 18ms/step - loss: 0.0326 - val_loss: 0.0011\n",
      "Epoch 59/100\n",
      "4/4 [==============================] - 0s 17ms/step - loss: 0.0257 - val_loss: 0.0010\n",
      "Epoch 60/100\n",
      "4/4 [==============================] - 0s 43ms/step - loss: 0.0348 - val_loss: 6.7305e-04\n",
      "Epoch 61/100\n",
      "4/4 [==============================] - 0s 28ms/step - loss: 0.0283 - val_loss: 9.1455e-04\n",
      "Epoch 62/100\n",
      "4/4 [==============================] - 0s 28ms/step - loss: 0.0280 - val_loss: 9.3059e-04\n",
      "Epoch 63/100\n",
      "4/4 [==============================] - 0s 20ms/step - loss: 0.0235 - val_loss: 0.0010\n",
      "Epoch 64/100\n",
      "4/4 [==============================] - 0s 18ms/step - loss: 0.0244 - val_loss: 0.0013\n",
      "Epoch 65/100\n",
      "4/4 [==============================] - 0s 24ms/step - loss: 0.0279 - val_loss: 0.0013\n",
      "Epoch 66/100\n",
      "4/4 [==============================] - 0s 30ms/step - loss: 0.0243 - val_loss: 9.6233e-04\n",
      "Epoch 67/100\n",
      "4/4 [==============================] - 0s 26ms/step - loss: 0.0276 - val_loss: 7.8679e-04\n",
      "Epoch 68/100\n",
      "4/4 [==============================] - 0s 21ms/step - loss: 0.0256 - val_loss: 0.0015\n",
      "Epoch 69/100\n",
      "4/4 [==============================] - 0s 35ms/step - loss: 0.0255 - val_loss: 6.3718e-04\n",
      "Epoch 70/100\n",
      "4/4 [==============================] - 0s 19ms/step - loss: 0.0215 - val_loss: 0.0015\n",
      "Epoch 71/100\n",
      "4/4 [==============================] - 0s 17ms/step - loss: 0.0200 - val_loss: 0.0031\n",
      "Epoch 72/100\n",
      "4/4 [==============================] - 0s 17ms/step - loss: 0.0287 - val_loss: 0.0024\n",
      "Epoch 73/100\n",
      "4/4 [==============================] - 0s 25ms/step - loss: 0.0229 - val_loss: 6.9371e-04\n",
      "Epoch 74/100\n",
      "4/4 [==============================] - 0s 25ms/step - loss: 0.0204 - val_loss: 0.0011\n",
      "Epoch 75/100\n",
      "4/4 [==============================] - 0s 49ms/step - loss: 0.0252 - val_loss: 6.3406e-04\n",
      "Epoch 76/100\n",
      "4/4 [==============================] - 0s 25ms/step - loss: 0.0216 - val_loss: 6.8379e-04\n",
      "Epoch 77/100\n",
      "4/4 [==============================] - 0s 19ms/step - loss: 0.0221 - val_loss: 6.7491e-04\n",
      "Epoch 78/100\n",
      "4/4 [==============================] - 0s 18ms/step - loss: 0.0213 - val_loss: 0.0021\n",
      "Epoch 79/100\n",
      "4/4 [==============================] - 0s 18ms/step - loss: 0.0210 - val_loss: 0.0044\n",
      "Epoch 80/100\n",
      "4/4 [==============================] - 0s 19ms/step - loss: 0.0183 - val_loss: 0.0025\n",
      "Epoch 81/100\n",
      "4/4 [==============================] - 0s 18ms/step - loss: 0.0232 - val_loss: 7.7077e-04\n",
      "Epoch 82/100\n",
      "4/4 [==============================] - 0s 18ms/step - loss: 0.0187 - val_loss: 6.5168e-04\n"
     ]
    },
    {
     "name": "stdout",
     "output_type": "stream",
     "text": [
      "Epoch 83/100\n",
      "4/4 [==============================] - 0s 21ms/step - loss: 0.0175 - val_loss: 6.4819e-04\n",
      "Epoch 84/100\n",
      "4/4 [==============================] - 0s 26ms/step - loss: 0.0178 - val_loss: 0.0013\n",
      "Epoch 85/100\n",
      "4/4 [==============================] - 0s 29ms/step - loss: 0.0191 - val_loss: 9.8184e-04\n",
      "Epoch 86/100\n",
      "4/4 [==============================] - 0s 28ms/step - loss: 0.0205 - val_loss: 6.6361e-04\n",
      "Epoch 87/100\n",
      "4/4 [==============================] - 0s 18ms/step - loss: 0.0194 - val_loss: 0.0010\n",
      "Epoch 88/100\n",
      "4/4 [==============================] - 0s 18ms/step - loss: 0.0213 - val_loss: 0.0017\n",
      "Epoch 89/100\n",
      "4/4 [==============================] - 0s 18ms/step - loss: 0.0207 - val_loss: 0.0026\n",
      "Epoch 90/100\n",
      "4/4 [==============================] - 0s 18ms/step - loss: 0.0255 - val_loss: 0.0029\n",
      "Epoch 91/100\n",
      "4/4 [==============================] - 0s 17ms/step - loss: 0.0230 - val_loss: 7.9745e-04\n",
      "Epoch 92/100\n",
      "4/4 [==============================] - 0s 19ms/step - loss: 0.0185 - val_loss: 9.5363e-04\n",
      "Epoch 93/100\n",
      "4/4 [==============================] - 0s 27ms/step - loss: 0.0213 - val_loss: 0.0022\n",
      "Epoch 94/100\n",
      "4/4 [==============================] - 0s 25ms/step - loss: 0.0209 - val_loss: 0.0018\n",
      "Epoch 95/100\n",
      "4/4 [==============================] - 0s 22ms/step - loss: 0.0193 - val_loss: 9.8484e-04\n",
      "Epoch 96/100\n",
      "4/4 [==============================] - 0s 18ms/step - loss: 0.0143 - val_loss: 0.0019\n",
      "Epoch 97/100\n",
      "4/4 [==============================] - 0s 18ms/step - loss: 0.0141 - val_loss: 0.0015\n",
      "Epoch 98/100\n",
      "4/4 [==============================] - 0s 19ms/step - loss: 0.0207 - val_loss: 7.4875e-04\n",
      "Epoch 99/100\n",
      "4/4 [==============================] - 0s 18ms/step - loss: 0.0153 - val_loss: 6.3859e-04\n",
      "Epoch 100/100\n",
      "4/4 [==============================] - 0s 34ms/step - loss: 0.0134 - val_loss: 6.0600e-04\n",
      "Model: \"sequential\"\n",
      "_________________________________________________________________\n",
      " Layer (type)                Output Shape              Param #   \n",
      "=================================================================\n",
      " simple_rnn (SimpleRNN)      (None, 5, 80)             7280      \n",
      "                                                                 \n",
      " dropout (Dropout)           (None, 5, 80)             0         \n",
      "                                                                 \n",
      " simple_rnn_1 (SimpleRNN)    (None, 100)               18100     \n",
      "                                                                 \n",
      " dropout_1 (Dropout)         (None, 100)               0         \n",
      "                                                                 \n",
      " dense (Dense)               (None, 1)                 101       \n",
      "                                                                 \n",
      "=================================================================\n",
      "Total params: 25,481\n",
      "Trainable params: 25,481\n",
      "Non-trainable params: 0\n",
      "_________________________________________________________________\n"
     ]
    },
    {
     "data": {
      "image/png": "[encoded data removed]",
      "text/plain": [
       "<Figure size 432x288 with 1 Axes>"
      ]
     },
     "metadata": {
      "needs_background": "light"
     },
     "output_type": "display_data"
    }
   ],
   "source": [
    "cp_callback = tf.keras.callbacks.ModelCheckpoint(filepath=checkpoint_save_path,\n",
    "                                                 save_weights_only=True,\n",
    "                                                 save_best_only=True,\n",
    "                                                 monitor='val_loss')\n",
    "\n",
    "_model = model.fit(x_train, y_train, batch_size=batch_size, epochs=epochs, validation_data=(x_test, y_test), validation_freq=validation_freq,\n",
    "                   callbacks=[cp_callback])\n",
    "\n",
    "model.summary()\n",
    "\n",
    "file = open('./weights.txt', 'w')  # 参数提取\n",
    "for v in model.trainable_variables:\n",
    "    file.write(str(v.name) + '\\n')\n",
    "    file.write(str(v.shape) + '\\n')\n",
    "    file.write(str(v.numpy()) + '\\n')\n",
    "file.close()\n",
    "\n",
    "loss = _model.history['loss']\n",
    "val_loss = _model.history['val_loss']\n",
    "\n",
    "plt.plot(loss, label='训练损失')\n",
    "plt.plot(val_loss, label='测试损失')\n",
    "plt.title('训练和测试损失')\n",
    "plt.legend()\n",
    "plt.show()"
   ]
  },
  {
   "cell_type": "code",
   "execution_count": 17,
   "id": "cf550192",
   "metadata": {},
   "outputs": [],
   "source": [
    "# 预测\n",
    "# 测试集输入模型进行预测\n",
    "predicted_stock_price = model.predict(x_test)"
   ]
  },
  {
   "cell_type": "code",
   "execution_count": 18,
   "id": "368f9504",
   "metadata": {},
   "outputs": [],
   "source": [
    "# 归一时是对所有数据列进行的归一\n",
    "# 补充数据列之后才能进行反归一\n",
    "predicted_df = pd.DataFrame(test_set[seq_len:])\n",
    "predicted_df.iloc[:, list(stock.iloc[0:int(len(stock) / 5 * 4), 1:].columns).index('收盘')] = predicted_stock_price\n",
    "predicted_df.head()\n",
    "predicted_set = predicted_df.values\n",
    "# 对预测数据还原---从（0，1）反归一化到原始范围\n",
    "predicted_stock_price = sc.inverse_transform(predicted_set)\n",
    "# 对真实数据还原---从（0，1）反归一化到原始范围\n",
    "real_stock_price = sc.inverse_transform(test_set[seq_len:])"
   ]
  },
  {
   "cell_type": "code",
   "execution_count": 19,
   "id": "2dc1b548",
   "metadata": {},
   "outputs": [],
   "source": [
    "# 只取收盘价\n",
    "real_stock_price = real_stock_price[:,list(stock.iloc[0:int(len(stock) / 5 * 4), 1:].columns).index('收盘')]\n",
    "predicted_stock_price = predicted_stock_price[:,list(stock.iloc[0:int(len(stock) / 5 * 4), 1:].columns).index('收盘')]"
   ]
  },
  {
   "cell_type": "code",
   "execution_count": 20,
   "id": "b968b0a9",
   "metadata": {},
   "outputs": [
    {
     "data": {
      "image/png": "[encoded data removed]",
      "text/plain": [
       "<Figure size 432x288 with 1 Axes>"
      ]
     },
     "metadata": {
      "needs_background": "light"
     },
     "output_type": "display_data"
    }
   ],
   "source": [
    "# 画出真实数据和预测数据的对比曲线\n",
    "plt.plot(real_stock_price, color='red', label='股票价格')\n",
    "plt.plot(predicted_stock_price, color='blue', label='预测股票价格')\n",
    "plt.title('股票价格预测')\n",
    "plt.xlabel('时间')\n",
    "plt.ylabel('股票价格')\n",
    "plt.legend()\n",
    "plt.show()"
   ]
  },
  {
   "cell_type": "code",
   "execution_count": 21,
   "id": "3b2fbfd3",
   "metadata": {},
   "outputs": [
    {
     "name": "stdout",
     "output_type": "stream",
     "text": [
      "均方误差: 0.323646\n",
      "均方根误差: 0.568899\n",
      "平均绝对误差: 0.439249\n"
     ]
    }
   ],
   "source": [
    "# 评估\n",
    "# calculate MSE 均方误差 ---> E[(预测值-真实值)^2] (预测值减真实值求平方后求均值)\n",
    "mse = mean_squared_error(predicted_stock_price, real_stock_price)\n",
    "# calculate RMSE 均方根误差--->sqrt[MSE]    (对均方误差开方)\n",
    "rmse = math.sqrt(mean_squared_error(predicted_stock_price, real_stock_price))\n",
    "# calculate MAE 平均绝对误差----->E[|预测值-真实值|](预测值减真实值求绝对值后求均值）\n",
    "mae = mean_absolute_error(predicted_stock_price, real_stock_price)\n",
    "print('均方误差: %.6f' % mse)\n",
    "print('均方根误差: %.6f' % rmse)\n",
    "print('平均绝对误差: %.6f' % mae)"
   ]
  },
  {
   "cell_type": "code",
   "execution_count": 22,
   "id": "fb5827cd",
   "metadata": {},
   "outputs": [
    {
     "name": "stdout",
     "output_type": "stream",
     "text": [
      "准确率：0.9841606630012542\n"
     ]
    }
   ],
   "source": [
    "#ACC\n",
    "error = 0\n",
    "summery = 0\n",
    "for i in range(24):\n",
    "    error += abs(predicted_stock_price[i] - real_stock_price[i])\n",
    "    summery += real_stock_price[i]\n",
    "acc = 1 - error/summery\n",
    "print(\"准确率：{}\".format(acc))"
   ]
  }
 ],
 "metadata": {
  "kernelspec": {
   "display_name": "deep",
   "language": "python",
   "name": "deep"
  },
  "language_info": {
   "codemirror_mode": {
    "name": "ipython",
    "version": 3
   },
   "file_extension": ".py",
   "mimetype": "text/x-python",
   "name": "python",
   "nbconvert_exporter": "python",
   "pygments_lexer": "ipython3",
   "version": "3.9.7"
  }
 },
 "nbformat": 4,
 "nbformat_minor": 5
}
