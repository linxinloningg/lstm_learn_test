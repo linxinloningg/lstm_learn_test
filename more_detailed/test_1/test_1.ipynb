{
 "cells": [
  {
   "cell_type": "code",
   "execution_count": 1,
   "id": "e13c4e05",
   "metadata": {},
   "outputs": [],
   "source": [
    "import pandas as pd\n",
    "import numpy as np\n",
    "\n",
    "# data visualization\n",
    "import matplotlib.pyplot as plt\n",
    "import seaborn as sns\n",
    "%matplotlib inline\n",
    "\n",
    "import tensorflow as tf\n",
    "from sklearn.preprocessing import MinMaxScaler\n",
    "from keras.models import Sequential\n",
    "from keras.layers import LSTM,Dense,Dropout\n",
    "from sklearn.metrics import mean_squared_error,mean_absolute_error,r2_score\n",
    "\n",
    "import math \n",
    "import os "
   ]
  },
  {
   "cell_type": "code",
   "execution_count": 2,
   "id": "473dbcd6",
   "metadata": {},
   "outputs": [],
   "source": [
    "plt.rcParams['font.sans-serif']=['SimHei'] #用来正常显示中文标签\n",
    "plt.rcParams['axes.unicode_minus']=False #用来正常显示负号\n",
    "sns.set(font='SimHei')"
   ]
  },
  {
   "cell_type": "code",
   "execution_count": 3,
   "id": "d2de0223",
   "metadata": {},
   "outputs": [],
   "source": [
    "df= pd.read_csv('../dataset/sh600031.csv')  # 读取股票文件\n",
    "df.set_index('date',inplace=True)"
   ]
  },
  {
   "cell_type": "code",
   "execution_count": 4,
   "id": "fbe6b564",
   "metadata": {},
   "outputs": [
    {
     "data": {
      "text/html": [
       "<div>\n",
       "<style scoped>\n",
       "    .dataframe tbody tr th:only-of-type {\n",
       "        vertical-align: middle;\n",
       "    }\n",
       "\n",
       "    .dataframe tbody tr th {\n",
       "        vertical-align: top;\n",
       "    }\n",
       "\n",
       "    .dataframe thead th {\n",
       "        text-align: right;\n",
       "    }\n",
       "</style>\n",
       "<table border=\"1\" class=\"dataframe\">\n",
       "  <thead>\n",
       "    <tr style=\"text-align: right;\">\n",
       "      <th></th>\n",
       "      <th>open</th>\n",
       "      <th>high</th>\n",
       "      <th>low</th>\n",
       "      <th>close</th>\n",
       "      <th>volume</th>\n",
       "    </tr>\n",
       "    <tr>\n",
       "      <th>date</th>\n",
       "      <th></th>\n",
       "      <th></th>\n",
       "      <th></th>\n",
       "      <th></th>\n",
       "      <th></th>\n",
       "    </tr>\n",
       "  </thead>\n",
       "  <tbody>\n",
       "    <tr>\n",
       "      <th>2003-07-03</th>\n",
       "      <td>23.00</td>\n",
       "      <td>23.00</td>\n",
       "      <td>20.10</td>\n",
       "      <td>21.30</td>\n",
       "      <td>33816715</td>\n",
       "    </tr>\n",
       "    <tr>\n",
       "      <th>2003-07-04</th>\n",
       "      <td>21.30</td>\n",
       "      <td>22.18</td>\n",
       "      <td>21.05</td>\n",
       "      <td>21.84</td>\n",
       "      <td>7697544</td>\n",
       "    </tr>\n",
       "    <tr>\n",
       "      <th>2003-07-07</th>\n",
       "      <td>21.90</td>\n",
       "      <td>21.96</td>\n",
       "      <td>21.51</td>\n",
       "      <td>21.80</td>\n",
       "      <td>3951205</td>\n",
       "    </tr>\n",
       "    <tr>\n",
       "      <th>2003-07-08</th>\n",
       "      <td>21.80</td>\n",
       "      <td>22.22</td>\n",
       "      <td>21.70</td>\n",
       "      <td>21.91</td>\n",
       "      <td>2117357</td>\n",
       "    </tr>\n",
       "    <tr>\n",
       "      <th>2003-07-09</th>\n",
       "      <td>21.75</td>\n",
       "      <td>22.65</td>\n",
       "      <td>21.70</td>\n",
       "      <td>22.47</td>\n",
       "      <td>3440447</td>\n",
       "    </tr>\n",
       "  </tbody>\n",
       "</table>\n",
       "</div>"
      ],
      "text/plain": [
       "             open   high    low  close    volume\n",
       "date                                            \n",
       "2003-07-03  23.00  23.00  20.10  21.30  33816715\n",
       "2003-07-04  21.30  22.18  21.05  21.84   7697544\n",
       "2003-07-07  21.90  21.96  21.51  21.80   3951205\n",
       "2003-07-08  21.80  22.22  21.70  21.91   2117357\n",
       "2003-07-09  21.75  22.65  21.70  22.47   3440447"
      ]
     },
     "execution_count": 4,
     "metadata": {},
     "output_type": "execute_result"
    }
   ],
   "source": [
    "df.head()"
   ]
  },
  {
   "cell_type": "markdown",
   "id": "bbcb3585",
   "metadata": {},
   "source": [
    "## 数据检查"
   ]
  },
  {
   "cell_type": "code",
   "execution_count": 5,
   "id": "0ab9bdc4",
   "metadata": {},
   "outputs": [],
   "source": [
    "# Function to check the missing percent of a DatFrame;\n",
    "def check_missing_data(df):\n",
    "    total = df.isnull().sum().sort_values(ascending = False)\n",
    "    percent = round(df.isnull().sum().sort_values(ascending = False) * 100 /len(df),2)\n",
    "    return pd.concat([total, percent], axis=1, keys=['Total','Percent'])"
   ]
  },
  {
   "cell_type": "code",
   "execution_count": 6,
   "id": "e3ffd89f",
   "metadata": {},
   "outputs": [
    {
     "data": {
      "text/html": [
       "<div>\n",
       "<style scoped>\n",
       "    .dataframe tbody tr th:only-of-type {\n",
       "        vertical-align: middle;\n",
       "    }\n",
       "\n",
       "    .dataframe tbody tr th {\n",
       "        vertical-align: top;\n",
       "    }\n",
       "\n",
       "    .dataframe thead th {\n",
       "        text-align: right;\n",
       "    }\n",
       "</style>\n",
       "<table border=\"1\" class=\"dataframe\">\n",
       "  <thead>\n",
       "    <tr style=\"text-align: right;\">\n",
       "      <th></th>\n",
       "      <th>Total</th>\n",
       "      <th>Percent</th>\n",
       "    </tr>\n",
       "  </thead>\n",
       "  <tbody>\n",
       "    <tr>\n",
       "      <th>open</th>\n",
       "      <td>0</td>\n",
       "      <td>0.0</td>\n",
       "    </tr>\n",
       "    <tr>\n",
       "      <th>high</th>\n",
       "      <td>0</td>\n",
       "      <td>0.0</td>\n",
       "    </tr>\n",
       "    <tr>\n",
       "      <th>low</th>\n",
       "      <td>0</td>\n",
       "      <td>0.0</td>\n",
       "    </tr>\n",
       "    <tr>\n",
       "      <th>close</th>\n",
       "      <td>0</td>\n",
       "      <td>0.0</td>\n",
       "    </tr>\n",
       "    <tr>\n",
       "      <th>volume</th>\n",
       "      <td>0</td>\n",
       "      <td>0.0</td>\n",
       "    </tr>\n",
       "  </tbody>\n",
       "</table>\n",
       "</div>"
      ],
      "text/plain": [
       "        Total  Percent\n",
       "open        0      0.0\n",
       "high        0      0.0\n",
       "low         0      0.0\n",
       "close       0      0.0\n",
       "volume      0      0.0"
      ]
     },
     "execution_count": 6,
     "metadata": {},
     "output_type": "execute_result"
    }
   ],
   "source": [
    "check_missing_data(df)"
   ]
  },
  {
   "cell_type": "code",
   "execution_count": 7,
   "id": "d5b9fae7",
   "metadata": {
    "scrolled": true
   },
   "outputs": [
    {
     "data": {
      "image/png": "[encoded data removed]",
      "text/plain": [
       "<Figure size 432x288 with 2 Axes>"
      ]
     },
     "metadata": {},
     "output_type": "display_data"
    }
   ],
   "source": [
    "sns.heatmap(df.corr())\n",
    "plt.show()"
   ]
  },
  {
   "cell_type": "code",
   "execution_count": 8,
   "id": "7b346f7f",
   "metadata": {
    "scrolled": false
   },
   "outputs": [],
   "source": [
    "df.drop(['volume'],axis = 1,inplace= True)"
   ]
  },
  {
   "cell_type": "code",
   "execution_count": 9,
   "id": "46e00443",
   "metadata": {},
   "outputs": [
    {
     "data": {
      "text/html": [
       "<div>\n",
       "<style scoped>\n",
       "    .dataframe tbody tr th:only-of-type {\n",
       "        vertical-align: middle;\n",
       "    }\n",
       "\n",
       "    .dataframe tbody tr th {\n",
       "        vertical-align: top;\n",
       "    }\n",
       "\n",
       "    .dataframe thead th {\n",
       "        text-align: right;\n",
       "    }\n",
       "</style>\n",
       "<table border=\"1\" class=\"dataframe\">\n",
       "  <thead>\n",
       "    <tr style=\"text-align: right;\">\n",
       "      <th></th>\n",
       "      <th>open</th>\n",
       "      <th>high</th>\n",
       "      <th>low</th>\n",
       "      <th>close</th>\n",
       "    </tr>\n",
       "    <tr>\n",
       "      <th>date</th>\n",
       "      <th></th>\n",
       "      <th></th>\n",
       "      <th></th>\n",
       "      <th></th>\n",
       "    </tr>\n",
       "  </thead>\n",
       "  <tbody>\n",
       "    <tr>\n",
       "      <th>2003-07-03</th>\n",
       "      <td>23.00</td>\n",
       "      <td>23.00</td>\n",
       "      <td>20.10</td>\n",
       "      <td>21.30</td>\n",
       "    </tr>\n",
       "    <tr>\n",
       "      <th>2003-07-04</th>\n",
       "      <td>21.30</td>\n",
       "      <td>22.18</td>\n",
       "      <td>21.05</td>\n",
       "      <td>21.84</td>\n",
       "    </tr>\n",
       "    <tr>\n",
       "      <th>2003-07-07</th>\n",
       "      <td>21.90</td>\n",
       "      <td>21.96</td>\n",
       "      <td>21.51</td>\n",
       "      <td>21.80</td>\n",
       "    </tr>\n",
       "    <tr>\n",
       "      <th>2003-07-08</th>\n",
       "      <td>21.80</td>\n",
       "      <td>22.22</td>\n",
       "      <td>21.70</td>\n",
       "      <td>21.91</td>\n",
       "    </tr>\n",
       "    <tr>\n",
       "      <th>2003-07-09</th>\n",
       "      <td>21.75</td>\n",
       "      <td>22.65</td>\n",
       "      <td>21.70</td>\n",
       "      <td>22.47</td>\n",
       "    </tr>\n",
       "  </tbody>\n",
       "</table>\n",
       "</div>"
      ],
      "text/plain": [
       "             open   high    low  close\n",
       "date                                  \n",
       "2003-07-03  23.00  23.00  20.10  21.30\n",
       "2003-07-04  21.30  22.18  21.05  21.84\n",
       "2003-07-07  21.90  21.96  21.51  21.80\n",
       "2003-07-08  21.80  22.22  21.70  21.91\n",
       "2003-07-09  21.75  22.65  21.70  22.47"
      ]
     },
     "execution_count": 9,
     "metadata": {},
     "output_type": "execute_result"
    }
   ],
   "source": [
    "df.head()"
   ]
  },
  {
   "cell_type": "code",
   "execution_count": 10,
   "id": "630a42bb",
   "metadata": {},
   "outputs": [
    {
     "name": "stdout",
     "output_type": "stream",
     "text": [
      "[[0.27901685 0.27674383 0.25182185 0.26343232]\n",
      " [0.2532241  0.2643365  0.26720643 0.27196583]\n",
      " [0.26232743 0.2610077  0.27465585 0.27133372]\n",
      " ...\n",
      " [0.27901685 0.27674383 0.28987852 0.28334382]\n",
      " [0.27218935 0.27507943 0.28599185 0.28603032]\n",
      " [0.27279624 0.275836   0.28971657 0.28223765]]\n"
     ]
    }
   ],
   "source": [
    "#获取DataFrame中的数据，形式为数组array形式\n",
    "values=df.values\n",
    "#确保所有数据为float类型\n",
    "values=values.astype('float32')\n",
    " \n",
    "# 特征的归一化处理\n",
    "scaler = MinMaxScaler(feature_range=(0, 1))\n",
    "scaled = scaler.fit_transform(values)\n",
    "print(scaled)"
   ]
  },
  {
   "cell_type": "code",
   "execution_count": 11,
   "id": "d7576d76",
   "metadata": {},
   "outputs": [],
   "source": [
    "# 定义series_to_supervised()函数\n",
    "# 将时间序列转换为监督学习问题\n",
    "def series_to_supervised(data, n_in=1, n_out=1, dropnan=True):\n",
    "    \"\"\"\n",
    "    将时间序列框定为有监督的学习数据集。\n",
    "        论据：\n",
    "        数据：作为列表或NumPy数组的观察序列。\n",
    "        n_in：作为输入的滞后观测数（X）。\n",
    "        n_out：作为输出的观察数（y）。\n",
    "        dropnan：布尔值，决定是否删除具有NaN值的行。\n",
    "    返回：\n",
    "    pd.DataFrame(用于监督学习)\n",
    "    \"\"\"\n",
    "    n_vars = 1 if type(data) is list else data.shape[1]\n",
    "    df = pd.DataFrame(data)\n",
    "    cols, names = list(), list()\n",
    "    # input sequence (t-n, ... t-1)\n",
    "    for i in range(n_in, 0, -1):\n",
    "        cols.append(df.shift(i))\n",
    "        names += [('var%d(t-%d)' % (j + 1, i)) for j in range(n_vars)]\n",
    "    # forecast sequence (t, t+1, ... t+n)\n",
    "    for i in range(0, n_out):\n",
    "        cols.append(df.shift(-i))\n",
    "        if i == 0:\n",
    "            names += [('var%d(t)' % (j + 1)) for j in range(n_vars)]\n",
    "        else:\n",
    "            names += [('var%d(t+%d)' % (j + 1, i)) for j in range(n_vars)]\n",
    "    # put it all together\n",
    "    agg = pd.concat(cols, axis=1)\n",
    "    agg.columns = names\n",
    "    # drop rows with NaN values\n",
    "    if dropnan:\n",
    "        agg.dropna(inplace=True)\n",
    "    return agg"
   ]
  },
  {
   "cell_type": "raw",
   "id": "fd715bd0",
   "metadata": {},
   "source": [
    "该函数有四个参数：\n",
    "\n",
    "    data：输入数据需要是列表或二维的NumPy数组的观察序列。\n",
    "    n_in：输入的滞后观察数（X）。值可以在[1..len（data）]之间，可选的。默认为1。\n",
    "    n_out：输出的观察数（y）。值可以在[0..len（data）-1]之间，可选的。默认为1。\n",
    "    dropnan：Bool值，是否删除具有NaN值的行，可选的。默认为True。\n",
    "\n",
    "该函数返回一个值：\n",
    "\n",
    "    返回：用于监督学习的Pandas DataFrame。"
   ]
  },
  {
   "cell_type": "code",
   "execution_count": 12,
   "id": "ce8fd25f",
   "metadata": {
    "scrolled": true
   },
   "outputs": [],
   "source": [
    "#将时间序列转换为监督学习问题\n",
    "reframed = series_to_supervised(scaled, 1, 1)"
   ]
  },
  {
   "cell_type": "code",
   "execution_count": 13,
   "id": "17b49a57",
   "metadata": {
    "scrolled": true
   },
   "outputs": [
    {
     "data": {
      "text/html": [
       "<div>\n",
       "<style scoped>\n",
       "    .dataframe tbody tr th:only-of-type {\n",
       "        vertical-align: middle;\n",
       "    }\n",
       "\n",
       "    .dataframe tbody tr th {\n",
       "        vertical-align: top;\n",
       "    }\n",
       "\n",
       "    .dataframe thead th {\n",
       "        text-align: right;\n",
       "    }\n",
       "</style>\n",
       "<table border=\"1\" class=\"dataframe\">\n",
       "  <thead>\n",
       "    <tr style=\"text-align: right;\">\n",
       "      <th></th>\n",
       "      <th>var1(t-1)</th>\n",
       "      <th>var2(t-1)</th>\n",
       "      <th>var3(t-1)</th>\n",
       "      <th>var4(t-1)</th>\n",
       "      <th>var1(t)</th>\n",
       "      <th>var2(t)</th>\n",
       "      <th>var3(t)</th>\n",
       "      <th>var4(t)</th>\n",
       "    </tr>\n",
       "  </thead>\n",
       "  <tbody>\n",
       "    <tr>\n",
       "      <th>1</th>\n",
       "      <td>0.279017</td>\n",
       "      <td>0.276744</td>\n",
       "      <td>0.251822</td>\n",
       "      <td>0.263432</td>\n",
       "      <td>0.253224</td>\n",
       "      <td>0.264336</td>\n",
       "      <td>0.267206</td>\n",
       "      <td>0.271966</td>\n",
       "    </tr>\n",
       "    <tr>\n",
       "      <th>2</th>\n",
       "      <td>0.253224</td>\n",
       "      <td>0.264336</td>\n",
       "      <td>0.267206</td>\n",
       "      <td>0.271966</td>\n",
       "      <td>0.262327</td>\n",
       "      <td>0.261008</td>\n",
       "      <td>0.274656</td>\n",
       "      <td>0.271334</td>\n",
       "    </tr>\n",
       "    <tr>\n",
       "      <th>3</th>\n",
       "      <td>0.262327</td>\n",
       "      <td>0.261008</td>\n",
       "      <td>0.274656</td>\n",
       "      <td>0.271334</td>\n",
       "      <td>0.260810</td>\n",
       "      <td>0.264942</td>\n",
       "      <td>0.277733</td>\n",
       "      <td>0.273072</td>\n",
       "    </tr>\n",
       "    <tr>\n",
       "      <th>4</th>\n",
       "      <td>0.260810</td>\n",
       "      <td>0.264942</td>\n",
       "      <td>0.277733</td>\n",
       "      <td>0.273072</td>\n",
       "      <td>0.260052</td>\n",
       "      <td>0.271448</td>\n",
       "      <td>0.277733</td>\n",
       "      <td>0.281922</td>\n",
       "    </tr>\n",
       "    <tr>\n",
       "      <th>5</th>\n",
       "      <td>0.260052</td>\n",
       "      <td>0.271448</td>\n",
       "      <td>0.277733</td>\n",
       "      <td>0.281922</td>\n",
       "      <td>0.268851</td>\n",
       "      <td>0.275382</td>\n",
       "      <td>0.287449</td>\n",
       "      <td>0.284766</td>\n",
       "    </tr>\n",
       "  </tbody>\n",
       "</table>\n",
       "</div>"
      ],
      "text/plain": [
       "   var1(t-1)  var2(t-1)  var3(t-1)  var4(t-1)   var1(t)   var2(t)   var3(t)  \\\n",
       "1   0.279017   0.276744   0.251822   0.263432  0.253224  0.264336  0.267206   \n",
       "2   0.253224   0.264336   0.267206   0.271966  0.262327  0.261008  0.274656   \n",
       "3   0.262327   0.261008   0.274656   0.271334  0.260810  0.264942  0.277733   \n",
       "4   0.260810   0.264942   0.277733   0.273072  0.260052  0.271448  0.277733   \n",
       "5   0.260052   0.271448   0.277733   0.281922  0.268851  0.275382  0.287449   \n",
       "\n",
       "    var4(t)  \n",
       "1  0.271966  \n",
       "2  0.271334  \n",
       "3  0.273072  \n",
       "4  0.281922  \n",
       "5  0.284766  "
      ]
     },
     "execution_count": 13,
     "metadata": {},
     "output_type": "execute_result"
    }
   ],
   "source": [
    "reframed.head()"
   ]
  },
  {
   "cell_type": "code",
   "execution_count": 14,
   "id": "c1830e16",
   "metadata": {
    "scrolled": false
   },
   "outputs": [
    {
     "data": {
      "text/html": [
       "<div>\n",
       "<style scoped>\n",
       "    .dataframe tbody tr th:only-of-type {\n",
       "        vertical-align: middle;\n",
       "    }\n",
       "\n",
       "    .dataframe tbody tr th {\n",
       "        vertical-align: top;\n",
       "    }\n",
       "\n",
       "    .dataframe thead th {\n",
       "        text-align: right;\n",
       "    }\n",
       "</style>\n",
       "<table border=\"1\" class=\"dataframe\">\n",
       "  <thead>\n",
       "    <tr style=\"text-align: right;\">\n",
       "      <th></th>\n",
       "      <th>var1(t-1)</th>\n",
       "      <th>var2(t-1)</th>\n",
       "      <th>var3(t-1)</th>\n",
       "      <th>var4(t-1)</th>\n",
       "      <th>var4(t)</th>\n",
       "    </tr>\n",
       "  </thead>\n",
       "  <tbody>\n",
       "    <tr>\n",
       "      <th>1</th>\n",
       "      <td>0.279017</td>\n",
       "      <td>0.276744</td>\n",
       "      <td>0.251822</td>\n",
       "      <td>0.263432</td>\n",
       "      <td>0.271966</td>\n",
       "    </tr>\n",
       "    <tr>\n",
       "      <th>2</th>\n",
       "      <td>0.253224</td>\n",
       "      <td>0.264336</td>\n",
       "      <td>0.267206</td>\n",
       "      <td>0.271966</td>\n",
       "      <td>0.271334</td>\n",
       "    </tr>\n",
       "    <tr>\n",
       "      <th>3</th>\n",
       "      <td>0.262327</td>\n",
       "      <td>0.261008</td>\n",
       "      <td>0.274656</td>\n",
       "      <td>0.271334</td>\n",
       "      <td>0.273072</td>\n",
       "    </tr>\n",
       "    <tr>\n",
       "      <th>4</th>\n",
       "      <td>0.260810</td>\n",
       "      <td>0.264942</td>\n",
       "      <td>0.277733</td>\n",
       "      <td>0.273072</td>\n",
       "      <td>0.281922</td>\n",
       "    </tr>\n",
       "    <tr>\n",
       "      <th>5</th>\n",
       "      <td>0.260052</td>\n",
       "      <td>0.271448</td>\n",
       "      <td>0.277733</td>\n",
       "      <td>0.281922</td>\n",
       "      <td>0.284766</td>\n",
       "    </tr>\n",
       "  </tbody>\n",
       "</table>\n",
       "</div>"
      ],
      "text/plain": [
       "   var1(t-1)  var2(t-1)  var3(t-1)  var4(t-1)   var4(t)\n",
       "1   0.279017   0.276744   0.251822   0.263432  0.271966\n",
       "2   0.253224   0.264336   0.267206   0.271966  0.271334\n",
       "3   0.262327   0.261008   0.274656   0.271334  0.273072\n",
       "4   0.260810   0.264942   0.277733   0.273072  0.281922\n",
       "5   0.260052   0.271448   0.277733   0.281922  0.284766"
      ]
     },
     "execution_count": 14,
     "metadata": {},
     "output_type": "execute_result"
    }
   ],
   "source": [
    "# 删除不想预测的特征列，这里只预测收盘价\n",
    "# 所以删除的是var1(t),var2(t),var3(t),\n",
    "reframed.drop(['var1(t)','var2(t)','var3(t)'], axis=1, inplace=True)\n",
    "# 打印数据的前5行\n",
    "reframed.head()"
   ]
  },
  {
   "cell_type": "markdown",
   "id": "aa1b3979",
   "metadata": {},
   "source": [
    "## 数据划分为训练集和测试集：\n",
    "\n",
    "* 将处理后的数据集划分为训练集和测试集。这里按0.85比例划分，将训练集和测试集的最终输入（X）转换为为LSTM的输入格式，即[samples,timesteps,features]。\n",
    "\n",
    "* Keras LSTM层的工作方式是通过接收3维（N，W，F）的数字阵列，其中N是训练序列的数目，W是序列长度，F是每个序列的特征数目。\n"
   ]
  },
  {
   "cell_type": "code",
   "execution_count": 15,
   "id": "180008c8",
   "metadata": {},
   "outputs": [
    {
     "name": "stdout",
     "output_type": "stream",
     "text": [
      "(3759, 1, 4) (3759,)\n",
      "(664, 1, 4) (664,)\n"
     ]
    }
   ],
   "source": [
    "# 划分训练集和测试集\n",
    "train = reframed.iloc[:int(len(reframed)*0.85),:].values\n",
    "test = reframed.iloc[int(len(reframed)*0.85):,:].values\n",
    "# 划分训练集和测试集的输入和输出\n",
    "train_X, train_y = train[:, :-1], train[:, -1]\n",
    "test_X, test_y = test[:, :-1], test[:, -1]\n",
    "#转化为三维数据\n",
    "# reshape input to be 3D [samples, timesteps, features]\n",
    "train_X = train_X.reshape((train_X.shape[0], 1, train_X.shape[1]))\n",
    "test_X = test_X.reshape((test_X.shape[0], 1, test_X.shape[1]))\n",
    "print(train_X.shape, train_y.shape)\n",
    "print(test_X.shape, test_y.shape)"
   ]
  },
  {
   "cell_type": "markdown",
   "id": "6b1dd2dc",
   "metadata": {},
   "source": [
    "# 模型构建及其预测"
   ]
  },
  {
   "cell_type": "markdown",
   "id": "316b77a2",
   "metadata": {},
   "source": [
    "* 搭建LSTM模型并绘制损失图\n",
    "    * 本实验使用keras深度学习框架对模型进行快速搭建。建立Sequential模型，向其中添加LSTM层，设定Dropout为0.5，加入Dense层将其维度聚合为1，激活函数使用relu（也用了sigmoid作为激活函数，但实验效果不如relu），损失函数定为均方差Mean Absolute Error(MAE)。优化算法采用Adam，模型采用50个epochs并且每个batch的大小为100。其中：隐藏层有64个神经元，输出层1个神经元（回归问题），输入变量是一个时间步（t-1）的特征。在fit()函数中设置validation_data参数，记录训练集和测试集的损失。"
   ]
  },
  {
   "cell_type": "markdown",
   "id": "01a4c60e",
   "metadata": {},
   "source": [
    "### 预测一次，并保存预测结构，用于之后的验证"
   ]
  },
  {
   "cell_type": "code",
   "execution_count": 16,
   "id": "a201d3e8",
   "metadata": {},
   "outputs": [],
   "source": [
    "checkpoint_save_path = \"./checkpoint/test_1.ckpt\""
   ]
  },
  {
   "cell_type": "code",
   "execution_count": 17,
   "id": "85c713fb",
   "metadata": {
    "scrolled": true
   },
   "outputs": [],
   "source": [
    "cp_callback = tf.keras.callbacks.ModelCheckpoint(filepath=checkpoint_save_path,\n",
    "                                                 save_weights_only=True,\n",
    "                                                 save_best_only=True,\n",
    "                                                 monitor='val_loss')"
   ]
  },
  {
   "cell_type": "code",
   "execution_count": 18,
   "id": "0f13a5ba",
   "metadata": {},
   "outputs": [
    {
     "name": "stdout",
     "output_type": "stream",
     "text": [
      "Epoch 1/50\n",
      "38/38 - 4s - loss: 0.1497 - val_loss: 0.0987 - 4s/epoch - 100ms/step\n",
      "Epoch 2/50\n",
      "38/38 - 0s - loss: 0.0871 - val_loss: 0.0396 - 383ms/epoch - 10ms/step\n",
      "Epoch 3/50\n",
      "38/38 - 0s - loss: 0.0363 - val_loss: 0.0239 - 294ms/epoch - 8ms/step\n",
      "Epoch 4/50\n",
      "38/38 - 0s - loss: 0.0162 - val_loss: 0.0110 - 275ms/epoch - 7ms/step\n",
      "Epoch 5/50\n",
      "38/38 - 0s - loss: 0.0157 - val_loss: 0.0152 - 262ms/epoch - 7ms/step\n",
      "Epoch 6/50\n",
      "38/38 - 0s - loss: 0.0151 - val_loss: 0.0118 - 266ms/epoch - 7ms/step\n",
      "Epoch 7/50\n",
      "38/38 - 0s - loss: 0.0152 - val_loss: 0.0116 - 308ms/epoch - 8ms/step\n",
      "Epoch 8/50\n",
      "38/38 - 0s - loss: 0.0148 - val_loss: 0.0116 - 267ms/epoch - 7ms/step\n",
      "Epoch 9/50\n",
      "38/38 - 0s - loss: 0.0139 - val_loss: 0.0114 - 251ms/epoch - 7ms/step\n",
      "Epoch 10/50\n",
      "38/38 - 0s - loss: 0.0139 - val_loss: 0.0101 - 267ms/epoch - 7ms/step\n",
      "Epoch 11/50\n",
      "38/38 - 0s - loss: 0.0143 - val_loss: 0.0082 - 323ms/epoch - 9ms/step\n",
      "Epoch 12/50\n",
      "38/38 - 0s - loss: 0.0132 - val_loss: 0.0091 - 235ms/epoch - 6ms/step\n",
      "Epoch 13/50\n",
      "38/38 - 0s - loss: 0.0128 - val_loss: 0.0091 - 279ms/epoch - 7ms/step\n",
      "Epoch 14/50\n",
      "38/38 - 0s - loss: 0.0127 - val_loss: 0.0081 - 268ms/epoch - 7ms/step\n",
      "Epoch 15/50\n",
      "38/38 - 0s - loss: 0.0123 - val_loss: 0.0098 - 258ms/epoch - 7ms/step\n",
      "Epoch 16/50\n",
      "38/38 - 0s - loss: 0.0133 - val_loss: 0.0095 - 269ms/epoch - 7ms/step\n",
      "Epoch 17/50\n",
      "38/38 - 0s - loss: 0.0120 - val_loss: 0.0088 - 287ms/epoch - 8ms/step\n",
      "Epoch 18/50\n",
      "38/38 - 0s - loss: 0.0123 - val_loss: 0.0084 - 290ms/epoch - 8ms/step\n",
      "Epoch 19/50\n",
      "38/38 - 0s - loss: 0.0122 - val_loss: 0.0083 - 264ms/epoch - 7ms/step\n",
      "Epoch 20/50\n",
      "38/38 - 0s - loss: 0.0120 - val_loss: 0.0081 - 305ms/epoch - 8ms/step\n",
      "Epoch 21/50\n",
      "38/38 - 0s - loss: 0.0117 - val_loss: 0.0083 - 246ms/epoch - 6ms/step\n",
      "Epoch 22/50\n",
      "38/38 - 0s - loss: 0.0118 - val_loss: 0.0089 - 269ms/epoch - 7ms/step\n",
      "Epoch 23/50\n",
      "38/38 - 0s - loss: 0.0117 - val_loss: 0.0091 - 242ms/epoch - 6ms/step\n",
      "Epoch 24/50\n",
      "38/38 - 0s - loss: 0.0118 - val_loss: 0.0120 - 260ms/epoch - 7ms/step\n",
      "Epoch 25/50\n",
      "38/38 - 0s - loss: 0.0123 - val_loss: 0.0084 - 278ms/epoch - 7ms/step\n",
      "Epoch 26/50\n",
      "38/38 - 0s - loss: 0.0121 - val_loss: 0.0103 - 242ms/epoch - 6ms/step\n",
      "Epoch 27/50\n",
      "38/38 - 0s - loss: 0.0116 - val_loss: 0.0080 - 284ms/epoch - 7ms/step\n",
      "Epoch 28/50\n",
      "38/38 - 0s - loss: 0.0110 - val_loss: 0.0080 - 227ms/epoch - 6ms/step\n",
      "Epoch 29/50\n",
      "38/38 - 0s - loss: 0.0109 - val_loss: 0.0102 - 236ms/epoch - 6ms/step\n",
      "Epoch 30/50\n",
      "38/38 - 0s - loss: 0.0110 - val_loss: 0.0085 - 256ms/epoch - 7ms/step\n",
      "Epoch 31/50\n",
      "38/38 - 0s - loss: 0.0118 - val_loss: 0.0163 - 224ms/epoch - 6ms/step\n",
      "Epoch 32/50\n",
      "38/38 - 0s - loss: 0.0120 - val_loss: 0.0083 - 233ms/epoch - 6ms/step\n",
      "Epoch 33/50\n",
      "38/38 - 0s - loss: 0.0112 - val_loss: 0.0135 - 231ms/epoch - 6ms/step\n",
      "Epoch 34/50\n",
      "38/38 - 0s - loss: 0.0113 - val_loss: 0.0111 - 262ms/epoch - 7ms/step\n",
      "Epoch 35/50\n",
      "38/38 - 0s - loss: 0.0117 - val_loss: 0.0210 - 316ms/epoch - 8ms/step\n",
      "Epoch 36/50\n",
      "38/38 - 0s - loss: 0.0120 - val_loss: 0.0081 - 296ms/epoch - 8ms/step\n",
      "Epoch 37/50\n",
      "38/38 - 0s - loss: 0.0108 - val_loss: 0.0109 - 222ms/epoch - 6ms/step\n",
      "Epoch 38/50\n",
      "38/38 - 0s - loss: 0.0111 - val_loss: 0.0100 - 224ms/epoch - 6ms/step\n",
      "Epoch 39/50\n",
      "38/38 - 0s - loss: 0.0114 - val_loss: 0.0177 - 220ms/epoch - 6ms/step\n",
      "Epoch 40/50\n",
      "38/38 - 0s - loss: 0.0118 - val_loss: 0.0081 - 289ms/epoch - 8ms/step\n",
      "Epoch 41/50\n",
      "38/38 - 0s - loss: 0.0107 - val_loss: 0.0105 - 257ms/epoch - 7ms/step\n",
      "Epoch 42/50\n",
      "38/38 - 0s - loss: 0.0109 - val_loss: 0.0101 - 236ms/epoch - 6ms/step\n",
      "Epoch 43/50\n",
      "38/38 - 0s - loss: 0.0111 - val_loss: 0.0189 - 218ms/epoch - 6ms/step\n",
      "Epoch 44/50\n",
      "38/38 - 0s - loss: 0.0114 - val_loss: 0.0087 - 247ms/epoch - 7ms/step\n",
      "Epoch 45/50\n",
      "38/38 - 0s - loss: 0.0109 - val_loss: 0.0145 - 228ms/epoch - 6ms/step\n",
      "Epoch 46/50\n",
      "38/38 - 0s - loss: 0.0110 - val_loss: 0.0114 - 253ms/epoch - 7ms/step\n",
      "Epoch 47/50\n",
      "38/38 - 0s - loss: 0.0117 - val_loss: 0.0217 - 234ms/epoch - 6ms/step\n",
      "Epoch 48/50\n",
      "38/38 - 0s - loss: 0.0119 - val_loss: 0.0078 - 267ms/epoch - 7ms/step\n",
      "Epoch 49/50\n",
      "38/38 - 0s - loss: 0.0112 - val_loss: 0.0107 - 230ms/epoch - 6ms/step\n",
      "Epoch 50/50\n",
      "38/38 - 0s - loss: 0.0110 - val_loss: 0.0116 - 221ms/epoch - 6ms/step\n"
     ]
    },
    {
     "data": {
      "image/png": "[encoded data removed]",
      "text/plain": [
       "<Figure size 432x288 with 1 Axes>"
      ]
     },
     "metadata": {},
     "output_type": "display_data"
    }
   ],
   "source": [
    "# 搭建LSTM模型\n",
    "model = Sequential()\n",
    "model.add(LSTM(100, input_shape=(train_X.shape[1], train_X.shape[2])))\n",
    "model.add(Dropout(0.2))\n",
    "model.add(Dense(1,activation='relu'))\n",
    "model.compile(loss='mae', optimizer='adam')\n",
    "\n",
    "if os.path.exists(checkpoint_save_path + '.index'):\n",
    "    print('-------------load the model-----------------')\n",
    "    model.load_weights(checkpoint_save_path)\n",
    "    \n",
    "# fit network\n",
    "history = model.fit(train_X, train_y, epochs=50, batch_size=100, validation_data=(test_X, test_y), verbose=2,shuffle=False,\n",
    "                    validation_freq=1,callbacks=[cp_callback])\n",
    " \n",
    "# 绘制损失图\n",
    "plt.plot(history.history['loss'], label='train')\n",
    "plt.plot(history.history['val_loss'], label='test')\n",
    "plt.title('LSTM损失图', fontsize='12')\n",
    "plt.ylabel('loss', fontsize='10')\n",
    "plt.xlabel('epoch', fontsize='10')\n",
    "plt.legend()\n",
    "plt.show()"
   ]
  },
  {
   "cell_type": "markdown",
   "id": "2237a93a",
   "metadata": {},
   "source": [
    "* 预测并反转数据（反归一化）\n",
    "    * 需要将预测结果和测试集数据组合然后进行比例反转（invert the scaling），同时需要将测试集上的预期值也进行比例转换。 \n",
    "         这里为什么进行比例反转（反归一化）呢？（因为我们将原始数据进行了预处理（连同输出值y），此时的误差损失计算是在处理之后的数据上进行的，为了计算在原始比例上的误差需要将数据进行转化。反转时的矩阵大小一定要和原来的大小（shape）完全相同，否则就会报错。）"
   ]
  },
  {
   "cell_type": "code",
   "execution_count": 19,
   "id": "f4fbf850",
   "metadata": {},
   "outputs": [],
   "source": [
    "#模型预测收益率\n",
    "y_predict = model.predict(test_X)\n",
    "test_X = test_X.reshape((test_X.shape[0], test_X.shape[2]))\n",
    " \n",
    "# invert scaling for forecast\n",
    "#将预测结果按比例反归一化\n",
    "inv_y_test = np.concatenate((test_X[:, :3],y_predict), axis=1)\n",
    "inv_y_test = scaler.inverse_transform(inv_y_test)\n",
    "inv_y_predict=inv_y_test[:,-1]\n",
    " \n",
    "# invert scaling for actual\n",
    "#将真实结果按比例反归一化\n",
    "test_y = test_y.reshape((len(test_y), 1))\n",
    "inv_y_train = np.concatenate((test_X[:, :3],test_y), axis=1)\n",
    "inv_y_train = scaler.inverse_transform(inv_y_train)\n",
    "inv_y = inv_y_train[:, -1]"
   ]
  },
  {
   "cell_type": "code",
   "execution_count": 20,
   "id": "c855443c",
   "metadata": {
    "scrolled": false
   },
   "outputs": [
    {
     "data": {
      "text/html": [
       "<div>\n",
       "<style scoped>\n",
       "    .dataframe tbody tr th:only-of-type {\n",
       "        vertical-align: middle;\n",
       "    }\n",
       "\n",
       "    .dataframe tbody tr th {\n",
       "        vertical-align: top;\n",
       "    }\n",
       "\n",
       "    .dataframe thead th {\n",
       "        text-align: right;\n",
       "    }\n",
       "</style>\n",
       "<table border=\"1\" class=\"dataframe\">\n",
       "  <thead>\n",
       "    <tr style=\"text-align: right;\">\n",
       "      <th></th>\n",
       "      <th>反归一化后的预测结果</th>\n",
       "      <th>反归一化后的真实结果</th>\n",
       "    </tr>\n",
       "  </thead>\n",
       "  <tbody>\n",
       "    <tr>\n",
       "      <th>0</th>\n",
       "      <td>11.651294</td>\n",
       "      <td>11.22</td>\n",
       "    </tr>\n",
       "    <tr>\n",
       "      <th>1</th>\n",
       "      <td>11.449025</td>\n",
       "      <td>11.08</td>\n",
       "    </tr>\n",
       "    <tr>\n",
       "      <th>2</th>\n",
       "      <td>11.247650</td>\n",
       "      <td>11.18</td>\n",
       "    </tr>\n",
       "    <tr>\n",
       "      <th>3</th>\n",
       "      <td>11.228152</td>\n",
       "      <td>11.76</td>\n",
       "    </tr>\n",
       "    <tr>\n",
       "      <th>4</th>\n",
       "      <td>11.716422</td>\n",
       "      <td>11.51</td>\n",
       "    </tr>\n",
       "  </tbody>\n",
       "</table>\n",
       "</div>"
      ],
      "text/plain": [
       "   反归一化后的预测结果  反归一化后的真实结果\n",
       "0   11.651294       11.22\n",
       "1   11.449025       11.08\n",
       "2   11.247650       11.18\n",
       "3   11.228152       11.76\n",
       "4   11.716422       11.51"
      ]
     },
     "execution_count": 20,
     "metadata": {},
     "output_type": "execute_result"
    }
   ],
   "source": [
    "data = pd.DataFrame({\"反归一化后的预测结果\":inv_y_predict,'反归一化后的真实结果':inv_y})\n",
    "data.head()"
   ]
  },
  {
   "cell_type": "code",
   "execution_count": 21,
   "id": "1857da91",
   "metadata": {},
   "outputs": [
    {
     "data": {
      "image/png": "[encoded data removed]",
      "text/plain": [
       "<Figure size 432x288 with 1 Axes>"
      ]
     },
     "metadata": {},
     "output_type": "display_data"
    }
   ],
   "source": [
    "plt.plot(inv_y,color='red',label='Original')\n",
    "plt.plot(inv_y_predict,color='green',label='Predict')\n",
    "plt.xlabel('the number of test data')\n",
    "plt.ylabel('close')\n",
    "plt.title('预测与实际数据图')\n",
    "plt.legend()\n",
    "plt.show()"
   ]
  },
  {
   "cell_type": "code",
   "execution_count": 22,
   "id": "f473ea08",
   "metadata": {
    "scrolled": true
   },
   "outputs": [
    {
     "name": "stdout",
     "output_type": "stream",
     "text": [
      "均方误差: 1.061497\n",
      "均方根误差: 1.030290\n",
      "平均绝对误差: 0.735911\n"
     ]
    }
   ],
   "source": [
    "from sklearn.metrics import mean_squared_error, mean_absolute_error\n",
    "# 评估\n",
    "# calculate MSE 均方误差 ---> E[(预测值-真实值)^2] (预测值减真实值求平方后求均值)\n",
    "mse = mean_squared_error(inv_y_predict, inv_y)\n",
    "# calculate RMSE 均方根误差--->sqrt[MSE]    (对均方误差开方)\n",
    "rmse = math.sqrt(mean_squared_error(inv_y_predict, inv_y))\n",
    "# calculate MAE 平均绝对误差----->E[|预测值-真实值|](预测值减真实值求绝对值后求均值）\n",
    "mae = mean_absolute_error(inv_y_predict, inv_y)\n",
    "print('均方误差: %.6f' % mse)\n",
    "print('均方根误差: %.6f' % rmse)\n",
    "print('平均绝对误差: %.6f' % mae)"
   ]
  },
  {
   "cell_type": "code",
   "execution_count": 23,
   "id": "1c8b652a",
   "metadata": {},
   "outputs": [
    {
     "name": "stdout",
     "output_type": "stream",
     "text": [
      "准确率：0.9717862901040871\n"
     ]
    }
   ],
   "source": [
    "#ACC\n",
    "error = 0\n",
    "summery = 0\n",
    "for i in range(24):\n",
    "    error += abs(inv_y_predict[i] - inv_y[i])\n",
    "    summery += inv_y[i]\n",
    "acc = 1 - error/summery\n",
    "print(\"准确率：{}\".format(acc))"
   ]
  }
 ],
 "metadata": {
  "kernelspec": {
   "display_name": "deep",
   "language": "python",
   "name": "deep"
  },
  "language_info": {
   "codemirror_mode": {
    "name": "ipython",
    "version": 3
   },
   "file_extension": ".py",
   "mimetype": "text/x-python",
   "name": "python",
   "nbconvert_exporter": "python",
   "pygments_lexer": "ipython3",
   "version": "3.9.7"
  }
 },
 "nbformat": 4,
 "nbformat_minor": 5
}
