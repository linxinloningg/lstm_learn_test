{
 "cells": [
  {
   "cell_type": "code",
   "execution_count": 1,
   "id": "f28455fa",
   "metadata": {},
   "outputs": [],
   "source": [
    "import pandas as pd\n",
    "import numpy as np\n",
    "\n",
    "# data visualization\n",
    "import matplotlib.pyplot as plt\n",
    "import seaborn as sns\n",
    "%matplotlib inline\n",
    "\n",
    "import tensorflow as tf\n",
    "from sklearn.preprocessing import MinMaxScaler\n",
    "from keras.models import Sequential\n",
    "from keras.layers import LSTM,Dense,Dropout\n",
    "from sklearn.metrics import mean_squared_error,mean_absolute_error,r2_score\n",
    "\n",
    "import math \n",
    "import os "
   ]
  },
  {
   "cell_type": "code",
   "execution_count": 2,
   "id": "506cd016",
   "metadata": {},
   "outputs": [],
   "source": [
    "plt.rcParams['font.sans-serif']=['SimHei'] #用来正常显示中文标签\n",
    "plt.rcParams['axes.unicode_minus']=False #用来正常显示负号\n",
    "sns.set(font='SimHei')"
   ]
  },
  {
   "cell_type": "code",
   "execution_count": 3,
   "id": "2fd9ce76",
   "metadata": {},
   "outputs": [],
   "source": [
    "df= pd.read_csv('../dataset/min.csv')  # 读取股票文件"
   ]
  },
  {
   "cell_type": "code",
   "execution_count": 4,
   "id": "61c70e7a",
   "metadata": {
    "scrolled": true
   },
   "outputs": [
    {
     "data": {
      "text/html": [
       "<div>\n",
       "<style scoped>\n",
       "    .dataframe tbody tr th:only-of-type {\n",
       "        vertical-align: middle;\n",
       "    }\n",
       "\n",
       "    .dataframe tbody tr th {\n",
       "        vertical-align: top;\n",
       "    }\n",
       "\n",
       "    .dataframe thead th {\n",
       "        text-align: right;\n",
       "    }\n",
       "</style>\n",
       "<table border=\"1\" class=\"dataframe\">\n",
       "  <thead>\n",
       "    <tr style=\"text-align: right;\">\n",
       "      <th></th>\n",
       "      <th>时间</th>\n",
       "      <th>开盘</th>\n",
       "      <th>收盘</th>\n",
       "      <th>最高</th>\n",
       "      <th>最低</th>\n",
       "      <th>成交量</th>\n",
       "      <th>成交额</th>\n",
       "      <th>最新价</th>\n",
       "      <th>code</th>\n",
       "    </tr>\n",
       "  </thead>\n",
       "  <tbody>\n",
       "    <tr>\n",
       "      <th>0</th>\n",
       "      <td>2021-11-19 09:30:00</td>\n",
       "      <td>17.80</td>\n",
       "      <td>17.80</td>\n",
       "      <td>17.80</td>\n",
       "      <td>17.80</td>\n",
       "      <td>4127</td>\n",
       "      <td>7346060</td>\n",
       "      <td>17.80</td>\n",
       "      <td>1</td>\n",
       "    </tr>\n",
       "    <tr>\n",
       "      <th>1</th>\n",
       "      <td>2021-11-19 09:30:00</td>\n",
       "      <td>19.01</td>\n",
       "      <td>19.01</td>\n",
       "      <td>19.01</td>\n",
       "      <td>19.01</td>\n",
       "      <td>1718</td>\n",
       "      <td>3265918</td>\n",
       "      <td>19.01</td>\n",
       "      <td>2</td>\n",
       "    </tr>\n",
       "    <tr>\n",
       "      <th>2</th>\n",
       "      <td>2021-11-19 09:30:00</td>\n",
       "      <td>18.84</td>\n",
       "      <td>18.84</td>\n",
       "      <td>18.84</td>\n",
       "      <td>18.84</td>\n",
       "      <td>568</td>\n",
       "      <td>1070112</td>\n",
       "      <td>18.84</td>\n",
       "      <td>4</td>\n",
       "    </tr>\n",
       "    <tr>\n",
       "      <th>3</th>\n",
       "      <td>2021-11-19 09:30:00</td>\n",
       "      <td>4.12</td>\n",
       "      <td>4.12</td>\n",
       "      <td>4.12</td>\n",
       "      <td>4.12</td>\n",
       "      <td>29</td>\n",
       "      <td>11750</td>\n",
       "      <td>4.12</td>\n",
       "      <td>6</td>\n",
       "    </tr>\n",
       "    <tr>\n",
       "      <th>4</th>\n",
       "      <td>2021-11-19 09:30:00</td>\n",
       "      <td>2.14</td>\n",
       "      <td>2.14</td>\n",
       "      <td>2.14</td>\n",
       "      <td>2.14</td>\n",
       "      <td>165</td>\n",
       "      <td>35310</td>\n",
       "      <td>2.14</td>\n",
       "      <td>8</td>\n",
       "    </tr>\n",
       "  </tbody>\n",
       "</table>\n",
       "</div>"
      ],
      "text/plain": [
       "                    时间     开盘     收盘     最高     最低   成交量      成交额    最新价  code\n",
       "0  2021-11-19 09:30:00  17.80  17.80  17.80  17.80  4127  7346060  17.80     1\n",
       "1  2021-11-19 09:30:00  19.01  19.01  19.01  19.01  1718  3265918  19.01     2\n",
       "2  2021-11-19 09:30:00  18.84  18.84  18.84  18.84   568  1070112  18.84     4\n",
       "3  2021-11-19 09:30:00   4.12   4.12   4.12   4.12    29    11750   4.12     6\n",
       "4  2021-11-19 09:30:00   2.14   2.14   2.14   2.14   165    35310   2.14     8"
      ]
     },
     "execution_count": 4,
     "metadata": {},
     "output_type": "execute_result"
    }
   ],
   "source": [
    "df.head()"
   ]
  },
  {
   "cell_type": "code",
   "execution_count": 5,
   "id": "524798d2",
   "metadata": {},
   "outputs": [],
   "source": [
    "df = df.loc[df['code'] == 600031]\n",
    "df.drop(['code'],axis=1,inplace=True)"
   ]
  },
  {
   "cell_type": "code",
   "execution_count": 6,
   "id": "5022e477",
   "metadata": {},
   "outputs": [],
   "source": [
    "df.set_index('时间',inplace=True)"
   ]
  },
  {
   "cell_type": "code",
   "execution_count": 7,
   "id": "9840770d",
   "metadata": {
    "scrolled": false
   },
   "outputs": [
    {
     "data": {
      "text/html": [
       "<div>\n",
       "<style scoped>\n",
       "    .dataframe tbody tr th:only-of-type {\n",
       "        vertical-align: middle;\n",
       "    }\n",
       "\n",
       "    .dataframe tbody tr th {\n",
       "        vertical-align: top;\n",
       "    }\n",
       "\n",
       "    .dataframe thead th {\n",
       "        text-align: right;\n",
       "    }\n",
       "</style>\n",
       "<table border=\"1\" class=\"dataframe\">\n",
       "  <thead>\n",
       "    <tr style=\"text-align: right;\">\n",
       "      <th></th>\n",
       "      <th>开盘</th>\n",
       "      <th>收盘</th>\n",
       "      <th>最高</th>\n",
       "      <th>最低</th>\n",
       "      <th>成交量</th>\n",
       "      <th>成交额</th>\n",
       "      <th>最新价</th>\n",
       "    </tr>\n",
       "    <tr>\n",
       "      <th>时间</th>\n",
       "      <th></th>\n",
       "      <th></th>\n",
       "      <th></th>\n",
       "      <th></th>\n",
       "      <th></th>\n",
       "      <th></th>\n",
       "      <th></th>\n",
       "    </tr>\n",
       "  </thead>\n",
       "  <tbody>\n",
       "    <tr>\n",
       "      <th>2021-11-19 09:30:00</th>\n",
       "      <td>21.66</td>\n",
       "      <td>21.66</td>\n",
       "      <td>21.66</td>\n",
       "      <td>21.66</td>\n",
       "      <td>3208</td>\n",
       "      <td>6948528</td>\n",
       "      <td>21.660</td>\n",
       "    </tr>\n",
       "    <tr>\n",
       "      <th>2021-11-19 09:31:00</th>\n",
       "      <td>21.65</td>\n",
       "      <td>21.62</td>\n",
       "      <td>21.69</td>\n",
       "      <td>21.60</td>\n",
       "      <td>11702</td>\n",
       "      <td>25326434</td>\n",
       "      <td>21.647</td>\n",
       "    </tr>\n",
       "    <tr>\n",
       "      <th>2021-11-19 09:32:00</th>\n",
       "      <td>21.61</td>\n",
       "      <td>21.65</td>\n",
       "      <td>21.66</td>\n",
       "      <td>21.61</td>\n",
       "      <td>7952</td>\n",
       "      <td>17191749</td>\n",
       "      <td>21.637</td>\n",
       "    </tr>\n",
       "    <tr>\n",
       "      <th>2021-11-19 09:33:00</th>\n",
       "      <td>21.65</td>\n",
       "      <td>21.73</td>\n",
       "      <td>21.75</td>\n",
       "      <td>21.65</td>\n",
       "      <td>5002</td>\n",
       "      <td>10861705</td>\n",
       "      <td>21.651</td>\n",
       "    </tr>\n",
       "    <tr>\n",
       "      <th>2021-11-19 09:34:00</th>\n",
       "      <td>21.73</td>\n",
       "      <td>21.69</td>\n",
       "      <td>21.73</td>\n",
       "      <td>21.66</td>\n",
       "      <td>6512</td>\n",
       "      <td>14127838</td>\n",
       "      <td>21.659</td>\n",
       "    </tr>\n",
       "  </tbody>\n",
       "</table>\n",
       "</div>"
      ],
      "text/plain": [
       "                        开盘     收盘     最高     最低    成交量       成交额     最新价\n",
       "时间                                                                      \n",
       "2021-11-19 09:30:00  21.66  21.66  21.66  21.66   3208   6948528  21.660\n",
       "2021-11-19 09:31:00  21.65  21.62  21.69  21.60  11702  25326434  21.647\n",
       "2021-11-19 09:32:00  21.61  21.65  21.66  21.61   7952  17191749  21.637\n",
       "2021-11-19 09:33:00  21.65  21.73  21.75  21.65   5002  10861705  21.651\n",
       "2021-11-19 09:34:00  21.73  21.69  21.73  21.66   6512  14127838  21.659"
      ]
     },
     "execution_count": 7,
     "metadata": {},
     "output_type": "execute_result"
    }
   ],
   "source": [
    "df.head()"
   ]
  },
  {
   "cell_type": "markdown",
   "id": "033e6e78",
   "metadata": {},
   "source": [
    "# 添加特征"
   ]
  },
  {
   "cell_type": "code",
   "execution_count": null,
   "id": "1abb5f47",
   "metadata": {},
   "outputs": [],
   "source": [
    "datalist = list()\n",
    "for i in range(len(df)):\n",
    "    datalist.append(df.iloc[:])"
   ]
  },
  {
   "cell_type": "markdown",
   "id": "160539e0",
   "metadata": {},
   "source": [
    "## 数据检查"
   ]
  },
  {
   "cell_type": "code",
   "execution_count": 8,
   "id": "54a2df6e",
   "metadata": {},
   "outputs": [],
   "source": [
    "# Function to check the missing percent of a DatFrame;\n",
    "def check_missing_data(df):\n",
    "    total = df.isnull().sum().sort_values(ascending = False)\n",
    "    percent = round(df.isnull().sum().sort_values(ascending = False) * 100 /len(df),2)\n",
    "    return pd.concat([total, percent], axis=1, keys=['Total','Percent'])"
   ]
  },
  {
   "cell_type": "code",
   "execution_count": 9,
   "id": "862a721d",
   "metadata": {},
   "outputs": [
    {
     "data": {
      "text/html": [
       "<div>\n",
       "<style scoped>\n",
       "    .dataframe tbody tr th:only-of-type {\n",
       "        vertical-align: middle;\n",
       "    }\n",
       "\n",
       "    .dataframe tbody tr th {\n",
       "        vertical-align: top;\n",
       "    }\n",
       "\n",
       "    .dataframe thead th {\n",
       "        text-align: right;\n",
       "    }\n",
       "</style>\n",
       "<table border=\"1\" class=\"dataframe\">\n",
       "  <thead>\n",
       "    <tr style=\"text-align: right;\">\n",
       "      <th></th>\n",
       "      <th>Total</th>\n",
       "      <th>Percent</th>\n",
       "    </tr>\n",
       "  </thead>\n",
       "  <tbody>\n",
       "    <tr>\n",
       "      <th>开盘</th>\n",
       "      <td>0</td>\n",
       "      <td>0.0</td>\n",
       "    </tr>\n",
       "    <tr>\n",
       "      <th>收盘</th>\n",
       "      <td>0</td>\n",
       "      <td>0.0</td>\n",
       "    </tr>\n",
       "    <tr>\n",
       "      <th>最高</th>\n",
       "      <td>0</td>\n",
       "      <td>0.0</td>\n",
       "    </tr>\n",
       "    <tr>\n",
       "      <th>最低</th>\n",
       "      <td>0</td>\n",
       "      <td>0.0</td>\n",
       "    </tr>\n",
       "    <tr>\n",
       "      <th>成交量</th>\n",
       "      <td>0</td>\n",
       "      <td>0.0</td>\n",
       "    </tr>\n",
       "    <tr>\n",
       "      <th>成交额</th>\n",
       "      <td>0</td>\n",
       "      <td>0.0</td>\n",
       "    </tr>\n",
       "    <tr>\n",
       "      <th>最新价</th>\n",
       "      <td>0</td>\n",
       "      <td>0.0</td>\n",
       "    </tr>\n",
       "  </tbody>\n",
       "</table>\n",
       "</div>"
      ],
      "text/plain": [
       "     Total  Percent\n",
       "开盘       0      0.0\n",
       "收盘       0      0.0\n",
       "最高       0      0.0\n",
       "最低       0      0.0\n",
       "成交量      0      0.0\n",
       "成交额      0      0.0\n",
       "最新价      0      0.0"
      ]
     },
     "execution_count": 9,
     "metadata": {},
     "output_type": "execute_result"
    }
   ],
   "source": [
    "check_missing_data(df)"
   ]
  },
  {
   "cell_type": "code",
   "execution_count": 10,
   "id": "350f50c5",
   "metadata": {
    "scrolled": true
   },
   "outputs": [
    {
     "data": {
      "image/png": "[encoded data removed]",
      "text/plain": [
       "<Figure size 432x288 with 2 Axes>"
      ]
     },
     "metadata": {},
     "output_type": "display_data"
    }
   ],
   "source": [
    "sns.heatmap(df.corr())\n",
    "plt.show()"
   ]
  },
  {
   "cell_type": "code",
   "execution_count": 11,
   "id": "c94543c3",
   "metadata": {},
   "outputs": [
    {
     "name": "stdout",
     "output_type": "stream",
     "text": [
      "[[0.44444275 0.44444275 0.40350723 ... 0.0789418  0.07797702 0.777771  ]\n",
      " [0.4259262  0.37037277 0.45614243 ... 0.33575207 0.331144   0.6927948 ]\n",
      " [0.35185242 0.4259262  0.40350723 ... 0.2223734  0.2190837  0.6274414 ]\n",
      " ...\n",
      " [0.90740967 0.8888893  0.84210587 ... 0.19649282 0.196412   0.9738617 ]\n",
      " [0.90740967 0.9259262  0.87719345 ... 0.32244897 0.32232267 0.9869232 ]\n",
      " [0.9259262  0.9259262  0.87719345 ... 0.23579745 0.23581582 1.        ]]\n"
     ]
    }
   ],
   "source": [
    "#获取DataFrame中的数据，形式为数组array形式\n",
    "values=df.values\n",
    "#确保所有数据为float类型\n",
    "values=values.astype('float32')\n",
    " \n",
    "# 特征的归一化处理\n",
    "scaler = MinMaxScaler(feature_range=(0, 1))\n",
    "scaled = scaler.fit_transform(values)\n",
    "print(scaled)"
   ]
  },
  {
   "cell_type": "code",
   "execution_count": 12,
   "id": "bee1cd05",
   "metadata": {},
   "outputs": [],
   "source": [
    "# 定义series_to_supervised()函数\n",
    "# 将时间序列转换为监督学习问题\n",
    "def series_to_supervised(data, n_in=1, n_out=1, dropnan=True):\n",
    "    \"\"\"\n",
    "    将时间序列框定为有监督的学习数据集。\n",
    "        论据：\n",
    "        数据：作为列表或NumPy数组的观察序列。\n",
    "        n_in：作为输入的滞后观测数（X）。\n",
    "        n_out：作为输出的观察数（y）。\n",
    "        dropnan：布尔值，决定是否删除具有NaN值的行。\n",
    "    返回：\n",
    "    pd.DataFrame(用于监督学习)\n",
    "    \"\"\"\n",
    "    n_vars = 1 if type(data) is list else data.shape[1]\n",
    "    df = pd.DataFrame(data)\n",
    "    cols, names = list(), list()\n",
    "    # input sequence (t-n, ... t-1)\n",
    "    for i in range(n_in, 0, -1):\n",
    "        cols.append(df.shift(i))\n",
    "        names += [('var%d(t-%d)' % (j + 1, i)) for j in range(n_vars)]\n",
    "    # forecast sequence (t, t+1, ... t+n)\n",
    "    for i in range(0, n_out):\n",
    "        cols.append(df.shift(-i))\n",
    "        if i == 0:\n",
    "            names += [('var%d(t)' % (j + 1)) for j in range(n_vars)]\n",
    "        else:\n",
    "            names += [('var%d(t+%d)' % (j + 1, i)) for j in range(n_vars)]\n",
    "    # put it all together\n",
    "    agg = pd.concat(cols, axis=1)\n",
    "    agg.columns = names\n",
    "    # drop rows with NaN values\n",
    "    if dropnan:\n",
    "        agg.dropna(inplace=True)\n",
    "    return agg"
   ]
  },
  {
   "cell_type": "raw",
   "id": "f331b2f2",
   "metadata": {},
   "source": [
    "该函数有四个参数：\n",
    "\n",
    "    data：输入数据需要是列表或二维的NumPy数组的观察序列。\n",
    "    n_in：输入的滞后观察数（X）。值可以在[1..len（data）]之间，可选的。默认为1。\n",
    "    n_out：输出的观察数（y）。值可以在[0..len（data）-1]之间，可选的。默认为1。\n",
    "    dropnan：Bool值，是否删除具有NaN值的行，可选的。默认为True。\n",
    "\n",
    "该函数返回一个值：\n",
    "\n",
    "    返回：用于监督学习的Pandas DataFrame。"
   ]
  },
  {
   "cell_type": "code",
   "execution_count": 13,
   "id": "6ef2ef1e",
   "metadata": {
    "scrolled": true
   },
   "outputs": [],
   "source": [
    "#将时间序列转换为监督学习问题\n",
    "reframed = series_to_supervised(scaled, 1, 1)"
   ]
  },
  {
   "cell_type": "code",
   "execution_count": 14,
   "id": "76bad08c",
   "metadata": {
    "scrolled": true
   },
   "outputs": [
    {
     "data": {
      "text/html": [
       "<div>\n",
       "<style scoped>\n",
       "    .dataframe tbody tr th:only-of-type {\n",
       "        vertical-align: middle;\n",
       "    }\n",
       "\n",
       "    .dataframe tbody tr th {\n",
       "        vertical-align: top;\n",
       "    }\n",
       "\n",
       "    .dataframe thead th {\n",
       "        text-align: right;\n",
       "    }\n",
       "</style>\n",
       "<table border=\"1\" class=\"dataframe\">\n",
       "  <thead>\n",
       "    <tr style=\"text-align: right;\">\n",
       "      <th></th>\n",
       "      <th>var1(t-1)</th>\n",
       "      <th>var2(t-1)</th>\n",
       "      <th>var3(t-1)</th>\n",
       "      <th>var4(t-1)</th>\n",
       "      <th>var5(t-1)</th>\n",
       "      <th>var6(t-1)</th>\n",
       "      <th>var7(t-1)</th>\n",
       "      <th>var1(t)</th>\n",
       "      <th>var2(t)</th>\n",
       "      <th>var3(t)</th>\n",
       "      <th>var4(t)</th>\n",
       "      <th>var5(t)</th>\n",
       "      <th>var6(t)</th>\n",
       "      <th>var7(t)</th>\n",
       "    </tr>\n",
       "  </thead>\n",
       "  <tbody>\n",
       "    <tr>\n",
       "      <th>1</th>\n",
       "      <td>0.444443</td>\n",
       "      <td>0.444443</td>\n",
       "      <td>0.403507</td>\n",
       "      <td>0.471695</td>\n",
       "      <td>0.078942</td>\n",
       "      <td>0.077977</td>\n",
       "      <td>0.777771</td>\n",
       "      <td>0.425926</td>\n",
       "      <td>0.370373</td>\n",
       "      <td>0.456142</td>\n",
       "      <td>0.358490</td>\n",
       "      <td>0.335752</td>\n",
       "      <td>0.331144</td>\n",
       "      <td>0.692795</td>\n",
       "    </tr>\n",
       "    <tr>\n",
       "      <th>2</th>\n",
       "      <td>0.425926</td>\n",
       "      <td>0.370373</td>\n",
       "      <td>0.456142</td>\n",
       "      <td>0.358490</td>\n",
       "      <td>0.335752</td>\n",
       "      <td>0.331144</td>\n",
       "      <td>0.692795</td>\n",
       "      <td>0.351852</td>\n",
       "      <td>0.425926</td>\n",
       "      <td>0.403507</td>\n",
       "      <td>0.377357</td>\n",
       "      <td>0.222373</td>\n",
       "      <td>0.219084</td>\n",
       "      <td>0.627441</td>\n",
       "    </tr>\n",
       "    <tr>\n",
       "      <th>3</th>\n",
       "      <td>0.351852</td>\n",
       "      <td>0.425926</td>\n",
       "      <td>0.403507</td>\n",
       "      <td>0.377357</td>\n",
       "      <td>0.222373</td>\n",
       "      <td>0.219084</td>\n",
       "      <td>0.627441</td>\n",
       "      <td>0.425926</td>\n",
       "      <td>0.574074</td>\n",
       "      <td>0.561401</td>\n",
       "      <td>0.452827</td>\n",
       "      <td>0.133182</td>\n",
       "      <td>0.131883</td>\n",
       "      <td>0.718948</td>\n",
       "    </tr>\n",
       "    <tr>\n",
       "      <th>4</th>\n",
       "      <td>0.425926</td>\n",
       "      <td>0.574074</td>\n",
       "      <td>0.561401</td>\n",
       "      <td>0.452827</td>\n",
       "      <td>0.133182</td>\n",
       "      <td>0.131883</td>\n",
       "      <td>0.718948</td>\n",
       "      <td>0.574074</td>\n",
       "      <td>0.500000</td>\n",
       "      <td>0.526314</td>\n",
       "      <td>0.471695</td>\n",
       "      <td>0.178836</td>\n",
       "      <td>0.176876</td>\n",
       "      <td>0.771240</td>\n",
       "    </tr>\n",
       "    <tr>\n",
       "      <th>5</th>\n",
       "      <td>0.574074</td>\n",
       "      <td>0.500000</td>\n",
       "      <td>0.526314</td>\n",
       "      <td>0.471695</td>\n",
       "      <td>0.178836</td>\n",
       "      <td>0.176876</td>\n",
       "      <td>0.771240</td>\n",
       "      <td>0.500000</td>\n",
       "      <td>0.462963</td>\n",
       "      <td>0.473686</td>\n",
       "      <td>0.452827</td>\n",
       "      <td>0.119788</td>\n",
       "      <td>0.118366</td>\n",
       "      <td>0.784302</td>\n",
       "    </tr>\n",
       "  </tbody>\n",
       "</table>\n",
       "</div>"
      ],
      "text/plain": [
       "   var1(t-1)  var2(t-1)  var3(t-1)  var4(t-1)  var5(t-1)  var6(t-1)  \\\n",
       "1   0.444443   0.444443   0.403507   0.471695   0.078942   0.077977   \n",
       "2   0.425926   0.370373   0.456142   0.358490   0.335752   0.331144   \n",
       "3   0.351852   0.425926   0.403507   0.377357   0.222373   0.219084   \n",
       "4   0.425926   0.574074   0.561401   0.452827   0.133182   0.131883   \n",
       "5   0.574074   0.500000   0.526314   0.471695   0.178836   0.176876   \n",
       "\n",
       "   var7(t-1)   var1(t)   var2(t)   var3(t)   var4(t)   var5(t)   var6(t)  \\\n",
       "1   0.777771  0.425926  0.370373  0.456142  0.358490  0.335752  0.331144   \n",
       "2   0.692795  0.351852  0.425926  0.403507  0.377357  0.222373  0.219084   \n",
       "3   0.627441  0.425926  0.574074  0.561401  0.452827  0.133182  0.131883   \n",
       "4   0.718948  0.574074  0.500000  0.526314  0.471695  0.178836  0.176876   \n",
       "5   0.771240  0.500000  0.462963  0.473686  0.452827  0.119788  0.118366   \n",
       "\n",
       "    var7(t)  \n",
       "1  0.692795  \n",
       "2  0.627441  \n",
       "3  0.718948  \n",
       "4  0.771240  \n",
       "5  0.784302  "
      ]
     },
     "execution_count": 14,
     "metadata": {},
     "output_type": "execute_result"
    }
   ],
   "source": [
    "reframed.head()"
   ]
  },
  {
   "cell_type": "code",
   "execution_count": 15,
   "id": "aaaf7b39",
   "metadata": {
    "scrolled": false
   },
   "outputs": [
    {
     "data": {
      "text/html": [
       "<div>\n",
       "<style scoped>\n",
       "    .dataframe tbody tr th:only-of-type {\n",
       "        vertical-align: middle;\n",
       "    }\n",
       "\n",
       "    .dataframe tbody tr th {\n",
       "        vertical-align: top;\n",
       "    }\n",
       "\n",
       "    .dataframe thead th {\n",
       "        text-align: right;\n",
       "    }\n",
       "</style>\n",
       "<table border=\"1\" class=\"dataframe\">\n",
       "  <thead>\n",
       "    <tr style=\"text-align: right;\">\n",
       "      <th></th>\n",
       "      <th>var1(t-1)</th>\n",
       "      <th>var2(t-1)</th>\n",
       "      <th>var3(t-1)</th>\n",
       "      <th>var4(t-1)</th>\n",
       "      <th>var5(t-1)</th>\n",
       "      <th>var6(t-1)</th>\n",
       "      <th>var7(t-1)</th>\n",
       "      <th>var7(t)</th>\n",
       "    </tr>\n",
       "  </thead>\n",
       "  <tbody>\n",
       "    <tr>\n",
       "      <th>1</th>\n",
       "      <td>0.444443</td>\n",
       "      <td>0.444443</td>\n",
       "      <td>0.403507</td>\n",
       "      <td>0.471695</td>\n",
       "      <td>0.078942</td>\n",
       "      <td>0.077977</td>\n",
       "      <td>0.777771</td>\n",
       "      <td>0.692795</td>\n",
       "    </tr>\n",
       "    <tr>\n",
       "      <th>2</th>\n",
       "      <td>0.425926</td>\n",
       "      <td>0.370373</td>\n",
       "      <td>0.456142</td>\n",
       "      <td>0.358490</td>\n",
       "      <td>0.335752</td>\n",
       "      <td>0.331144</td>\n",
       "      <td>0.692795</td>\n",
       "      <td>0.627441</td>\n",
       "    </tr>\n",
       "    <tr>\n",
       "      <th>3</th>\n",
       "      <td>0.351852</td>\n",
       "      <td>0.425926</td>\n",
       "      <td>0.403507</td>\n",
       "      <td>0.377357</td>\n",
       "      <td>0.222373</td>\n",
       "      <td>0.219084</td>\n",
       "      <td>0.627441</td>\n",
       "      <td>0.718948</td>\n",
       "    </tr>\n",
       "    <tr>\n",
       "      <th>4</th>\n",
       "      <td>0.425926</td>\n",
       "      <td>0.574074</td>\n",
       "      <td>0.561401</td>\n",
       "      <td>0.452827</td>\n",
       "      <td>0.133182</td>\n",
       "      <td>0.131883</td>\n",
       "      <td>0.718948</td>\n",
       "      <td>0.771240</td>\n",
       "    </tr>\n",
       "    <tr>\n",
       "      <th>5</th>\n",
       "      <td>0.574074</td>\n",
       "      <td>0.500000</td>\n",
       "      <td>0.526314</td>\n",
       "      <td>0.471695</td>\n",
       "      <td>0.178836</td>\n",
       "      <td>0.176876</td>\n",
       "      <td>0.771240</td>\n",
       "      <td>0.784302</td>\n",
       "    </tr>\n",
       "  </tbody>\n",
       "</table>\n",
       "</div>"
      ],
      "text/plain": [
       "   var1(t-1)  var2(t-1)  var3(t-1)  var4(t-1)  var5(t-1)  var6(t-1)  \\\n",
       "1   0.444443   0.444443   0.403507   0.471695   0.078942   0.077977   \n",
       "2   0.425926   0.370373   0.456142   0.358490   0.335752   0.331144   \n",
       "3   0.351852   0.425926   0.403507   0.377357   0.222373   0.219084   \n",
       "4   0.425926   0.574074   0.561401   0.452827   0.133182   0.131883   \n",
       "5   0.574074   0.500000   0.526314   0.471695   0.178836   0.176876   \n",
       "\n",
       "   var7(t-1)   var7(t)  \n",
       "1   0.777771  0.692795  \n",
       "2   0.692795  0.627441  \n",
       "3   0.627441  0.718948  \n",
       "4   0.718948  0.771240  \n",
       "5   0.771240  0.784302  "
      ]
     },
     "execution_count": 15,
     "metadata": {},
     "output_type": "execute_result"
    }
   ],
   "source": [
    "# 删除不想预测的特征列，这里只预测收盘价\n",
    "# 所以删除的是var1(t),var2(t),var3(t),\n",
    "reframed.drop(['var1(t)','var2(t)','var3(t)','var4(t)','var5(t)','var6(t)'], axis=1, inplace=True)\n",
    "# 打印数据的前5行\n",
    "reframed.head()"
   ]
  },
  {
   "cell_type": "markdown",
   "id": "c52b915c",
   "metadata": {},
   "source": [
    "## 数据划分为训练集和测试集：\n",
    "\n",
    "* 将处理后的数据集划分为训练集和测试集。这里按0.85比例划分，将训练集和测试集的最终输入（X）转换为为LSTM的输入格式，即[samples,timesteps,features]。\n",
    "\n",
    "* Keras LSTM层的工作方式是通过接收3维（N，W，F）的数字阵列，其中N是训练序列的数目，W是序列长度，F是每个序列的特征数目。\n"
   ]
  },
  {
   "cell_type": "code",
   "execution_count": 16,
   "id": "1fb4061b",
   "metadata": {},
   "outputs": [
    {
     "name": "stdout",
     "output_type": "stream",
     "text": [
      "(201, 1, 7) (201,)\n",
      "(36, 1, 7) (36,)\n"
     ]
    }
   ],
   "source": [
    "# 划分训练集和测试集\n",
    "train = reframed.iloc[:int(len(reframed)*0.85),:].values\n",
    "test = reframed.iloc[int(len(reframed)*0.85):,:].values\n",
    "# 划分训练集和测试集的输入和输出\n",
    "train_X, train_y = train[:, :-1], train[:, -1]\n",
    "test_X, test_y = test[:, :-1], test[:, -1]\n",
    "#转化为三维数据\n",
    "# reshape input to be 3D [samples, timesteps, features]\n",
    "train_X = train_X.reshape((train_X.shape[0], 1, train_X.shape[1]))\n",
    "test_X = test_X.reshape((test_X.shape[0], 1, test_X.shape[1]))\n",
    "print(train_X.shape, train_y.shape)\n",
    "print(test_X.shape, test_y.shape)"
   ]
  },
  {
   "cell_type": "markdown",
   "id": "7f65a19c",
   "metadata": {},
   "source": [
    "# 模型构建及其预测"
   ]
  },
  {
   "cell_type": "markdown",
   "id": "012a2906",
   "metadata": {},
   "source": [
    "* 搭建LSTM模型并绘制损失图\n",
    "    * 本实验使用keras深度学习框架对模型进行快速搭建。建立Sequential模型，向其中添加LSTM层，设定Dropout为0.5，加入Dense层将其维度聚合为1，激活函数使用relu（也用了sigmoid作为激活函数，但实验效果不如relu），损失函数定为均方差Mean Absolute Error(MAE)。优化算法采用Adam，模型采用50个epochs并且每个batch的大小为100。其中：隐藏层有64个神经元，输出层1个神经元（回归问题），输入变量是一个时间步（t-1）的特征。在fit()函数中设置validation_data参数，记录训练集和测试集的损失。"
   ]
  },
  {
   "cell_type": "markdown",
   "id": "e3ee2975",
   "metadata": {},
   "source": [
    "### 预测一次，并保存预测结构，用于之后的验证"
   ]
  },
  {
   "cell_type": "code",
   "execution_count": 17,
   "id": "b71edde8",
   "metadata": {},
   "outputs": [],
   "source": [
    "checkpoint_save_path = \"./checkpoint/test_4_1.ckpt\""
   ]
  },
  {
   "cell_type": "code",
   "execution_count": 18,
   "id": "e85a0f7c",
   "metadata": {
    "scrolled": true
   },
   "outputs": [],
   "source": [
    "cp_callback = tf.keras.callbacks.ModelCheckpoint(filepath=checkpoint_save_path,\n",
    "                                                 save_weights_only=True,\n",
    "                                                 save_best_only=True,\n",
    "                                                 monitor='val_loss')"
   ]
  },
  {
   "cell_type": "markdown",
   "id": "a38a1a38",
   "metadata": {},
   "source": [
    "* LSTM(neurons, input_shape=(input_timesteps, input_dim), return_sequences=return_seq)\n",
    "* Dropout(dropout_rate)\n",
    "* Dense(neurons, activation=activation)"
   ]
  },
  {
   "cell_type": "code",
   "execution_count": 19,
   "id": "e41c3d1a",
   "metadata": {},
   "outputs": [
    {
     "data": {
      "text/plain": [
       "(1, 7)"
      ]
     },
     "execution_count": 19,
     "metadata": {},
     "output_type": "execute_result"
    }
   ],
   "source": [
    "train_X.shape[1], train_X.shape[2]"
   ]
  },
  {
   "cell_type": "code",
   "execution_count": 20,
   "id": "2738cd6d",
   "metadata": {
    "scrolled": false
   },
   "outputs": [
    {
     "name": "stdout",
     "output_type": "stream",
     "text": [
      "-------------load the model-----------------\n",
      "Epoch 1/50\n",
      "3/3 - 9s - loss: 0.1058 - val_loss: 0.0532 - 9s/epoch - 3s/step\n",
      "Epoch 2/50\n",
      "3/3 - 0s - loss: 0.1045 - val_loss: 0.0551 - 81ms/epoch - 27ms/step\n",
      "Epoch 3/50\n",
      "3/3 - 0s - loss: 0.1028 - val_loss: 0.0908 - 77ms/epoch - 26ms/step\n",
      "Epoch 4/50\n",
      "3/3 - 0s - loss: 0.1114 - val_loss: 0.1539 - 83ms/epoch - 28ms/step\n",
      "Epoch 5/50\n",
      "3/3 - 0s - loss: 0.1184 - val_loss: 0.1887 - 74ms/epoch - 25ms/step\n",
      "Epoch 6/50\n",
      "3/3 - 0s - loss: 0.1106 - val_loss: 0.1258 - 76ms/epoch - 25ms/step\n",
      "Epoch 7/50\n",
      "3/3 - 0s - loss: 0.0931 - val_loss: 0.0286 - 132ms/epoch - 44ms/step\n",
      "Epoch 8/50\n",
      "3/3 - 0s - loss: 0.0809 - val_loss: 0.0914 - 86ms/epoch - 29ms/step\n",
      "Epoch 9/50\n",
      "3/3 - 0s - loss: 0.0898 - val_loss: 0.0956 - 68ms/epoch - 23ms/step\n",
      "Epoch 10/50\n",
      "3/3 - 0s - loss: 0.0887 - val_loss: 0.0437 - 74ms/epoch - 25ms/step\n",
      "Epoch 11/50\n",
      "3/3 - 0s - loss: 0.0882 - val_loss: 0.0707 - 70ms/epoch - 23ms/step\n",
      "Epoch 12/50\n",
      "3/3 - 0s - loss: 0.0959 - val_loss: 0.1945 - 86ms/epoch - 29ms/step\n",
      "Epoch 13/50\n",
      "3/3 - 0s - loss: 0.1144 - val_loss: 0.2754 - 160ms/epoch - 53ms/step\n",
      "Epoch 14/50\n",
      "3/3 - 0s - loss: 0.1133 - val_loss: 0.2379 - 108ms/epoch - 36ms/step\n",
      "Epoch 15/50\n",
      "3/3 - 0s - loss: 0.0977 - val_loss: 0.1208 - 107ms/epoch - 36ms/step\n",
      "Epoch 16/50\n",
      "3/3 - 0s - loss: 0.0762 - val_loss: 0.0373 - 131ms/epoch - 44ms/step\n",
      "Epoch 17/50\n",
      "3/3 - 0s - loss: 0.0811 - val_loss: 0.1264 - 115ms/epoch - 38ms/step\n",
      "Epoch 18/50\n",
      "3/3 - 0s - loss: 0.0913 - val_loss: 0.1431 - 97ms/epoch - 32ms/step\n",
      "Epoch 19/50\n",
      "3/3 - 0s - loss: 0.0956 - val_loss: 0.0991 - 87ms/epoch - 29ms/step\n",
      "Epoch 20/50\n",
      "3/3 - 0s - loss: 0.0881 - val_loss: 0.0315 - 76ms/epoch - 25ms/step\n",
      "Epoch 21/50\n",
      "3/3 - 0s - loss: 0.0807 - val_loss: 0.0642 - 86ms/epoch - 29ms/step\n",
      "Epoch 22/50\n",
      "3/3 - 0s - loss: 0.0835 - val_loss: 0.0616 - 86ms/epoch - 29ms/step\n",
      "Epoch 23/50\n",
      "3/3 - 0s - loss: 0.0768 - val_loss: 0.0269 - 157ms/epoch - 52ms/step\n",
      "Epoch 24/50\n",
      "3/3 - 0s - loss: 0.0715 - val_loss: 0.0572 - 98ms/epoch - 33ms/step\n",
      "Epoch 25/50\n",
      "3/3 - 0s - loss: 0.0783 - val_loss: 0.0509 - 82ms/epoch - 27ms/step\n",
      "Epoch 26/50\n",
      "3/3 - 0s - loss: 0.0789 - val_loss: 0.0257 - 497ms/epoch - 166ms/step\n",
      "Epoch 27/50\n",
      "3/3 - 0s - loss: 0.0739 - val_loss: 0.0875 - 70ms/epoch - 23ms/step\n",
      "Epoch 28/50\n",
      "3/3 - 0s - loss: 0.0865 - val_loss: 0.1500 - 66ms/epoch - 22ms/step\n",
      "Epoch 29/50\n",
      "3/3 - 0s - loss: 0.0825 - val_loss: 0.1241 - 68ms/epoch - 23ms/step\n",
      "Epoch 30/50\n",
      "3/3 - 0s - loss: 0.0767 - val_loss: 0.0387 - 75ms/epoch - 25ms/step\n",
      "Epoch 31/50\n",
      "3/3 - 0s - loss: 0.0671 - val_loss: 0.0450 - 71ms/epoch - 24ms/step\n",
      "Epoch 32/50\n",
      "3/3 - 0s - loss: 0.0728 - val_loss: 0.0759 - 78ms/epoch - 26ms/step\n",
      "Epoch 33/50\n",
      "3/3 - 0s - loss: 0.0733 - val_loss: 0.1030 - 80ms/epoch - 27ms/step\n",
      "Epoch 34/50\n",
      "3/3 - 0s - loss: 0.0786 - val_loss: 0.0706 - 81ms/epoch - 27ms/step\n",
      "Epoch 35/50\n",
      "3/3 - 0s - loss: 0.0710 - val_loss: 0.0244 - 435ms/epoch - 145ms/step\n",
      "Epoch 36/50\n",
      "3/3 - 0s - loss: 0.0671 - val_loss: 0.1186 - 162ms/epoch - 54ms/step\n",
      "Epoch 37/50\n",
      "3/3 - 0s - loss: 0.0780 - val_loss: 0.2044 - 141ms/epoch - 47ms/step\n",
      "Epoch 38/50\n",
      "3/3 - 0s - loss: 0.0888 - val_loss: 0.1822 - 89ms/epoch - 30ms/step\n",
      "Epoch 39/50\n",
      "3/3 - 0s - loss: 0.0727 - val_loss: 0.0848 - 87ms/epoch - 29ms/step\n",
      "Epoch 40/50\n",
      "3/3 - 0s - loss: 0.0612 - val_loss: 0.0252 - 81ms/epoch - 27ms/step\n",
      "Epoch 41/50\n",
      "3/3 - 0s - loss: 0.0612 - val_loss: 0.0288 - 84ms/epoch - 28ms/step\n",
      "Epoch 42/50\n",
      "3/3 - 0s - loss: 0.0673 - val_loss: 0.0252 - 89ms/epoch - 30ms/step\n",
      "Epoch 43/50\n",
      "3/3 - 0s - loss: 0.0644 - val_loss: 0.0236 - 396ms/epoch - 132ms/step\n",
      "Epoch 44/50\n",
      "3/3 - 0s - loss: 0.0621 - val_loss: 0.0322 - 74ms/epoch - 25ms/step\n",
      "Epoch 45/50\n",
      "3/3 - 0s - loss: 0.0594 - val_loss: 0.0330 - 72ms/epoch - 24ms/step\n",
      "Epoch 46/50\n",
      "3/3 - 0s - loss: 0.0595 - val_loss: 0.0411 - 70ms/epoch - 23ms/step\n",
      "Epoch 47/50\n",
      "3/3 - 0s - loss: 0.0570 - val_loss: 0.0236 - 77ms/epoch - 26ms/step\n",
      "Epoch 48/50\n",
      "3/3 - 0s - loss: 0.0552 - val_loss: 0.0449 - 78ms/epoch - 26ms/step\n",
      "Epoch 49/50\n",
      "3/3 - 0s - loss: 0.0591 - val_loss: 0.0315 - 76ms/epoch - 25ms/step\n",
      "Epoch 50/50\n",
      "3/3 - 0s - loss: 0.0562 - val_loss: 0.0215 - 420ms/epoch - 140ms/step\n"
     ]
    },
    {
     "data": {
      "image/png": "[encoded data removed]",
      "text/plain": [
       "<Figure size 432x288 with 1 Axes>"
      ]
     },
     "metadata": {},
     "output_type": "display_data"
    }
   ],
   "source": [
    "# 搭建LSTM模型\n",
    "model = Sequential()\n",
    "\n",
    "model.add(LSTM(100, input_shape=(train_X.shape[1], train_X.shape[2]),return_sequences=True))\n",
    "\n",
    "model.add(Dropout(0.2))\n",
    "\n",
    "model.add(LSTM(100,return_sequences=True))\n",
    "model.add(LSTM(100,return_sequences=False))\n",
    "\n",
    "model.add(Dropout(0.2))\n",
    "\n",
    "model.add(Dense(1,activation='relu'))\n",
    "\n",
    "model.compile(loss='mae', optimizer='adam')\n",
    "\n",
    "if os.path.exists(checkpoint_save_path + '.index'):\n",
    "    print('-------------load the model-----------------')\n",
    "    model.load_weights(checkpoint_save_path)\n",
    "    \n",
    "# fit network\n",
    "history = model.fit(train_X, train_y, epochs=50, batch_size=100, validation_data=(test_X, test_y), verbose=2,shuffle=False,\n",
    "                    validation_freq=1,callbacks=[cp_callback])\n",
    " \n",
    "# 绘制损失图\n",
    "plt.plot(history.history['loss'], label='train')\n",
    "plt.plot(history.history['val_loss'], label='test')\n",
    "plt.title('LSTM损失图', fontsize='12')\n",
    "plt.ylabel('loss', fontsize='10')\n",
    "plt.xlabel('epoch', fontsize='10')\n",
    "plt.legend()\n",
    "plt.show()"
   ]
  },
  {
   "cell_type": "markdown",
   "id": "134ba838",
   "metadata": {},
   "source": [
    "* 预测并反转数据（反归一化）\n",
    "    * 需要将预测结果和测试集数据组合然后进行比例反转（invert the scaling），同时需要将测试集上的预期值也进行比例转换。 \n",
    "         这里为什么进行比例反转（反归一化）呢？（因为我们将原始数据进行了预处理（连同输出值y），此时的误差损失计算是在处理之后的数据上进行的，为了计算在原始比例上的误差需要将数据进行转化。反转时的矩阵大小一定要和原来的大小（shape）完全相同，否则就会报错。）"
   ]
  },
  {
   "cell_type": "code",
   "execution_count": 21,
   "id": "b024ee64",
   "metadata": {
    "scrolled": true
   },
   "outputs": [],
   "source": [
    "#模型预测收益率\n",
    "y_predict = model.predict(test_X)\n",
    "test_X = test_X.reshape((test_X.shape[0], test_X.shape[2]))\n",
    " \n",
    "# invert scaling for forecast\n",
    "#将预测结果按比例反归一化\n",
    "inv_y_test = np.concatenate((test_X[:, :6],y_predict), axis=1)\n",
    "inv_y_test = scaler.inverse_transform(inv_y_test)\n",
    "inv_y_predict=inv_y_test[:,-1]\n",
    " \n",
    "# invert scaling for actual\n",
    "#将真实结果按比例反归一化\n",
    "test_y = test_y.reshape((len(test_y), 1))\n",
    "inv_y_train = np.concatenate((test_X[:, :6],test_y), axis=1)\n",
    "inv_y_train = scaler.inverse_transform(inv_y_train)\n",
    "inv_y = inv_y_train[:, -1]"
   ]
  },
  {
   "cell_type": "code",
   "execution_count": 22,
   "id": "9220b6f0",
   "metadata": {
    "scrolled": true
   },
   "outputs": [
    {
     "data": {
      "text/html": [
       "<div>\n",
       "<style scoped>\n",
       "    .dataframe tbody tr th:only-of-type {\n",
       "        vertical-align: middle;\n",
       "    }\n",
       "\n",
       "    .dataframe tbody tr th {\n",
       "        vertical-align: top;\n",
       "    }\n",
       "\n",
       "    .dataframe thead th {\n",
       "        text-align: right;\n",
       "    }\n",
       "</style>\n",
       "<table border=\"1\" class=\"dataframe\">\n",
       "  <thead>\n",
       "    <tr style=\"text-align: right;\">\n",
       "      <th></th>\n",
       "      <th>反归一化后的预测结果</th>\n",
       "      <th>反归一化后的真实结果</th>\n",
       "    </tr>\n",
       "  </thead>\n",
       "  <tbody>\n",
       "    <tr>\n",
       "      <th>0</th>\n",
       "      <td>21.638746</td>\n",
       "      <td>21.643999</td>\n",
       "    </tr>\n",
       "    <tr>\n",
       "      <th>1</th>\n",
       "      <td>21.638653</td>\n",
       "      <td>21.646000</td>\n",
       "    </tr>\n",
       "    <tr>\n",
       "      <th>2</th>\n",
       "      <td>21.645906</td>\n",
       "      <td>21.646000</td>\n",
       "    </tr>\n",
       "    <tr>\n",
       "      <th>3</th>\n",
       "      <td>21.647150</td>\n",
       "      <td>21.646997</td>\n",
       "    </tr>\n",
       "    <tr>\n",
       "      <th>4</th>\n",
       "      <td>21.645836</td>\n",
       "      <td>21.646997</td>\n",
       "    </tr>\n",
       "  </tbody>\n",
       "</table>\n",
       "</div>"
      ],
      "text/plain": [
       "   反归一化后的预测结果  反归一化后的真实结果\n",
       "0   21.638746   21.643999\n",
       "1   21.638653   21.646000\n",
       "2   21.645906   21.646000\n",
       "3   21.647150   21.646997\n",
       "4   21.645836   21.646997"
      ]
     },
     "execution_count": 22,
     "metadata": {},
     "output_type": "execute_result"
    }
   ],
   "source": [
    "data = pd.DataFrame({\"反归一化后的预测结果\":inv_y_predict,'反归一化后的真实结果':inv_y})\n",
    "data.head()"
   ]
  },
  {
   "cell_type": "code",
   "execution_count": 23,
   "id": "4afb1ae4",
   "metadata": {},
   "outputs": [
    {
     "data": {
      "image/png": "[encoded data removed]",
      "text/plain": [
       "<Figure size 432x288 with 1 Axes>"
      ]
     },
     "metadata": {},
     "output_type": "display_data"
    }
   ],
   "source": [
    "plt.plot(inv_y,color='red',label='Original')\n",
    "plt.plot(inv_y_predict,color='green',label='Predict')\n",
    "plt.xlabel('the number of test data')\n",
    "plt.ylabel('close')\n",
    "plt.title('预测与实际数据图')\n",
    "plt.legend()\n",
    "plt.show()"
   ]
  },
  {
   "cell_type": "code",
   "execution_count": 24,
   "id": "7b6485c6",
   "metadata": {
    "scrolled": true
   },
   "outputs": [
    {
     "name": "stdout",
     "output_type": "stream",
     "text": [
      "均方误差: 0.000019\n",
      "均方根误差: 0.004317\n",
      "平均绝对误差: 0.003289\n"
     ]
    }
   ],
   "source": [
    "from sklearn.metrics import mean_squared_error, mean_absolute_error\n",
    "# 评估\n",
    "# calculate MSE 均方误差 ---> E[(预测值-真实值)^2] (预测值减真实值求平方后求均值)\n",
    "mse = mean_squared_error(inv_y_predict, inv_y)\n",
    "# calculate RMSE 均方根误差--->sqrt[MSE]    (对均方误差开方)\n",
    "rmse = math.sqrt(mean_squared_error(inv_y_predict, inv_y))\n",
    "# calculate MAE 平均绝对误差----->E[|预测值-真实值|](预测值减真实值求绝对值后求均值）\n",
    "mae = mean_absolute_error(inv_y_predict, inv_y)\n",
    "print('均方误差: %.6f' % mse)\n",
    "print('均方根误差: %.6f' % rmse)\n",
    "print('平均绝对误差: %.6f' % mae)"
   ]
  },
  {
   "cell_type": "code",
   "execution_count": 25,
   "id": "2416ac22",
   "metadata": {},
   "outputs": [
    {
     "name": "stdout",
     "output_type": "stream",
     "text": [
      "准确率：0.9998692095603793\n"
     ]
    }
   ],
   "source": [
    "#ACC\n",
    "error = 0\n",
    "summery = 0\n",
    "for i in range(24):\n",
    "    error += abs(inv_y_predict[i] - inv_y[i])\n",
    "    summery += inv_y[i]\n",
    "acc = 1 - error/summery\n",
    "print(\"准确率：{}\".format(acc))"
   ]
  },
  {
   "cell_type": "code",
   "execution_count": null,
   "id": "b466deff",
   "metadata": {},
   "outputs": [],
   "source": []
  }
 ],
 "metadata": {
  "kernelspec": {
   "display_name": "deep",
   "language": "python",
   "name": "deep"
  },
  "language_info": {
   "codemirror_mode": {
    "name": "ipython",
    "version": 3
   },
   "file_extension": ".py",
   "mimetype": "text/x-python",
   "name": "python",
   "nbconvert_exporter": "python",
   "pygments_lexer": "ipython3",
   "version": "3.9.7"
  }
 },
 "nbformat": 4,
 "nbformat_minor": 5
}
