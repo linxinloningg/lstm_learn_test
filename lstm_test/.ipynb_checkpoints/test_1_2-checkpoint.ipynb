{
 "cells": [
  {
   "cell_type": "code",
   "execution_count": 1,
   "id": "52545e6a",
   "metadata": {},
   "outputs": [],
   "source": [
    "import pandas as pd\n",
    "import numpy as np\n",
    "from sklearn.preprocessing import MinMaxScaler\n",
    "import matplotlib.pyplot as plt\n",
    "from core.model import Model\n",
    "\n",
    "import json"
   ]
  },
  {
   "cell_type": "code",
   "execution_count": 2,
   "id": "2797ad65",
   "metadata": {},
   "outputs": [],
   "source": [
    "def plot_results(predicted_data, true_data):\n",
    "    fig = plt.figure(facecolor='white')\n",
    "    ax = fig.add_subplot(111)\n",
    "    ax.plot(true_data, label='True Data')\n",
    "    plt.plot(predicted_data, label='Prediction')\n",
    "    plt.legend()\n",
    "    plt.show()"
   ]
  },
  {
   "cell_type": "code",
   "execution_count": 3,
   "id": "c4b0840c",
   "metadata": {},
   "outputs": [],
   "source": [
    "df = pd.read_csv('./data/sh600031.csv')  # 读取股票文件\n",
    "df.set_index('date', inplace=True)"
   ]
  },
  {
   "cell_type": "code",
   "execution_count": 4,
   "id": "439b183e",
   "metadata": {},
   "outputs": [],
   "source": [
    "df.drop(['volume'],axis=1,inplace=True)"
   ]
  },
  {
   "cell_type": "code",
   "execution_count": 5,
   "id": "588096bf",
   "metadata": {},
   "outputs": [
    {
     "data": {
      "text/html": [
       "<div>\n",
       "<style scoped>\n",
       "    .dataframe tbody tr th:only-of-type {\n",
       "        vertical-align: middle;\n",
       "    }\n",
       "\n",
       "    .dataframe tbody tr th {\n",
       "        vertical-align: top;\n",
       "    }\n",
       "\n",
       "    .dataframe thead th {\n",
       "        text-align: right;\n",
       "    }\n",
       "</style>\n",
       "<table border=\"1\" class=\"dataframe\">\n",
       "  <thead>\n",
       "    <tr style=\"text-align: right;\">\n",
       "      <th></th>\n",
       "      <th>open</th>\n",
       "      <th>high</th>\n",
       "      <th>low</th>\n",
       "      <th>close</th>\n",
       "    </tr>\n",
       "    <tr>\n",
       "      <th>date</th>\n",
       "      <th></th>\n",
       "      <th></th>\n",
       "      <th></th>\n",
       "      <th></th>\n",
       "    </tr>\n",
       "  </thead>\n",
       "  <tbody>\n",
       "    <tr>\n",
       "      <th>2003-07-03</th>\n",
       "      <td>23.00</td>\n",
       "      <td>23.00</td>\n",
       "      <td>20.10</td>\n",
       "      <td>21.30</td>\n",
       "    </tr>\n",
       "    <tr>\n",
       "      <th>2003-07-04</th>\n",
       "      <td>21.30</td>\n",
       "      <td>22.18</td>\n",
       "      <td>21.05</td>\n",
       "      <td>21.84</td>\n",
       "    </tr>\n",
       "    <tr>\n",
       "      <th>2003-07-07</th>\n",
       "      <td>21.90</td>\n",
       "      <td>21.96</td>\n",
       "      <td>21.51</td>\n",
       "      <td>21.80</td>\n",
       "    </tr>\n",
       "    <tr>\n",
       "      <th>2003-07-08</th>\n",
       "      <td>21.80</td>\n",
       "      <td>22.22</td>\n",
       "      <td>21.70</td>\n",
       "      <td>21.91</td>\n",
       "    </tr>\n",
       "    <tr>\n",
       "      <th>2003-07-09</th>\n",
       "      <td>21.75</td>\n",
       "      <td>22.65</td>\n",
       "      <td>21.70</td>\n",
       "      <td>22.47</td>\n",
       "    </tr>\n",
       "  </tbody>\n",
       "</table>\n",
       "</div>"
      ],
      "text/plain": [
       "             open   high    low  close\n",
       "date                                  \n",
       "2003-07-03  23.00  23.00  20.10  21.30\n",
       "2003-07-04  21.30  22.18  21.05  21.84\n",
       "2003-07-07  21.90  21.96  21.51  21.80\n",
       "2003-07-08  21.80  22.22  21.70  21.91\n",
       "2003-07-09  21.75  22.65  21.70  22.47"
      ]
     },
     "execution_count": 5,
     "metadata": {},
     "output_type": "execute_result"
    }
   ],
   "source": [
    "df.head()"
   ]
  },
  {
   "cell_type": "code",
   "execution_count": 6,
   "id": "8e91a869",
   "metadata": {},
   "outputs": [],
   "source": [
    "# 获取DataFrame中的数据，形式为数组array形式\n",
    "values = df.values\n",
    "# 确保所有数据为float类型\n",
    "values = values.astype('float32')"
   ]
  },
  {
   "cell_type": "code",
   "execution_count": 7,
   "id": "fbdb18bb",
   "metadata": {},
   "outputs": [],
   "source": [
    "# 定义series_to_supervised()函数\n",
    "# 将时间序列转换为监督学习问题\n",
    "def series_to_supervised(data, training_category, forecast_category, n_in=1, n_out=1, dropnan=True):\n",
    "    \"\"\"\n",
    "    将时间序列框定为有监督的学习数据集。\n",
    "        论据：\n",
    "        数据：作为列表或NumPy数组的观察序列。\n",
    "        n_in：作为输入的滞后观测数（X）。\n",
    "        n_out：作为输出的观察数（y）。\n",
    "        dropnan：布尔值，决定是否删除具有NaN值的行。\n",
    "    返回：\n",
    "    pd.DataFrame(用于监督学习)\n",
    "    \"\"\"\n",
    "    cols, names = list(), list()\n",
    "    \n",
    "    df = pd.DataFrame(data,columns = training_category)\n",
    "    n_vars =  df.shape[1]\n",
    "    # input sequence (t-n, ... t-1)\n",
    "    for i in range(n_in, 0, -1):\n",
    "        cols.append(df.shift(i))\n",
    "        names += [('var%d(t-%d)' % (j + 1, i)) for j in range(n_vars)]\n",
    "    \n",
    "    # forecast sequence (t, t+1, ... t+n)\n",
    "    df = df.drop([column for column in df.columns if column not in forecast_category],axis=1)\n",
    "    n_vars =  df.shape[1]\n",
    "    for i in range(0, n_out):\n",
    "        cols.append(df.shift(-i))\n",
    "        if i == 0:\n",
    "            names += [('var%d(t)' % (j + 1)) for j in range(n_vars)]\n",
    "        else:\n",
    "            names += [('var%d(t+%d)' % (j + 1, i)) for j in range(n_vars)]\n",
    "    \n",
    "    # put it all together\n",
    "    agg = pd.concat(cols, axis=1)\n",
    "    agg.columns = names\n",
    "    # drop rows with NaN values\n",
    "    if dropnan:\n",
    "        agg.dropna(inplace=True)\n",
    "    return agg"
   ]
  },
  {
   "cell_type": "code",
   "execution_count": 8,
   "id": "b4599843",
   "metadata": {
    "scrolled": true
   },
   "outputs": [],
   "source": [
    "# 将时间序列转换为监督学习问题\n",
    "reframed = series_to_supervised(values,['open','high','low','close'],['close'],1, 1)"
   ]
  },
  {
   "cell_type": "code",
   "execution_count": 9,
   "id": "885302e4",
   "metadata": {
    "scrolled": true
   },
   "outputs": [
    {
     "data": {
      "text/html": [
       "<div>\n",
       "<style scoped>\n",
       "    .dataframe tbody tr th:only-of-type {\n",
       "        vertical-align: middle;\n",
       "    }\n",
       "\n",
       "    .dataframe tbody tr th {\n",
       "        vertical-align: top;\n",
       "    }\n",
       "\n",
       "    .dataframe thead th {\n",
       "        text-align: right;\n",
       "    }\n",
       "</style>\n",
       "<table border=\"1\" class=\"dataframe\">\n",
       "  <thead>\n",
       "    <tr style=\"text-align: right;\">\n",
       "      <th></th>\n",
       "      <th>var1(t-1)</th>\n",
       "      <th>var2(t-1)</th>\n",
       "      <th>var3(t-1)</th>\n",
       "      <th>var4(t-1)</th>\n",
       "      <th>var1(t)</th>\n",
       "    </tr>\n",
       "  </thead>\n",
       "  <tbody>\n",
       "    <tr>\n",
       "      <th>1</th>\n",
       "      <td>23.000000</td>\n",
       "      <td>23.000000</td>\n",
       "      <td>20.100000</td>\n",
       "      <td>21.299999</td>\n",
       "      <td>21.840000</td>\n",
       "    </tr>\n",
       "    <tr>\n",
       "      <th>2</th>\n",
       "      <td>21.299999</td>\n",
       "      <td>22.180000</td>\n",
       "      <td>21.049999</td>\n",
       "      <td>21.840000</td>\n",
       "      <td>21.799999</td>\n",
       "    </tr>\n",
       "    <tr>\n",
       "      <th>3</th>\n",
       "      <td>21.900000</td>\n",
       "      <td>21.959999</td>\n",
       "      <td>21.510000</td>\n",
       "      <td>21.799999</td>\n",
       "      <td>21.910000</td>\n",
       "    </tr>\n",
       "    <tr>\n",
       "      <th>4</th>\n",
       "      <td>21.799999</td>\n",
       "      <td>22.219999</td>\n",
       "      <td>21.700001</td>\n",
       "      <td>21.910000</td>\n",
       "      <td>22.469999</td>\n",
       "    </tr>\n",
       "    <tr>\n",
       "      <th>5</th>\n",
       "      <td>21.750000</td>\n",
       "      <td>22.650000</td>\n",
       "      <td>21.700001</td>\n",
       "      <td>22.469999</td>\n",
       "      <td>22.650000</td>\n",
       "    </tr>\n",
       "  </tbody>\n",
       "</table>\n",
       "</div>"
      ],
      "text/plain": [
       "   var1(t-1)  var2(t-1)  var3(t-1)  var4(t-1)    var1(t)\n",
       "1  23.000000  23.000000  20.100000  21.299999  21.840000\n",
       "2  21.299999  22.180000  21.049999  21.840000  21.799999\n",
       "3  21.900000  21.959999  21.510000  21.799999  21.910000\n",
       "4  21.799999  22.219999  21.700001  21.910000  22.469999\n",
       "5  21.750000  22.650000  21.700001  22.469999  22.650000"
      ]
     },
     "execution_count": 9,
     "metadata": {},
     "output_type": "execute_result"
    }
   ],
   "source": [
    "reframed.head()"
   ]
  },
  {
   "cell_type": "code",
   "execution_count": 10,
   "id": "91d4be5a",
   "metadata": {},
   "outputs": [],
   "source": [
    "# 划分训练集和测试集\n",
    "train = reframed.iloc[:int(len(reframed) * 0.85), :].values\n",
    "test = reframed.iloc[int(len(reframed) * 0.85):, :].values\n",
    "# 划分训练集和测试集的输入和输出\n",
    "train_X, train_y = train[:, :-1], train[:, -1:]\n",
    "test_X, test_y = test[:, :-1], test[:, -1:]\n",
    "# 转化为三维数据\n",
    "# reshape input to be 3D [samples, timesteps, features]\n",
    "train_X = train_X.reshape((train_X.shape[0], 1, train_X.shape[1]))\n",
    "test_X = test_X.reshape((test_X.shape[0], 1, test_X.shape[1]))"
   ]
  },
  {
   "cell_type": "code",
   "execution_count": 11,
   "id": "2768241e",
   "metadata": {},
   "outputs": [
    {
     "data": {
      "text/plain": [
       "((3759, 1, 4), (664, 1, 4))"
      ]
     },
     "execution_count": 11,
     "metadata": {},
     "output_type": "execute_result"
    }
   ],
   "source": [
    "train_X.shape,test_X.shape"
   ]
  },
  {
   "cell_type": "code",
   "execution_count": 12,
   "id": "46db573f",
   "metadata": {},
   "outputs": [
    {
     "data": {
      "text/plain": [
       "((3759, 1), (664, 1))"
      ]
     },
     "execution_count": 12,
     "metadata": {},
     "output_type": "execute_result"
    }
   ],
   "source": [
    "train_y.shape,test_y.shape"
   ]
  },
  {
   "cell_type": "code",
   "execution_count": 13,
   "id": "474b0179",
   "metadata": {
    "scrolled": false
   },
   "outputs": [],
   "source": [
    "configs = json.load(open('./test_1/config.json', 'r'))"
   ]
  },
  {
   "cell_type": "code",
   "execution_count": 14,
   "id": "baa20f5c",
   "metadata": {},
   "outputs": [
    {
     "name": "stdout",
     "output_type": "stream",
     "text": [
      "[Model] Model Compiled\n",
      "Time taken: 0:00:01.416287\n"
     ]
    }
   ],
   "source": [
    "model = Model()\n",
    "model.build_model(configs, train_X.shape[1], train_X.shape[2])"
   ]
  },
  {
   "cell_type": "code",
   "execution_count": 15,
   "id": "8eaa9e30",
   "metadata": {},
   "outputs": [
    {
     "name": "stdout",
     "output_type": "stream",
     "text": [
      "[Model] Training Started\n",
      "[Model] 50 epochs, 64 batch size\n",
      "Epoch 1/50\n",
      "59/59 [==============================] - 13s 52ms/step - loss: 300.5077 - val_loss: 147.7256\n",
      "Epoch 2/50\n",
      "59/59 [==============================] - 1s 15ms/step - loss: 135.4594 - val_loss: 87.1035\n",
      "Epoch 3/50\n",
      "59/59 [==============================] - 1s 15ms/step - loss: 84.0734 - val_loss: 47.6324\n",
      "Epoch 4/50\n",
      "59/59 [==============================] - 1s 16ms/step - loss: 59.4979 - val_loss: 28.8080\n",
      "Epoch 5/50\n",
      "59/59 [==============================] - 1s 16ms/step - loss: 44.3788 - val_loss: 17.8411\n",
      "Epoch 6/50\n",
      "59/59 [==============================] - 1s 16ms/step - loss: 34.7002 - val_loss: 11.9282\n",
      "Epoch 7/50\n",
      "59/59 [==============================] - 1s 15ms/step - loss: 28.1831 - val_loss: 10.4712\n",
      "Epoch 8/50\n",
      "59/59 [==============================] - 1s 15ms/step - loss: 23.4493 - val_loss: 6.1697\n",
      "Epoch 9/50\n",
      "59/59 [==============================] - 1s 16ms/step - loss: 19.8516 - val_loss: 5.3911\n",
      "Epoch 10/50\n",
      "59/59 [==============================] - 1s 15ms/step - loss: 17.8596 - val_loss: 4.9884\n",
      "Epoch 11/50\n",
      "59/59 [==============================] - 1s 15ms/step - loss: 14.7311 - val_loss: 2.4946\n",
      "Epoch 12/50\n",
      "59/59 [==============================] - 1s 15ms/step - loss: 13.0771 - val_loss: 2.8459\n",
      "Epoch 13/50\n",
      "59/59 [==============================] - 1s 16ms/step - loss: 10.9262 - val_loss: 1.5286\n",
      "Epoch 14/50\n",
      "59/59 [==============================] - 1s 15ms/step - loss: 9.8842 - val_loss: 2.4242\n",
      "Epoch 15/50\n",
      "59/59 [==============================] - 1s 16ms/step - loss: 9.0451 - val_loss: 1.0663\n",
      "Epoch 16/50\n",
      "59/59 [==============================] - 1s 17ms/step - loss: 8.1228 - val_loss: 1.4587\n",
      "Epoch 17/50\n",
      "59/59 [==============================] - 1s 15ms/step - loss: 7.4648 - val_loss: 0.7143\n",
      "Epoch 18/50\n",
      "59/59 [==============================] - 1s 16ms/step - loss: 7.0800 - val_loss: 2.4127\n",
      "Epoch 19/50\n",
      "59/59 [==============================] - 1s 16ms/step - loss: 7.1271 - val_loss: 0.5882\n",
      "Epoch 20/50\n",
      "59/59 [==============================] - 1s 16ms/step - loss: 6.1002 - val_loss: 0.7718\n",
      "Epoch 21/50\n",
      "59/59 [==============================] - 1s 15ms/step - loss: 5.7685 - val_loss: 0.6426\n",
      "Epoch 22/50\n",
      "59/59 [==============================] - 1s 15ms/step - loss: 5.2688 - val_loss: 1.3907\n",
      "Epoch 23/50\n",
      "59/59 [==============================] - 1s 14ms/step - loss: 5.1615 - val_loss: 3.3114\n",
      "Epoch 24/50\n",
      "59/59 [==============================] - 1s 15ms/step - loss: 4.8603 - val_loss: 3.5583\n",
      "Epoch 25/50\n",
      "59/59 [==============================] - 1s 15ms/step - loss: 4.9564 - val_loss: 1.3790\n",
      "Epoch 26/50\n",
      "59/59 [==============================] - 1s 15ms/step - loss: 4.2637 - val_loss: 1.5026\n",
      "Epoch 27/50\n",
      "59/59 [==============================] - 1s 16ms/step - loss: 4.0642 - val_loss: 0.6844\n",
      "Epoch 28/50\n",
      "59/59 [==============================] - 1s 15ms/step - loss: 3.8466 - val_loss: 1.4313\n",
      "Epoch 29/50\n",
      "59/59 [==============================] - 1s 16ms/step - loss: 3.8749 - val_loss: 0.6119\n",
      "Epoch 30/50\n",
      "59/59 [==============================] - 1s 14ms/step - loss: 3.7540 - val_loss: 0.8309\n",
      "Epoch 31/50\n",
      "59/59 [==============================] - 1s 15ms/step - loss: 4.4073 - val_loss: 0.8694\n",
      "Epoch 32/50\n",
      "59/59 [==============================] - 1s 15ms/step - loss: 3.6484 - val_loss: 1.1380\n",
      "Epoch 33/50\n",
      "59/59 [==============================] - 1s 15ms/step - loss: 3.6292 - val_loss: 1.7741\n",
      "Epoch 34/50\n",
      "59/59 [==============================] - 1s 15ms/step - loss: 4.0664 - val_loss: 0.8581\n",
      "Epoch 35/50\n",
      "59/59 [==============================] - 1s 15ms/step - loss: 3.4612 - val_loss: 0.7738\n",
      "Epoch 36/50\n",
      "59/59 [==============================] - 1s 15ms/step - loss: 3.4833 - val_loss: 1.2165\n",
      "Epoch 37/50\n",
      "59/59 [==============================] - 1s 15ms/step - loss: 3.2748 - val_loss: 0.7706\n",
      "Epoch 38/50\n",
      "59/59 [==============================] - 1s 15ms/step - loss: 2.9400 - val_loss: 2.7172\n",
      "Epoch 39/50\n",
      "59/59 [==============================] - 1s 14ms/step - loss: 3.3381 - val_loss: 0.9430\n",
      "Epoch 40/50\n",
      "59/59 [==============================] - 1s 15ms/step - loss: 3.2051 - val_loss: 0.6328\n",
      "Epoch 41/50\n",
      "59/59 [==============================] - 1s 15ms/step - loss: 3.6080 - val_loss: 0.7543\n",
      "Epoch 42/50\n",
      "59/59 [==============================] - 1s 15ms/step - loss: 3.4490 - val_loss: 0.6546\n",
      "Epoch 43/50\n",
      "59/59 [==============================] - 1s 16ms/step - loss: 2.8891 - val_loss: 0.5730\n",
      "Epoch 44/50\n",
      "59/59 [==============================] - 1s 15ms/step - loss: 3.1218 - val_loss: 1.5324\n",
      "Epoch 45/50\n",
      "59/59 [==============================] - 1s 15ms/step - loss: 3.3160 - val_loss: 1.3535\n",
      "Epoch 46/50\n",
      "59/59 [==============================] - 1s 15ms/step - loss: 3.1972 - val_loss: 3.5283\n",
      "Epoch 47/50\n",
      "59/59 [==============================] - 1s 15ms/step - loss: 3.6031 - val_loss: 4.4382\n",
      "Epoch 48/50\n",
      "59/59 [==============================] - 1s 14ms/step - loss: 3.3686 - val_loss: 2.6029\n",
      "Epoch 49/50\n",
      "59/59 [==============================] - 1s 15ms/step - loss: 3.1507 - val_loss: 1.0676\n",
      "Epoch 50/50\n",
      "59/59 [==============================] - 1s 15ms/step - loss: 3.6010 - val_loss: 1.8397\n",
      "[Model] Training Completed. Model saved as save_models\n",
      "Time taken: 0:00:57.689763\n"
     ]
    }
   ],
   "source": [
    "# 内存中训练\n",
    "model.train(\n",
    "    train_X,\n",
    "    train_y,\n",
    "    epochs=configs['training']['epochs'],\n",
    "    batch_size=configs['training']['batch_size'],\n",
    "    validation_data=(test_X, test_y),\n",
    "    verbose=configs['training']['verbose'],\n",
    "    shuffle=configs['training']['shuffle'],\n",
    "    validation_freq=configs['training']['validation_freq'],\n",
    "    save_dir=configs['model']['save_dir']\n",
    ")\n"
   ]
  },
  {
   "cell_type": "code",
   "execution_count": 16,
   "id": "cacd9cda",
   "metadata": {
    "scrolled": false
   },
   "outputs": [
    {
     "name": "stdout",
     "output_type": "stream",
     "text": [
      "[Model] Predicting Point-by-Point...\n"
     ]
    }
   ],
   "source": [
    "y_predict = model.predict_point_by_point(test_X)"
   ]
  },
  {
   "cell_type": "code",
   "execution_count": 17,
   "id": "b07b62fd",
   "metadata": {
    "scrolled": true
   },
   "outputs": [],
   "source": [
    "test_y = test_y.reshape((len(test_y), 1))"
   ]
  },
  {
   "cell_type": "code",
   "execution_count": 19,
   "id": "2987243d",
   "metadata": {
    "scrolled": false
   },
   "outputs": [
    {
     "data": {
      "image/png": "[encoded data removed]",
      "text/plain": [
       "<Figure size 432x288 with 1 Axes>"
      ]
     },
     "metadata": {},
     "output_type": "display_data"
    }
   ],
   "source": [
    "plot_results(y_predict[-30:], test_y[-30:])"
   ]
  }
 ],
 "metadata": {
  "kernelspec": {
   "display_name": "deep",
   "language": "python",
   "name": "deep"
  },
  "language_info": {
   "codemirror_mode": {
    "name": "ipython",
    "version": 3
   },
   "file_extension": ".py",
   "mimetype": "text/x-python",
   "name": "python",
   "nbconvert_exporter": "python",
   "pygments_lexer": "ipython3",
   "version": "3.9.7"
  }
 },
 "nbformat": 4,
 "nbformat_minor": 5
}
