{
 "cells": [
  {
   "cell_type": "code",
   "execution_count": 1,
   "id": "52545e6a",
   "metadata": {},
   "outputs": [],
   "source": [
    "import pandas as pd\n",
    "import numpy as np\n",
    "from sklearn.preprocessing import MinMaxScaler\n",
    "import matplotlib.pyplot as plt\n",
    "from core.model import Model\n",
    "\n",
    "import json"
   ]
  },
  {
   "cell_type": "code",
   "execution_count": 2,
   "id": "2797ad65",
   "metadata": {},
   "outputs": [],
   "source": [
    "def plot_results(predicted_data, true_data):\n",
    "    fig = plt.figure(facecolor='white')\n",
    "    ax = fig.add_subplot(111)\n",
    "    ax.plot(true_data, label='True Data')\n",
    "    plt.plot(predicted_data, label='Prediction')\n",
    "    plt.legend()\n",
    "    plt.show()"
   ]
  },
  {
   "cell_type": "code",
   "execution_count": 3,
   "id": "c4b0840c",
   "metadata": {},
   "outputs": [],
   "source": [
    "df = pd.read_csv('./data/sinewave.csv')  # 读取股票文件"
   ]
  },
  {
   "cell_type": "code",
   "execution_count": 4,
   "id": "588096bf",
   "metadata": {},
   "outputs": [
    {
     "data": {
      "text/html": [
       "<div>\n",
       "<style scoped>\n",
       "    .dataframe tbody tr th:only-of-type {\n",
       "        vertical-align: middle;\n",
       "    }\n",
       "\n",
       "    .dataframe tbody tr th {\n",
       "        vertical-align: top;\n",
       "    }\n",
       "\n",
       "    .dataframe thead th {\n",
       "        text-align: right;\n",
       "    }\n",
       "</style>\n",
       "<table border=\"1\" class=\"dataframe\">\n",
       "  <thead>\n",
       "    <tr style=\"text-align: right;\">\n",
       "      <th></th>\n",
       "      <th>sinewave</th>\n",
       "    </tr>\n",
       "  </thead>\n",
       "  <tbody>\n",
       "    <tr>\n",
       "      <th>0</th>\n",
       "      <td>0.841471</td>\n",
       "    </tr>\n",
       "    <tr>\n",
       "      <th>1</th>\n",
       "      <td>0.873736</td>\n",
       "    </tr>\n",
       "    <tr>\n",
       "      <th>2</th>\n",
       "      <td>0.902554</td>\n",
       "    </tr>\n",
       "    <tr>\n",
       "      <th>3</th>\n",
       "      <td>0.927809</td>\n",
       "    </tr>\n",
       "    <tr>\n",
       "      <th>4</th>\n",
       "      <td>0.949402</td>\n",
       "    </tr>\n",
       "  </tbody>\n",
       "</table>\n",
       "</div>"
      ],
      "text/plain": [
       "   sinewave\n",
       "0  0.841471\n",
       "1  0.873736\n",
       "2  0.902554\n",
       "3  0.927809\n",
       "4  0.949402"
      ]
     },
     "execution_count": 4,
     "metadata": {},
     "output_type": "execute_result"
    }
   ],
   "source": [
    "df.head()"
   ]
  },
  {
   "cell_type": "code",
   "execution_count": 5,
   "id": "8e91a869",
   "metadata": {},
   "outputs": [
    {
     "name": "stdout",
     "output_type": "stream",
     "text": [
      "[[0.92074144]\n",
      " [0.93687433]\n",
      " [0.9512831 ]\n",
      " ...\n",
      " [0.88356435]\n",
      " [0.902948  ]\n",
      " [0.92074144]]\n"
     ]
    }
   ],
   "source": [
    "# 获取DataFrame中的数据，形式为数组array形式\n",
    "values = df.values\n",
    "# 确保所有数据为float类型\n",
    "values = values.astype('float32')\n",
    "\n",
    "# 特征的归一化处理\n",
    "scaler = MinMaxScaler(feature_range=(0, 1))\n",
    "scaled = scaler.fit_transform(values)\n",
    "\n",
    "print(scaled)"
   ]
  },
  {
   "cell_type": "code",
   "execution_count": 6,
   "id": "fbdb18bb",
   "metadata": {},
   "outputs": [],
   "source": [
    "# 定义series_to_supervised()函数\n",
    "# 将时间序列转换为监督学习问题\n",
    "def series_to_supervised(data, n_in=1, n_out=1, dropnan=True):\n",
    "    \"\"\"\n",
    "    将时间序列框定为有监督的学习数据集。\n",
    "        论据：\n",
    "        数据：作为列表或NumPy数组的观察序列。\n",
    "        n_in：作为输入的滞后观测数（X）。\n",
    "        n_out：作为输出的观察数（y）。\n",
    "        dropnan：布尔值，决定是否删除具有NaN值的行。\n",
    "    返回：\n",
    "    pd.DataFrame(用于监督学习)\n",
    "    \"\"\"\n",
    "    n_vars = 1 if type(data) is list else data.shape[1]\n",
    "    df = pd.DataFrame(data)\n",
    "    cols, names = list(), list()\n",
    "    # input sequence (t-n, ... t-1)\n",
    "    for i in range(n_in, 0, -1):\n",
    "        cols.append(df.shift(i))\n",
    "        names += [('var%d(t-%d)' % (j + 1, i)) for j in range(n_vars)]\n",
    "    # forecast sequence (t, t+1, ... t+n)\n",
    "    for i in range(0, n_out):\n",
    "        cols.append(df.shift(-i))\n",
    "        if i == 0:\n",
    "            names += [('var%d(t)' % (j + 1)) for j in range(n_vars)]\n",
    "        else:\n",
    "            names += [('var%d(t+%d)' % (j + 1, i)) for j in range(n_vars)]\n",
    "    # put it all together\n",
    "    agg = pd.concat(cols, axis=1)\n",
    "    agg.columns = names\n",
    "    # drop rows with NaN values\n",
    "    if dropnan:\n",
    "        agg.dropna(inplace=True)\n",
    "    return agg"
   ]
  },
  {
   "cell_type": "code",
   "execution_count": 7,
   "id": "b4599843",
   "metadata": {},
   "outputs": [],
   "source": [
    "# 将时间序列转换为监督学习问题\n",
    "reframed = series_to_supervised(scaled, 1, 1)"
   ]
  },
  {
   "cell_type": "code",
   "execution_count": 8,
   "id": "885302e4",
   "metadata": {},
   "outputs": [
    {
     "data": {
      "text/html": [
       "<div>\n",
       "<style scoped>\n",
       "    .dataframe tbody tr th:only-of-type {\n",
       "        vertical-align: middle;\n",
       "    }\n",
       "\n",
       "    .dataframe tbody tr th {\n",
       "        vertical-align: top;\n",
       "    }\n",
       "\n",
       "    .dataframe thead th {\n",
       "        text-align: right;\n",
       "    }\n",
       "</style>\n",
       "<table border=\"1\" class=\"dataframe\">\n",
       "  <thead>\n",
       "    <tr style=\"text-align: right;\">\n",
       "      <th></th>\n",
       "      <th>var1(t-1)</th>\n",
       "      <th>var1(t)</th>\n",
       "    </tr>\n",
       "  </thead>\n",
       "  <tbody>\n",
       "    <tr>\n",
       "      <th>1</th>\n",
       "      <td>0.920741</td>\n",
       "      <td>0.936874</td>\n",
       "    </tr>\n",
       "    <tr>\n",
       "      <th>2</th>\n",
       "      <td>0.936874</td>\n",
       "      <td>0.951283</td>\n",
       "    </tr>\n",
       "    <tr>\n",
       "      <th>3</th>\n",
       "      <td>0.951283</td>\n",
       "      <td>0.963911</td>\n",
       "    </tr>\n",
       "    <tr>\n",
       "      <th>4</th>\n",
       "      <td>0.963911</td>\n",
       "      <td>0.974708</td>\n",
       "    </tr>\n",
       "    <tr>\n",
       "      <th>5</th>\n",
       "      <td>0.974708</td>\n",
       "      <td>0.983631</td>\n",
       "    </tr>\n",
       "  </tbody>\n",
       "</table>\n",
       "</div>"
      ],
      "text/plain": [
       "   var1(t-1)   var1(t)\n",
       "1   0.920741  0.936874\n",
       "2   0.936874  0.951283\n",
       "3   0.951283  0.963911\n",
       "4   0.963911  0.974708\n",
       "5   0.974708  0.983631"
      ]
     },
     "execution_count": 8,
     "metadata": {},
     "output_type": "execute_result"
    }
   ],
   "source": [
    "reframed.head()"
   ]
  },
  {
   "cell_type": "code",
   "execution_count": 9,
   "id": "91d4be5a",
   "metadata": {},
   "outputs": [],
   "source": [
    "# 划分训练集和测试集\n",
    "train = reframed.iloc[:int(len(reframed) * 0.85), :].values\n",
    "test = reframed.iloc[int(len(reframed) * 0.85):, :].values\n",
    "# 划分训练集和测试集的输入和输出\n",
    "train_X, train_y = train[:, :-1], train[:, -1]\n",
    "test_X, test_y = test[:, :-1], test[:, -1]\n",
    "# 转化为三维数据\n",
    "# reshape input to be 3D [samples, timesteps, features]\n",
    "train_X = train_X.reshape((train_X.shape[0], 1, train_X.shape[1]))\n",
    "test_X = test_X.reshape((test_X.shape[0], 1, test_X.shape[1]))"
   ]
  },
  {
   "cell_type": "code",
   "execution_count": 10,
   "id": "474b0179",
   "metadata": {},
   "outputs": [],
   "source": [
    "configs = json.load(open('./test_2/config.json', 'r'))"
   ]
  },
  {
   "cell_type": "code",
   "execution_count": 11,
   "id": "baa20f5c",
   "metadata": {},
   "outputs": [
    {
     "name": "stdout",
     "output_type": "stream",
     "text": [
      "[Model] Model Compiled\n",
      "Time taken: 0:00:01.364231\n"
     ]
    }
   ],
   "source": [
    "model = Model()\n",
    "model.build_model(configs, train_X.shape[1], train_X.shape[2])"
   ]
  },
  {
   "cell_type": "code",
   "execution_count": 12,
   "id": "8eaa9e30",
   "metadata": {},
   "outputs": [
    {
     "name": "stdout",
     "output_type": "stream",
     "text": [
      "[Model] Training Started\n",
      "[Model] 50 epochs, 64 batch size\n",
      "Epoch 1/50\n",
      "67/67 [==============================] - 10s 39ms/step - loss: 0.1427 - val_loss: 0.0220\n",
      "Epoch 2/50\n",
      "67/67 [==============================] - 1s 14ms/step - loss: 0.0081 - val_loss: 0.0015\n",
      "Epoch 3/50\n",
      "67/67 [==============================] - 1s 14ms/step - loss: 0.0036 - val_loss: 0.0012\n",
      "Epoch 4/50\n",
      "67/67 [==============================] - 1s 14ms/step - loss: 0.0032 - val_loss: 0.0011\n",
      "Epoch 5/50\n",
      "67/67 [==============================] - 1s 14ms/step - loss: 0.0028 - val_loss: 7.6851e-04\n",
      "Epoch 6/50\n",
      "67/67 [==============================] - 1s 14ms/step - loss: 0.0026 - val_loss: 5.6910e-04\n",
      "Epoch 7/50\n",
      "67/67 [==============================] - 1s 14ms/step - loss: 0.0023 - val_loss: 6.6206e-04\n",
      "Epoch 8/50\n",
      "67/67 [==============================] - 1s 14ms/step - loss: 0.0022 - val_loss: 5.2819e-04\n",
      "Epoch 9/50\n",
      "67/67 [==============================] - 1s 14ms/step - loss: 0.0022 - val_loss: 5.0650e-04\n",
      "Epoch 10/50\n",
      "67/67 [==============================] - 1s 14ms/step - loss: 0.0020 - val_loss: 5.7302e-04\n",
      "Epoch 11/50\n",
      "67/67 [==============================] - 1s 15ms/step - loss: 0.0021 - val_loss: 4.9862e-04\n",
      "Epoch 12/50\n",
      "67/67 [==============================] - 1s 14ms/step - loss: 0.0020 - val_loss: 5.0923e-04\n",
      "Epoch 13/50\n",
      "67/67 [==============================] - 1s 14ms/step - loss: 0.0020 - val_loss: 5.4840e-04\n",
      "Epoch 14/50\n",
      "67/67 [==============================] - 1s 13ms/step - loss: 0.0020 - val_loss: 5.0769e-04\n",
      "Epoch 15/50\n",
      "67/67 [==============================] - ETA: 0s - loss: 0.001 - 1s 14ms/step - loss: 0.0019 - val_loss: 5.0801e-04\n",
      "Epoch 16/50\n",
      "67/67 [==============================] - 1s 14ms/step - loss: 0.0018 - val_loss: 5.5428e-04\n",
      "Epoch 17/50\n",
      "67/67 [==============================] - 1s 14ms/step - loss: 0.0018 - val_loss: 5.2832e-04\n",
      "Epoch 18/50\n",
      "67/67 [==============================] - 1s 14ms/step - loss: 0.0019 - val_loss: 7.8507e-04\n",
      "Epoch 19/50\n",
      "67/67 [==============================] - 1s 14ms/step - loss: 0.0019 - val_loss: 4.9759e-04\n",
      "Epoch 20/50\n",
      "67/67 [==============================] - 1s 14ms/step - loss: 0.0018 - val_loss: 7.6942e-04\n",
      "Epoch 21/50\n",
      "67/67 [==============================] - 1s 14ms/step - loss: 0.0018 - val_loss: 5.0979e-04\n",
      "Epoch 22/50\n",
      "67/67 [==============================] - 1s 14ms/step - loss: 0.0017 - val_loss: 4.9769e-04\n",
      "Epoch 23/50\n",
      "67/67 [==============================] - 1s 15ms/step - loss: 0.0018 - val_loss: 5.4066e-04\n",
      "Epoch 24/50\n",
      "67/67 [==============================] - 1s 14ms/step - loss: 0.0017 - val_loss: 5.1789e-04\n",
      "Epoch 25/50\n",
      "67/67 [==============================] - 1s 14ms/step - loss: 0.0017 - val_loss: 5.1316e-04\n",
      "Epoch 26/50\n",
      "67/67 [==============================] - 1s 14ms/step - loss: 0.0018 - val_loss: 4.9765e-04\n",
      "Epoch 27/50\n",
      "67/67 [==============================] - 1s 14ms/step - loss: 0.0018 - val_loss: 9.3961e-04\n",
      "Epoch 28/50\n",
      "67/67 [==============================] - 1s 14ms/step - loss: 0.0017 - val_loss: 6.6004e-04\n",
      "Epoch 29/50\n",
      "67/67 [==============================] - 1s 14ms/step - loss: 0.0017 - val_loss: 6.6909e-04\n",
      "Epoch 30/50\n",
      "67/67 [==============================] - 1s 14ms/step - loss: 0.0017 - val_loss: 5.4190e-04\n",
      "Epoch 31/50\n",
      "67/67 [==============================] - 1s 14ms/step - loss: 0.0016 - val_loss: 5.4228e-04\n",
      "Epoch 32/50\n",
      "67/67 [==============================] - 1s 14ms/step - loss: 0.0016 - val_loss: 5.7249e-04\n",
      "Epoch 33/50\n",
      "67/67 [==============================] - 1s 15ms/step - loss: 0.0016 - val_loss: 5.0279e-04\n",
      "Epoch 34/50\n",
      "67/67 [==============================] - 1s 14ms/step - loss: 0.0017 - val_loss: 5.2495e-04\n",
      "Epoch 35/50\n",
      "67/67 [==============================] - 1s 14ms/step - loss: 0.0016 - val_loss: 5.2953e-04\n",
      "Epoch 36/50\n",
      "67/67 [==============================] - 1s 15ms/step - loss: 0.0016 - val_loss: 4.9912e-04\n",
      "Epoch 37/50\n",
      "67/67 [==============================] - 1s 14ms/step - loss: 0.0016 - val_loss: 6.0653e-04\n",
      "Epoch 38/50\n",
      "67/67 [==============================] - 1s 14ms/step - loss: 0.0016 - val_loss: 4.9938e-04\n",
      "Epoch 39/50\n",
      "67/67 [==============================] - 1s 14ms/step - loss: 0.0016 - val_loss: 5.0840e-04\n",
      "Epoch 40/50\n",
      "67/67 [==============================] - 1s 15ms/step - loss: 0.0016 - val_loss: 4.9765e-04\n",
      "Epoch 41/50\n",
      "67/67 [==============================] - 1s 15ms/step - loss: 0.0015 - val_loss: 5.4644e-04\n",
      "Epoch 42/50\n",
      "67/67 [==============================] - 1s 14ms/step - loss: 0.0016 - val_loss: 5.3045e-04\n",
      "Epoch 43/50\n",
      "67/67 [==============================] - 1s 15ms/step - loss: 0.0016 - val_loss: 5.0831e-04\n",
      "Epoch 44/50\n",
      "67/67 [==============================] - 1s 15ms/step - loss: 0.0015 - val_loss: 4.9706e-04\n",
      "Epoch 45/50\n",
      "67/67 [==============================] - 1s 14ms/step - loss: 0.0015 - val_loss: 4.9611e-04\n",
      "Epoch 46/50\n",
      "67/67 [==============================] - 1s 14ms/step - loss: 0.0016 - val_loss: 5.5078e-04\n",
      "Epoch 47/50\n",
      "67/67 [==============================] - 1s 14ms/step - loss: 0.0016 - val_loss: 6.1329e-04\n",
      "Epoch 48/50\n",
      "67/67 [==============================] - 1s 14ms/step - loss: 0.0016 - val_loss: 7.5493e-04\n",
      "Epoch 49/50\n",
      "67/67 [==============================] - 1s 15ms/step - loss: 0.0015 - val_loss: 5.1960e-04\n",
      "Epoch 50/50\n",
      "67/67 [==============================] - 1s 15ms/step - loss: 0.0016 - val_loss: 5.7021e-04\n",
      "[Model] Training Completed. Model saved as save_models\n",
      "Time taken: 0:00:57.117713\n"
     ]
    }
   ],
   "source": [
    "# 内存中训练\n",
    "model.train(\n",
    "    train_X,\n",
    "    train_y,\n",
    "    epochs=configs['training']['epochs'],\n",
    "    batch_size=configs['training']['batch_size'],\n",
    "    validation_data=(test_X, test_y),\n",
    "    verbose=configs['training']['verbose'],\n",
    "    shuffle=configs['training']['shuffle'],\n",
    "    validation_freq=configs['training']['validation_freq'],\n",
    "    save_dir=configs['model']['save_dir']\n",
    ")"
   ]
  },
  {
   "cell_type": "code",
   "execution_count": 13,
   "id": "cacd9cda",
   "metadata": {
    "scrolled": false
   },
   "outputs": [
    {
     "name": "stdout",
     "output_type": "stream",
     "text": [
      "[Model] Predicting Point-by-Point...\n"
     ]
    }
   ],
   "source": [
    "y_predict = model.predict_point_by_point(test_X)"
   ]
  },
  {
   "cell_type": "code",
   "execution_count": 14,
   "id": "03fbbff1",
   "metadata": {},
   "outputs": [],
   "source": [
    "test_X = test_X.reshape((test_X.shape[0], test_X.shape[2]))"
   ]
  },
  {
   "cell_type": "markdown",
   "id": "e20a08c1",
   "metadata": {},
   "source": [
    "### 训练数据跟测试数据都相等的情况"
   ]
  },
  {
   "cell_type": "code",
   "execution_count": 15,
   "id": "bc49e110",
   "metadata": {},
   "outputs": [],
   "source": [
    "# invert scaling for forecast\n",
    "# 将预测结果按比例反归一化\n",
    "inv_y_predict = scaler.inverse_transform(y_predict)"
   ]
  },
  {
   "cell_type": "code",
   "execution_count": 16,
   "id": "afb90a9a",
   "metadata": {},
   "outputs": [],
   "source": [
    "# invert scaling for actual\n",
    "# 将真实结果按比例反归一化\n",
    "test_y = test_y.reshape((len(test_y), 1))\n",
    "inv_y_train = scaler.inverse_transform(test_y)\n",
    "inv_y = inv_y_train[:, -1]"
   ]
  },
  {
   "cell_type": "code",
   "execution_count": 17,
   "id": "2987243d",
   "metadata": {
    "scrolled": false
   },
   "outputs": [
    {
     "data": {
      "image/png": "[encoded data removed]",
      "text/plain": [
       "<Figure size 432x288 with 1 Axes>"
      ]
     },
     "metadata": {},
     "output_type": "display_data"
    }
   ],
   "source": [
    "plot_results(inv_y_predict, inv_y)"
   ]
  }
 ],
 "metadata": {
  "kernelspec": {
   "display_name": "deep",
   "language": "python",
   "name": "deep"
  },
  "language_info": {
   "codemirror_mode": {
    "name": "ipython",
    "version": 3
   },
   "file_extension": ".py",
   "mimetype": "text/x-python",
   "name": "python",
   "nbconvert_exporter": "python",
   "pygments_lexer": "ipython3",
   "version": "3.9.7"
  }
 },
 "nbformat": 4,
 "nbformat_minor": 5
}
