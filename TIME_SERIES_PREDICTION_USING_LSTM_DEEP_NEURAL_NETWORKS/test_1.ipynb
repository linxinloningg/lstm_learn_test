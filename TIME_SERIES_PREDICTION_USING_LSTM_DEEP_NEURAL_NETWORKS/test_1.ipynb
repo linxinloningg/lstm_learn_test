{
 "cells": [
  {
   "cell_type": "code",
   "execution_count": 1,
   "id": "52545e6a",
   "metadata": {},
   "outputs": [],
   "source": [
    "import pandas as pd\n",
    "import numpy as np\n",
    "from sklearn.preprocessing import MinMaxScaler\n",
    "import matplotlib.pyplot as plt\n",
    "from core.model import Model\n",
    "\n",
    "import json"
   ]
  },
  {
   "cell_type": "code",
   "execution_count": 2,
   "id": "2797ad65",
   "metadata": {},
   "outputs": [],
   "source": [
    "def plot_results(predicted_data, true_data):\n",
    "    fig = plt.figure(facecolor='white')\n",
    "    ax = fig.add_subplot(111)\n",
    "    ax.plot(true_data, label='True Data')\n",
    "    plt.plot(predicted_data, label='Prediction')\n",
    "    plt.legend()\n",
    "    plt.show()"
   ]
  },
  {
   "cell_type": "code",
   "execution_count": 3,
   "id": "c4b0840c",
   "metadata": {},
   "outputs": [],
   "source": [
    "df = pd.read_csv('./data/sh600031.csv')  # 读取股票文件\n",
    "df.set_index('date', inplace=True)"
   ]
  },
  {
   "cell_type": "code",
   "execution_count": 4,
   "id": "439b183e",
   "metadata": {},
   "outputs": [],
   "source": [
    "df.drop(['volume'],axis=1,inplace=True)"
   ]
  },
  {
   "cell_type": "code",
   "execution_count": 5,
   "id": "588096bf",
   "metadata": {},
   "outputs": [
    {
     "data": {
      "text/html": [
       "<div>\n",
       "<style scoped>\n",
       "    .dataframe tbody tr th:only-of-type {\n",
       "        vertical-align: middle;\n",
       "    }\n",
       "\n",
       "    .dataframe tbody tr th {\n",
       "        vertical-align: top;\n",
       "    }\n",
       "\n",
       "    .dataframe thead th {\n",
       "        text-align: right;\n",
       "    }\n",
       "</style>\n",
       "<table border=\"1\" class=\"dataframe\">\n",
       "  <thead>\n",
       "    <tr style=\"text-align: right;\">\n",
       "      <th></th>\n",
       "      <th>open</th>\n",
       "      <th>high</th>\n",
       "      <th>low</th>\n",
       "      <th>close</th>\n",
       "    </tr>\n",
       "    <tr>\n",
       "      <th>date</th>\n",
       "      <th></th>\n",
       "      <th></th>\n",
       "      <th></th>\n",
       "      <th></th>\n",
       "    </tr>\n",
       "  </thead>\n",
       "  <tbody>\n",
       "    <tr>\n",
       "      <th>2003-07-03</th>\n",
       "      <td>23.00</td>\n",
       "      <td>23.00</td>\n",
       "      <td>20.10</td>\n",
       "      <td>21.30</td>\n",
       "    </tr>\n",
       "    <tr>\n",
       "      <th>2003-07-04</th>\n",
       "      <td>21.30</td>\n",
       "      <td>22.18</td>\n",
       "      <td>21.05</td>\n",
       "      <td>21.84</td>\n",
       "    </tr>\n",
       "    <tr>\n",
       "      <th>2003-07-07</th>\n",
       "      <td>21.90</td>\n",
       "      <td>21.96</td>\n",
       "      <td>21.51</td>\n",
       "      <td>21.80</td>\n",
       "    </tr>\n",
       "    <tr>\n",
       "      <th>2003-07-08</th>\n",
       "      <td>21.80</td>\n",
       "      <td>22.22</td>\n",
       "      <td>21.70</td>\n",
       "      <td>21.91</td>\n",
       "    </tr>\n",
       "    <tr>\n",
       "      <th>2003-07-09</th>\n",
       "      <td>21.75</td>\n",
       "      <td>22.65</td>\n",
       "      <td>21.70</td>\n",
       "      <td>22.47</td>\n",
       "    </tr>\n",
       "  </tbody>\n",
       "</table>\n",
       "</div>"
      ],
      "text/plain": [
       "             open   high    low  close\n",
       "date                                  \n",
       "2003-07-03  23.00  23.00  20.10  21.30\n",
       "2003-07-04  21.30  22.18  21.05  21.84\n",
       "2003-07-07  21.90  21.96  21.51  21.80\n",
       "2003-07-08  21.80  22.22  21.70  21.91\n",
       "2003-07-09  21.75  22.65  21.70  22.47"
      ]
     },
     "execution_count": 5,
     "metadata": {},
     "output_type": "execute_result"
    }
   ],
   "source": [
    "df.head()"
   ]
  },
  {
   "cell_type": "code",
   "execution_count": 6,
   "id": "8e91a869",
   "metadata": {},
   "outputs": [
    {
     "name": "stdout",
     "output_type": "stream",
     "text": [
      "[[0.27901685 0.27674383 0.25182185 0.26343232]\n",
      " [0.2532241  0.2643365  0.26720643 0.27196583]\n",
      " [0.26232743 0.2610077  0.27465585 0.27133372]\n",
      " ...\n",
      " [0.27901685 0.27674383 0.28987852 0.28334382]\n",
      " [0.27218935 0.27507943 0.28599185 0.28603032]\n",
      " [0.27279624 0.275836   0.28971657 0.28223765]]\n"
     ]
    }
   ],
   "source": [
    "# 获取DataFrame中的数据，形式为数组array形式\n",
    "values = df.values\n",
    "# 确保所有数据为float类型\n",
    "values = values.astype('float32')\n",
    "\n",
    "# 特征的归一化处理\n",
    "scaler = MinMaxScaler(feature_range=(0, 1))\n",
    "scaled = scaler.fit_transform(values)\n",
    "\n",
    "print(scaled)"
   ]
  },
  {
   "cell_type": "code",
   "execution_count": 7,
   "id": "fbdb18bb",
   "metadata": {},
   "outputs": [],
   "source": [
    "# 定义series_to_supervised()函数\n",
    "# 将时间序列转换为监督学习问题\n",
    "def series_to_supervised(data, n_in=1, n_out=1, dropnan=True):\n",
    "    \"\"\"\n",
    "    将时间序列框定为有监督的学习数据集。\n",
    "        论据：\n",
    "        数据：作为列表或NumPy数组的观察序列。\n",
    "        n_in：作为输入的滞后观测数（X）。\n",
    "        n_out：作为输出的观察数（y）。\n",
    "        dropnan：布尔值，决定是否删除具有NaN值的行。\n",
    "    返回：\n",
    "    pd.DataFrame(用于监督学习)\n",
    "    \"\"\"\n",
    "    n_vars = 1 if type(data) is list else data.shape[1]\n",
    "    df = pd.DataFrame(data)\n",
    "    cols, names = list(), list()\n",
    "    # input sequence (t-n, ... t-1)\n",
    "    for i in range(n_in, 0, -1):\n",
    "        cols.append(df.shift(i))\n",
    "        names += [('var%d(t-%d)' % (j + 1, i)) for j in range(n_vars)]\n",
    "    # forecast sequence (t, t+1, ... t+n)\n",
    "    for i in range(0, n_out):\n",
    "        cols.append(df.shift(-i))\n",
    "        if i == 0:\n",
    "            names += [('var%d(t)' % (j + 1)) for j in range(n_vars)]\n",
    "        else:\n",
    "            names += [('var%d(t+%d)' % (j + 1, i)) for j in range(n_vars)]\n",
    "    # put it all together\n",
    "    agg = pd.concat(cols, axis=1)\n",
    "    agg.columns = names\n",
    "    # drop rows with NaN values\n",
    "    if dropnan:\n",
    "        agg.dropna(inplace=True)\n",
    "    return agg"
   ]
  },
  {
   "cell_type": "code",
   "execution_count": 8,
   "id": "b4599843",
   "metadata": {},
   "outputs": [],
   "source": [
    "# 将时间序列转换为监督学习问题\n",
    "reframed = series_to_supervised(scaled, 1, 1)"
   ]
  },
  {
   "cell_type": "code",
   "execution_count": 9,
   "id": "885302e4",
   "metadata": {},
   "outputs": [
    {
     "data": {
      "text/html": [
       "<div>\n",
       "<style scoped>\n",
       "    .dataframe tbody tr th:only-of-type {\n",
       "        vertical-align: middle;\n",
       "    }\n",
       "\n",
       "    .dataframe tbody tr th {\n",
       "        vertical-align: top;\n",
       "    }\n",
       "\n",
       "    .dataframe thead th {\n",
       "        text-align: right;\n",
       "    }\n",
       "</style>\n",
       "<table border=\"1\" class=\"dataframe\">\n",
       "  <thead>\n",
       "    <tr style=\"text-align: right;\">\n",
       "      <th></th>\n",
       "      <th>var1(t-1)</th>\n",
       "      <th>var2(t-1)</th>\n",
       "      <th>var3(t-1)</th>\n",
       "      <th>var4(t-1)</th>\n",
       "      <th>var1(t)</th>\n",
       "      <th>var2(t)</th>\n",
       "      <th>var3(t)</th>\n",
       "      <th>var4(t)</th>\n",
       "    </tr>\n",
       "  </thead>\n",
       "  <tbody>\n",
       "    <tr>\n",
       "      <th>1</th>\n",
       "      <td>0.279017</td>\n",
       "      <td>0.276744</td>\n",
       "      <td>0.251822</td>\n",
       "      <td>0.263432</td>\n",
       "      <td>0.253224</td>\n",
       "      <td>0.264336</td>\n",
       "      <td>0.267206</td>\n",
       "      <td>0.271966</td>\n",
       "    </tr>\n",
       "    <tr>\n",
       "      <th>2</th>\n",
       "      <td>0.253224</td>\n",
       "      <td>0.264336</td>\n",
       "      <td>0.267206</td>\n",
       "      <td>0.271966</td>\n",
       "      <td>0.262327</td>\n",
       "      <td>0.261008</td>\n",
       "      <td>0.274656</td>\n",
       "      <td>0.271334</td>\n",
       "    </tr>\n",
       "    <tr>\n",
       "      <th>3</th>\n",
       "      <td>0.262327</td>\n",
       "      <td>0.261008</td>\n",
       "      <td>0.274656</td>\n",
       "      <td>0.271334</td>\n",
       "      <td>0.260810</td>\n",
       "      <td>0.264942</td>\n",
       "      <td>0.277733</td>\n",
       "      <td>0.273072</td>\n",
       "    </tr>\n",
       "    <tr>\n",
       "      <th>4</th>\n",
       "      <td>0.260810</td>\n",
       "      <td>0.264942</td>\n",
       "      <td>0.277733</td>\n",
       "      <td>0.273072</td>\n",
       "      <td>0.260052</td>\n",
       "      <td>0.271448</td>\n",
       "      <td>0.277733</td>\n",
       "      <td>0.281922</td>\n",
       "    </tr>\n",
       "    <tr>\n",
       "      <th>5</th>\n",
       "      <td>0.260052</td>\n",
       "      <td>0.271448</td>\n",
       "      <td>0.277733</td>\n",
       "      <td>0.281922</td>\n",
       "      <td>0.268851</td>\n",
       "      <td>0.275382</td>\n",
       "      <td>0.287449</td>\n",
       "      <td>0.284766</td>\n",
       "    </tr>\n",
       "  </tbody>\n",
       "</table>\n",
       "</div>"
      ],
      "text/plain": [
       "   var1(t-1)  var2(t-1)  var3(t-1)  var4(t-1)   var1(t)   var2(t)   var3(t)  \\\n",
       "1   0.279017   0.276744   0.251822   0.263432  0.253224  0.264336  0.267206   \n",
       "2   0.253224   0.264336   0.267206   0.271966  0.262327  0.261008  0.274656   \n",
       "3   0.262327   0.261008   0.274656   0.271334  0.260810  0.264942  0.277733   \n",
       "4   0.260810   0.264942   0.277733   0.273072  0.260052  0.271448  0.277733   \n",
       "5   0.260052   0.271448   0.277733   0.281922  0.268851  0.275382  0.287449   \n",
       "\n",
       "    var4(t)  \n",
       "1  0.271966  \n",
       "2  0.271334  \n",
       "3  0.273072  \n",
       "4  0.281922  \n",
       "5  0.284766  "
      ]
     },
     "execution_count": 9,
     "metadata": {},
     "output_type": "execute_result"
    }
   ],
   "source": [
    "reframed.head()"
   ]
  },
  {
   "cell_type": "code",
   "execution_count": 10,
   "id": "50b4dee4",
   "metadata": {},
   "outputs": [],
   "source": [
    "# 删除不想预测的特征列，这里只预测收盘价\n",
    "# 所以删除的是var1(t),var2(t),var3(t),\n",
    "reframed.drop(['var1(t)', 'var2(t)', 'var3(t)'], axis=1, inplace=True)"
   ]
  },
  {
   "cell_type": "code",
   "execution_count": 11,
   "id": "b79f0d7a",
   "metadata": {},
   "outputs": [
    {
     "data": {
      "text/html": [
       "<div>\n",
       "<style scoped>\n",
       "    .dataframe tbody tr th:only-of-type {\n",
       "        vertical-align: middle;\n",
       "    }\n",
       "\n",
       "    .dataframe tbody tr th {\n",
       "        vertical-align: top;\n",
       "    }\n",
       "\n",
       "    .dataframe thead th {\n",
       "        text-align: right;\n",
       "    }\n",
       "</style>\n",
       "<table border=\"1\" class=\"dataframe\">\n",
       "  <thead>\n",
       "    <tr style=\"text-align: right;\">\n",
       "      <th></th>\n",
       "      <th>var1(t-1)</th>\n",
       "      <th>var2(t-1)</th>\n",
       "      <th>var3(t-1)</th>\n",
       "      <th>var4(t-1)</th>\n",
       "      <th>var4(t)</th>\n",
       "    </tr>\n",
       "  </thead>\n",
       "  <tbody>\n",
       "    <tr>\n",
       "      <th>1</th>\n",
       "      <td>0.279017</td>\n",
       "      <td>0.276744</td>\n",
       "      <td>0.251822</td>\n",
       "      <td>0.263432</td>\n",
       "      <td>0.271966</td>\n",
       "    </tr>\n",
       "    <tr>\n",
       "      <th>2</th>\n",
       "      <td>0.253224</td>\n",
       "      <td>0.264336</td>\n",
       "      <td>0.267206</td>\n",
       "      <td>0.271966</td>\n",
       "      <td>0.271334</td>\n",
       "    </tr>\n",
       "    <tr>\n",
       "      <th>3</th>\n",
       "      <td>0.262327</td>\n",
       "      <td>0.261008</td>\n",
       "      <td>0.274656</td>\n",
       "      <td>0.271334</td>\n",
       "      <td>0.273072</td>\n",
       "    </tr>\n",
       "    <tr>\n",
       "      <th>4</th>\n",
       "      <td>0.260810</td>\n",
       "      <td>0.264942</td>\n",
       "      <td>0.277733</td>\n",
       "      <td>0.273072</td>\n",
       "      <td>0.281922</td>\n",
       "    </tr>\n",
       "    <tr>\n",
       "      <th>5</th>\n",
       "      <td>0.260052</td>\n",
       "      <td>0.271448</td>\n",
       "      <td>0.277733</td>\n",
       "      <td>0.281922</td>\n",
       "      <td>0.284766</td>\n",
       "    </tr>\n",
       "  </tbody>\n",
       "</table>\n",
       "</div>"
      ],
      "text/plain": [
       "   var1(t-1)  var2(t-1)  var3(t-1)  var4(t-1)   var4(t)\n",
       "1   0.279017   0.276744   0.251822   0.263432  0.271966\n",
       "2   0.253224   0.264336   0.267206   0.271966  0.271334\n",
       "3   0.262327   0.261008   0.274656   0.271334  0.273072\n",
       "4   0.260810   0.264942   0.277733   0.273072  0.281922\n",
       "5   0.260052   0.271448   0.277733   0.281922  0.284766"
      ]
     },
     "execution_count": 11,
     "metadata": {},
     "output_type": "execute_result"
    }
   ],
   "source": [
    "reframed.head()"
   ]
  },
  {
   "cell_type": "code",
   "execution_count": 12,
   "id": "91d4be5a",
   "metadata": {},
   "outputs": [],
   "source": [
    "# 划分训练集和测试集\n",
    "train = reframed.iloc[:int(len(reframed) * 0.85), :].values\n",
    "test = reframed.iloc[int(len(reframed) * 0.85):, :].values\n",
    "# 划分训练集和测试集的输入和输出\n",
    "train_X, train_y = train[:, :-1], train[:, -1]\n",
    "test_X, test_y = test[:, :-1], test[:, -1]\n",
    "# 转化为三维数据\n",
    "# reshape input to be 3D [samples, timesteps, features]\n",
    "train_X = train_X.reshape((train_X.shape[0], 1, train_X.shape[1]))\n",
    "test_X = test_X.reshape((test_X.shape[0], 1, test_X.shape[1]))"
   ]
  },
  {
   "cell_type": "code",
   "execution_count": 13,
   "id": "474b0179",
   "metadata": {
    "scrolled": false
   },
   "outputs": [],
   "source": [
    "configs = json.load(open('./test_1/config.json', 'r'))"
   ]
  },
  {
   "cell_type": "code",
   "execution_count": 14,
   "id": "baa20f5c",
   "metadata": {},
   "outputs": [
    {
     "name": "stdout",
     "output_type": "stream",
     "text": [
      "[Model] Model Compiled\n",
      "Time taken: 0:00:01.532377\n"
     ]
    }
   ],
   "source": [
    "model = Model()\n",
    "model.build_model(configs, train_X.shape[1], train_X.shape[2])"
   ]
  },
  {
   "cell_type": "code",
   "execution_count": 15,
   "id": "8eaa9e30",
   "metadata": {},
   "outputs": [
    {
     "name": "stdout",
     "output_type": "stream",
     "text": [
      "[Model] Training Started\n",
      "[Model] 50 epochs, 64 batch size\n",
      "Epoch 1/50\n",
      "59/59 [==============================] - 14s 48ms/step - loss: 0.0248 - val_loss: 6.5250e-04\n",
      "Epoch 2/50\n",
      "59/59 [==============================] - 1s 15ms/step - loss: 0.0012 - val_loss: 5.3746e-04\n",
      "Epoch 3/50\n",
      "59/59 [==============================] - 1s 15ms/step - loss: 7.5070e-04 - val_loss: 2.7200e-04\n",
      "Epoch 4/50\n",
      "59/59 [==============================] - 1s 17ms/step - loss: 6.9689e-04 - val_loss: 1.7377e-04\n",
      "Epoch 5/50\n",
      "59/59 [==============================] - 1s 15ms/step - loss: 6.7092e-04 - val_loss: 1.7275e-04\n",
      "Epoch 6/50\n",
      "59/59 [==============================] - 1s 15ms/step - loss: 6.6030e-04 - val_loss: 1.4878e-04\n",
      "Epoch 7/50\n",
      "59/59 [==============================] - 1s 14ms/step - loss: 6.2049e-04 - val_loss: 2.9504e-04\n",
      "Epoch 8/50\n",
      "59/59 [==============================] - 1s 15ms/step - loss: 6.4730e-04 - val_loss: 1.5608e-04\n",
      "Epoch 9/50\n",
      "59/59 [==============================] - 1s 15ms/step - loss: 6.8273e-04 - val_loss: 2.2276e-04\n",
      "Epoch 10/50\n",
      "59/59 [==============================] - 1s 16ms/step - loss: 6.2527e-04 - val_loss: 2.1976e-04\n",
      "Epoch 11/50\n",
      "59/59 [==============================] - 1s 16ms/step - loss: 6.2690e-04 - val_loss: 1.4571e-04\n",
      "Epoch 12/50\n",
      "59/59 [==============================] - 1s 15ms/step - loss: 6.6966e-04 - val_loss: 1.4637e-04\n",
      "Epoch 13/50\n",
      "59/59 [==============================] - 1s 16ms/step - loss: 6.0501e-04 - val_loss: 2.1668e-04\n",
      "Epoch 14/50\n",
      "59/59 [==============================] - 1s 15ms/step - loss: 6.7590e-04 - val_loss: 4.9767e-04\n",
      "Epoch 15/50\n",
      "59/59 [==============================] - 1s 16ms/step - loss: 5.9094e-04 - val_loss: 1.5517e-04\n",
      "Epoch 16/50\n",
      "59/59 [==============================] - 1s 15ms/step - loss: 6.8766e-04 - val_loss: 1.4774e-04\n",
      "Epoch 17/50\n",
      "59/59 [==============================] - 1s 14ms/step - loss: 5.6922e-04 - val_loss: 1.5268e-04\n",
      "Epoch 18/50\n",
      "59/59 [==============================] - 1s 14ms/step - loss: 6.1424e-04 - val_loss: 1.4767e-04\n",
      "Epoch 19/50\n",
      "59/59 [==============================] - 1s 15ms/step - loss: 5.4190e-04 - val_loss: 1.4424e-04\n",
      "Epoch 20/50\n",
      "59/59 [==============================] - 1s 13ms/step - loss: 6.0801e-04 - val_loss: 1.8519e-04\n",
      "Epoch 21/50\n",
      "59/59 [==============================] - 1s 14ms/step - loss: 5.3660e-04 - val_loss: 2.2204e-04\n",
      "Epoch 22/50\n",
      "59/59 [==============================] - 1s 15ms/step - loss: 5.5723e-04 - val_loss: 1.5511e-04\n",
      "Epoch 23/50\n",
      "59/59 [==============================] - 1s 18ms/step - loss: 5.9224e-04 - val_loss: 1.8984e-04\n",
      "Epoch 24/50\n",
      "59/59 [==============================] - 1s 16ms/step - loss: 5.0453e-04 - val_loss: 1.6672e-04\n",
      "Epoch 25/50\n",
      "59/59 [==============================] - 1s 18ms/step - loss: 5.4203e-04 - val_loss: 1.4032e-04\n",
      "Epoch 26/50\n",
      "59/59 [==============================] - 1s 16ms/step - loss: 6.2278e-04 - val_loss: 1.4844e-04\n",
      "Epoch 27/50\n",
      "59/59 [==============================] - 1s 15ms/step - loss: 5.7556e-04 - val_loss: 1.4418e-04\n",
      "Epoch 28/50\n",
      "59/59 [==============================] - 1s 15ms/step - loss: 5.2719e-04 - val_loss: 1.6863e-04\n",
      "Epoch 29/50\n",
      "59/59 [==============================] - 1s 16ms/step - loss: 5.6055e-04 - val_loss: 1.4399e-04\n",
      "Epoch 30/50\n",
      "59/59 [==============================] - 1s 16ms/step - loss: 6.1170e-04 - val_loss: 3.5559e-04\n",
      "Epoch 31/50\n",
      "59/59 [==============================] - 1s 15ms/step - loss: 5.3531e-04 - val_loss: 1.5030e-04\n",
      "Epoch 32/50\n",
      "59/59 [==============================] - 1s 13ms/step - loss: 5.0199e-04 - val_loss: 2.3735e-04\n",
      "Epoch 33/50\n",
      "59/59 [==============================] - 1s 14ms/step - loss: 5.6673e-04 - val_loss: 1.5053e-04\n",
      "Epoch 34/50\n",
      "59/59 [==============================] - 1s 13ms/step - loss: 5.4843e-04 - val_loss: 1.4842e-04\n",
      "Epoch 35/50\n",
      "59/59 [==============================] - 1s 14ms/step - loss: 5.3792e-04 - val_loss: 1.9215e-04\n",
      "Epoch 36/50\n",
      "59/59 [==============================] - 1s 17ms/step - loss: 5.4799e-04 - val_loss: 1.7691e-04\n",
      "Epoch 37/50\n",
      "59/59 [==============================] - 1s 16ms/step - loss: 5.2502e-04 - val_loss: 1.7537e-04\n",
      "Epoch 38/50\n",
      "59/59 [==============================] - 1s 16ms/step - loss: 5.3154e-04 - val_loss: 2.0355e-04\n",
      "Epoch 39/50\n",
      "59/59 [==============================] - 1s 15ms/step - loss: 5.4197e-04 - val_loss: 1.7425e-04\n",
      "Epoch 40/50\n",
      "59/59 [==============================] - 1s 16ms/step - loss: 5.7156e-04 - val_loss: 1.5127e-04\n",
      "Epoch 41/50\n",
      "59/59 [==============================] - 1s 15ms/step - loss: 5.1008e-04 - val_loss: 1.7355e-04\n",
      "Epoch 42/50\n",
      "59/59 [==============================] - 1s 16ms/step - loss: 5.0660e-04 - val_loss: 2.2998e-04\n",
      "Epoch 43/50\n",
      "59/59 [==============================] - 1s 17ms/step - loss: 5.1046e-04 - val_loss: 1.4416e-04\n",
      "Epoch 44/50\n",
      "59/59 [==============================] - 1s 16ms/step - loss: 4.9464e-04 - val_loss: 1.4644e-04\n",
      "Epoch 45/50\n",
      "59/59 [==============================] - 1s 19ms/step - loss: 5.1506e-04 - val_loss: 1.9201e-04\n",
      "Epoch 46/50\n",
      "59/59 [==============================] - 1s 16ms/step - loss: 5.4806e-04 - val_loss: 1.6659e-04\n",
      "Epoch 47/50\n",
      "59/59 [==============================] - 1s 16ms/step - loss: 5.4519e-04 - val_loss: 2.0291e-04\n",
      "Epoch 48/50\n",
      "59/59 [==============================] - 1s 17ms/step - loss: 4.9840e-04 - val_loss: 1.3640e-04\n",
      "Epoch 49/50\n",
      "59/59 [==============================] - 1s 15ms/step - loss: 5.1391e-04 - val_loss: 1.5809e-04\n",
      "Epoch 50/50\n",
      "59/59 [==============================] - ETA: 0s - loss: 5.2332e-0 - 1s 16ms/step - loss: 5.2262e-04 - val_loss: 1.7257e-04\n",
      "[Model] Training Completed. Model saved as save_models\n",
      "Time taken: 0:00:59.611600\n"
     ]
    }
   ],
   "source": [
    "# 内存中训练\n",
    "model.train(\n",
    "    train_X,\n",
    "    train_y,\n",
    "    epochs=configs['training']['epochs'],\n",
    "    batch_size=configs['training']['batch_size'],\n",
    "    validation_data=(test_X, test_y),\n",
    "    verbose=configs['training']['verbose'],\n",
    "    shuffle=configs['training']['shuffle'],\n",
    "    validation_freq=configs['training']['validation_freq'],\n",
    "    save_dir=configs['model']['save_dir']\n",
    ")\n"
   ]
  },
  {
   "cell_type": "code",
   "execution_count": 16,
   "id": "cacd9cda",
   "metadata": {
    "scrolled": true
   },
   "outputs": [
    {
     "name": "stdout",
     "output_type": "stream",
     "text": [
      "[Model] Predicting Point-by-Point...\n"
     ]
    }
   ],
   "source": [
    "y_predict = model.predict_point_by_point(test_X)"
   ]
  },
  {
   "cell_type": "code",
   "execution_count": 17,
   "id": "03fbbff1",
   "metadata": {},
   "outputs": [],
   "source": [
    "test_X = test_X.reshape((test_X.shape[0], test_X.shape[2]))"
   ]
  },
  {
   "cell_type": "code",
   "execution_count": 18,
   "id": "bc49e110",
   "metadata": {},
   "outputs": [],
   "source": [
    "# invert scaling for forecast\n",
    "# 将预测结果按比例反归一化\n",
    "inv_y_test = np.concatenate((test_X[:, :3], y_predict), axis=1)\n",
    "inv_y_test = scaler.inverse_transform(inv_y_test)\n",
    "inv_y_predict = inv_y_test[:, -1]"
   ]
  },
  {
   "cell_type": "code",
   "execution_count": 19,
   "id": "afb90a9a",
   "metadata": {},
   "outputs": [],
   "source": [
    "# invert scaling for actual\n",
    "# 将真实结果按比例反归一化\n",
    "test_y = test_y.reshape((len(test_y), 1))\n",
    "inv_y_train = np.concatenate((test_X[:, :3], test_y), axis=1)\n",
    "inv_y_train = scaler.inverse_transform(inv_y_train)\n",
    "inv_y = inv_y_train[:, -1]"
   ]
  },
  {
   "cell_type": "code",
   "execution_count": 20,
   "id": "2987243d",
   "metadata": {},
   "outputs": [
    {
     "data": {
      "image/png": "[encoded data removed]",
      "text/plain": [
       "<Figure size 432x288 with 1 Axes>"
      ]
     },
     "metadata": {},
     "output_type": "display_data"
    }
   ],
   "source": [
    "plot_results(inv_y_predict, inv_y)"
   ]
  }
 ],
 "metadata": {
  "kernelspec": {
   "display_name": "deep",
   "language": "python",
   "name": "deep"
  },
  "language_info": {
   "codemirror_mode": {
    "name": "ipython",
    "version": 3
   },
   "file_extension": ".py",
   "mimetype": "text/x-python",
   "name": "python",
   "nbconvert_exporter": "python",
   "pygments_lexer": "ipython3",
   "version": "3.9.7"
  }
 },
 "nbformat": 4,
 "nbformat_minor": 5
}
