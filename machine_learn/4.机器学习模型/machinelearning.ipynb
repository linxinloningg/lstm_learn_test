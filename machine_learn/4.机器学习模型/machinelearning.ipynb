{
 "cells": [
  {
   "cell_type": "markdown",
   "id": "c8366951",
   "metadata": {},
   "source": [
    "# 机器学习建立流程："
   ]
  },
  {
   "cell_type": "markdown",
   "id": "fc1b8829",
   "metadata": {},
   "source": [
    "* 软件包和数据加载\n",
    "    * EDA\n",
    "        * 数据检查\n",
    "        * 处理缺失数据\n",
    "        * 无关信息和冗余信息\n",
    "        * 非数值数据处理\n",
    "    * 数据可视化\n",
    "    * 特征值工程\n",
    "    * 机器学习模型"
   ]
  },
  {
   "cell_type": "code",
   "execution_count": 1,
   "id": "a7e753bf",
   "metadata": {},
   "outputs": [],
   "source": [
    "import pandas as pd\n",
    "import numpy as np\n",
    "import os\n",
    "# data visualization\n",
    "import seaborn as sns\n",
    "%matplotlib inline\n",
    "from matplotlib import pyplot as plt\n",
    "from matplotlib import style"
   ]
  },
  {
   "cell_type": "code",
   "execution_count": 2,
   "id": "5915adcd",
   "metadata": {},
   "outputs": [],
   "source": [
    "plt.rcParams['font.sans-serif']=['SimHei'] #用来正常显示中文标签\n",
    "plt.rcParams['axes.unicode_minus']=False #用来正常显示负号\n",
    "sns.set(font='SimHei')"
   ]
  },
  {
   "cell_type": "code",
   "execution_count": 3,
   "id": "973d2b05",
   "metadata": {},
   "outputs": [
    {
     "name": "stdout",
     "output_type": "stream",
     "text": [
      "../dataset/600031.csv\n"
     ]
    }
   ],
   "source": [
    "# 显示当前目录中的文件夹和文件;\n",
    "import os\n",
    "for dirname, _, filenames in os.walk('../dataset/'):\n",
    "    for filename in filenames:\n",
    "        print(os.path.join(dirname, filename))"
   ]
  },
  {
   "cell_type": "code",
   "execution_count": 4,
   "id": "638fdc13",
   "metadata": {},
   "outputs": [
    {
     "data": {
      "text/html": [
       "<div>\n",
       "<style scoped>\n",
       "    .dataframe tbody tr th:only-of-type {\n",
       "        vertical-align: middle;\n",
       "    }\n",
       "\n",
       "    .dataframe tbody tr th {\n",
       "        vertical-align: top;\n",
       "    }\n",
       "\n",
       "    .dataframe thead th {\n",
       "        text-align: right;\n",
       "    }\n",
       "</style>\n",
       "<table border=\"1\" class=\"dataframe\">\n",
       "  <thead>\n",
       "    <tr style=\"text-align: right;\">\n",
       "      <th></th>\n",
       "      <th>日期</th>\n",
       "      <th>开盘</th>\n",
       "      <th>收盘</th>\n",
       "      <th>最高</th>\n",
       "      <th>最低</th>\n",
       "      <th>成交量</th>\n",
       "      <th>成交额</th>\n",
       "      <th>振幅</th>\n",
       "      <th>涨跌幅</th>\n",
       "      <th>涨跌额</th>\n",
       "      <th>换手率</th>\n",
       "    </tr>\n",
       "  </thead>\n",
       "  <tbody>\n",
       "    <tr>\n",
       "      <th>0</th>\n",
       "      <td>2020-11-09</td>\n",
       "      <td>27.80</td>\n",
       "      <td>27.54</td>\n",
       "      <td>28.14</td>\n",
       "      <td>26.89</td>\n",
       "      <td>856249</td>\n",
       "      <td>2348800992</td>\n",
       "      <td>4.55</td>\n",
       "      <td>0.18</td>\n",
       "      <td>0.05</td>\n",
       "      <td>1.01</td>\n",
       "    </tr>\n",
       "    <tr>\n",
       "      <th>1</th>\n",
       "      <td>2020-11-10</td>\n",
       "      <td>27.98</td>\n",
       "      <td>27.32</td>\n",
       "      <td>27.98</td>\n",
       "      <td>26.91</td>\n",
       "      <td>558824</td>\n",
       "      <td>1523209504</td>\n",
       "      <td>3.89</td>\n",
       "      <td>-0.80</td>\n",
       "      <td>-0.22</td>\n",
       "      <td>0.66</td>\n",
       "    </tr>\n",
       "    <tr>\n",
       "      <th>2</th>\n",
       "      <td>2020-11-11</td>\n",
       "      <td>27.33</td>\n",
       "      <td>28.31</td>\n",
       "      <td>28.86</td>\n",
       "      <td>27.21</td>\n",
       "      <td>1015374</td>\n",
       "      <td>2873205488</td>\n",
       "      <td>6.04</td>\n",
       "      <td>3.62</td>\n",
       "      <td>0.99</td>\n",
       "      <td>1.20</td>\n",
       "    </tr>\n",
       "    <tr>\n",
       "      <th>3</th>\n",
       "      <td>2020-11-12</td>\n",
       "      <td>28.31</td>\n",
       "      <td>28.70</td>\n",
       "      <td>28.88</td>\n",
       "      <td>27.91</td>\n",
       "      <td>718595</td>\n",
       "      <td>2041558432</td>\n",
       "      <td>3.43</td>\n",
       "      <td>1.38</td>\n",
       "      <td>0.39</td>\n",
       "      <td>0.85</td>\n",
       "    </tr>\n",
       "    <tr>\n",
       "      <th>4</th>\n",
       "      <td>2020-11-13</td>\n",
       "      <td>28.28</td>\n",
       "      <td>28.16</td>\n",
       "      <td>28.50</td>\n",
       "      <td>27.60</td>\n",
       "      <td>674807</td>\n",
       "      <td>1888773520</td>\n",
       "      <td>3.14</td>\n",
       "      <td>-1.88</td>\n",
       "      <td>-0.54</td>\n",
       "      <td>0.80</td>\n",
       "    </tr>\n",
       "  </tbody>\n",
       "</table>\n",
       "</div>"
      ],
      "text/plain": [
       "           日期     开盘     收盘     最高     最低      成交量         成交额    振幅   涨跌幅  \\\n",
       "0  2020-11-09  27.80  27.54  28.14  26.89   856249  2348800992  4.55  0.18   \n",
       "1  2020-11-10  27.98  27.32  27.98  26.91   558824  1523209504  3.89 -0.80   \n",
       "2  2020-11-11  27.33  28.31  28.86  27.21  1015374  2873205488  6.04  3.62   \n",
       "3  2020-11-12  28.31  28.70  28.88  27.91   718595  2041558432  3.43  1.38   \n",
       "4  2020-11-13  28.28  28.16  28.50  27.60   674807  1888773520  3.14 -1.88   \n",
       "\n",
       "    涨跌额   换手率  \n",
       "0  0.05  1.01  \n",
       "1 -0.22  0.66  \n",
       "2  0.99  1.20  \n",
       "3  0.39  0.85  \n",
       "4 -0.54  0.80  "
      ]
     },
     "execution_count": 4,
     "metadata": {},
     "output_type": "execute_result"
    }
   ],
   "source": [
    "# 加载数据\n",
    "df_train = pd.read_csv('../dataset/600031.csv')\n",
    "# 显示前5行数据\n",
    "df_train.head()"
   ]
  },
  {
   "cell_type": "code",
   "execution_count": 5,
   "id": "138fbfed",
   "metadata": {},
   "outputs": [],
   "source": [
    "df_train.set_index('日期',inplace=True)"
   ]
  },
  {
   "cell_type": "markdown",
   "id": "3af99696",
   "metadata": {},
   "source": [
    "## * 1.EDA："
   ]
  },
  {
   "cell_type": "markdown",
   "id": "8a42ed23",
   "metadata": {},
   "source": [
    "    * 数据检查"
   ]
  },
  {
   "cell_type": "code",
   "execution_count": 6,
   "id": "4b3560a3",
   "metadata": {},
   "outputs": [],
   "source": [
    "# 函数：检查DatFrame的丢失百分比;\n",
    "def check_missing_data(df):\n",
    "    total = df.isnull().sum().sort_values(ascending = False)\n",
    "    percent = round(df.isnull().sum().sort_values(ascending = False) * 100 /len(df),2)\n",
    "    return pd.concat([total, percent], axis=1, keys=['Total','Percent'])"
   ]
  },
  {
   "cell_type": "code",
   "execution_count": 7,
   "id": "4c88be9f",
   "metadata": {},
   "outputs": [
    {
     "data": {
      "text/html": [
       "<div>\n",
       "<style scoped>\n",
       "    .dataframe tbody tr th:only-of-type {\n",
       "        vertical-align: middle;\n",
       "    }\n",
       "\n",
       "    .dataframe tbody tr th {\n",
       "        vertical-align: top;\n",
       "    }\n",
       "\n",
       "    .dataframe thead th {\n",
       "        text-align: right;\n",
       "    }\n",
       "</style>\n",
       "<table border=\"1\" class=\"dataframe\">\n",
       "  <thead>\n",
       "    <tr style=\"text-align: right;\">\n",
       "      <th></th>\n",
       "      <th>Total</th>\n",
       "      <th>Percent</th>\n",
       "    </tr>\n",
       "  </thead>\n",
       "  <tbody>\n",
       "    <tr>\n",
       "      <th>开盘</th>\n",
       "      <td>0</td>\n",
       "      <td>0.0</td>\n",
       "    </tr>\n",
       "    <tr>\n",
       "      <th>收盘</th>\n",
       "      <td>0</td>\n",
       "      <td>0.0</td>\n",
       "    </tr>\n",
       "    <tr>\n",
       "      <th>最高</th>\n",
       "      <td>0</td>\n",
       "      <td>0.0</td>\n",
       "    </tr>\n",
       "    <tr>\n",
       "      <th>最低</th>\n",
       "      <td>0</td>\n",
       "      <td>0.0</td>\n",
       "    </tr>\n",
       "    <tr>\n",
       "      <th>成交量</th>\n",
       "      <td>0</td>\n",
       "      <td>0.0</td>\n",
       "    </tr>\n",
       "    <tr>\n",
       "      <th>成交额</th>\n",
       "      <td>0</td>\n",
       "      <td>0.0</td>\n",
       "    </tr>\n",
       "    <tr>\n",
       "      <th>振幅</th>\n",
       "      <td>0</td>\n",
       "      <td>0.0</td>\n",
       "    </tr>\n",
       "    <tr>\n",
       "      <th>涨跌幅</th>\n",
       "      <td>0</td>\n",
       "      <td>0.0</td>\n",
       "    </tr>\n",
       "    <tr>\n",
       "      <th>涨跌额</th>\n",
       "      <td>0</td>\n",
       "      <td>0.0</td>\n",
       "    </tr>\n",
       "    <tr>\n",
       "      <th>换手率</th>\n",
       "      <td>0</td>\n",
       "      <td>0.0</td>\n",
       "    </tr>\n",
       "  </tbody>\n",
       "</table>\n",
       "</div>"
      ],
      "text/plain": [
       "     Total  Percent\n",
       "开盘       0      0.0\n",
       "收盘       0      0.0\n",
       "最高       0      0.0\n",
       "最低       0      0.0\n",
       "成交量      0      0.0\n",
       "成交额      0      0.0\n",
       "振幅       0      0.0\n",
       "涨跌幅      0      0.0\n",
       "涨跌额      0      0.0\n",
       "换手率      0      0.0"
      ]
     },
     "execution_count": 7,
     "metadata": {},
     "output_type": "execute_result"
    }
   ],
   "source": [
    "check_missing_data(df_train)"
   ]
  },
  {
   "cell_type": "markdown",
   "id": "6deb2a1d",
   "metadata": {},
   "source": [
    "    * 处理缺失数据"
   ]
  },
  {
   "cell_type": "code",
   "execution_count": 8,
   "id": "a837ae4b",
   "metadata": {},
   "outputs": [],
   "source": [
    "# 用0处理\n",
    "if df_train.isnull().values.any():\n",
    "    df_train.fillna(0.0, inplace = True)"
   ]
  },
  {
   "cell_type": "markdown",
   "id": "4975aa47",
   "metadata": {},
   "source": [
    "    * 无关信息和冗余信息"
   ]
  },
  {
   "cell_type": "code",
   "execution_count": 9,
   "id": "cbcf654f",
   "metadata": {
    "scrolled": true
   },
   "outputs": [
    {
     "data": {
      "image/png": "[encoded data removed]",
      "text/plain": [
       "<Figure size 432x288 with 2 Axes>"
      ]
     },
     "metadata": {},
     "output_type": "display_data"
    }
   ],
   "source": [
    "sns.heatmap(df_train.corr())\n",
    "plt.show()"
   ]
  },
  {
   "cell_type": "code",
   "execution_count": 10,
   "id": "5b90dab0",
   "metadata": {},
   "outputs": [],
   "source": [
    "df_train.drop(['开盘','最高','最低','涨跌额','成交额'],axis=1,inplace=True)"
   ]
  },
  {
   "cell_type": "code",
   "execution_count": 11,
   "id": "a37fe457",
   "metadata": {},
   "outputs": [
    {
     "data": {
      "text/html": [
       "<div>\n",
       "<style scoped>\n",
       "    .dataframe tbody tr th:only-of-type {\n",
       "        vertical-align: middle;\n",
       "    }\n",
       "\n",
       "    .dataframe tbody tr th {\n",
       "        vertical-align: top;\n",
       "    }\n",
       "\n",
       "    .dataframe thead th {\n",
       "        text-align: right;\n",
       "    }\n",
       "</style>\n",
       "<table border=\"1\" class=\"dataframe\">\n",
       "  <thead>\n",
       "    <tr style=\"text-align: right;\">\n",
       "      <th></th>\n",
       "      <th>收盘</th>\n",
       "      <th>成交量</th>\n",
       "      <th>振幅</th>\n",
       "      <th>涨跌幅</th>\n",
       "      <th>换手率</th>\n",
       "    </tr>\n",
       "    <tr>\n",
       "      <th>日期</th>\n",
       "      <th></th>\n",
       "      <th></th>\n",
       "      <th></th>\n",
       "      <th></th>\n",
       "      <th></th>\n",
       "    </tr>\n",
       "  </thead>\n",
       "  <tbody>\n",
       "    <tr>\n",
       "      <th>2020-11-09</th>\n",
       "      <td>27.54</td>\n",
       "      <td>856249</td>\n",
       "      <td>4.55</td>\n",
       "      <td>0.18</td>\n",
       "      <td>1.01</td>\n",
       "    </tr>\n",
       "    <tr>\n",
       "      <th>2020-11-10</th>\n",
       "      <td>27.32</td>\n",
       "      <td>558824</td>\n",
       "      <td>3.89</td>\n",
       "      <td>-0.80</td>\n",
       "      <td>0.66</td>\n",
       "    </tr>\n",
       "    <tr>\n",
       "      <th>2020-11-11</th>\n",
       "      <td>28.31</td>\n",
       "      <td>1015374</td>\n",
       "      <td>6.04</td>\n",
       "      <td>3.62</td>\n",
       "      <td>1.20</td>\n",
       "    </tr>\n",
       "    <tr>\n",
       "      <th>2020-11-12</th>\n",
       "      <td>28.70</td>\n",
       "      <td>718595</td>\n",
       "      <td>3.43</td>\n",
       "      <td>1.38</td>\n",
       "      <td>0.85</td>\n",
       "    </tr>\n",
       "    <tr>\n",
       "      <th>2020-11-13</th>\n",
       "      <td>28.16</td>\n",
       "      <td>674807</td>\n",
       "      <td>3.14</td>\n",
       "      <td>-1.88</td>\n",
       "      <td>0.80</td>\n",
       "    </tr>\n",
       "  </tbody>\n",
       "</table>\n",
       "</div>"
      ],
      "text/plain": [
       "               收盘      成交量    振幅   涨跌幅   换手率\n",
       "日期                                          \n",
       "2020-11-09  27.54   856249  4.55  0.18  1.01\n",
       "2020-11-10  27.32   558824  3.89 -0.80  0.66\n",
       "2020-11-11  28.31  1015374  6.04  3.62  1.20\n",
       "2020-11-12  28.70   718595  3.43  1.38  0.85\n",
       "2020-11-13  28.16   674807  3.14 -1.88  0.80"
      ]
     },
     "execution_count": 11,
     "metadata": {},
     "output_type": "execute_result"
    }
   ],
   "source": [
    "df_train.head()"
   ]
  },
  {
   "cell_type": "markdown",
   "id": "a9615133",
   "metadata": {},
   "source": [
    "    * 非数值数据处理"
   ]
  },
  {
   "cell_type": "markdown",
   "id": "116180c3",
   "metadata": {},
   "source": [
    "无"
   ]
  },
  {
   "cell_type": "markdown",
   "id": "11bf7f76",
   "metadata": {},
   "source": [
    "## * 2.数据可视化："
   ]
  },
  {
   "cell_type": "code",
   "execution_count": 12,
   "id": "72a7f150",
   "metadata": {},
   "outputs": [
    {
     "data": {
      "text/plain": [
       "<AxesSubplot:title={'center':\"Histogram of '查看各列分布情况'\"}, xlabel='换手率', ylabel='Density'>"
      ]
     },
     "execution_count": 12,
     "metadata": {},
     "output_type": "execute_result"
    },
    {
     "data": {
      "image/png": "[encoded data removed]",
      "text/plain": [
       "<Figure size 1440x360 with 4 Axes>"
      ]
     },
     "metadata": {},
     "output_type": "display_data"
    }
   ],
   "source": [
    "fig, (ax1, ax2, ax3, ax4) = plt.subplots(1,4, figsize=(20,5))\n",
    "\n",
    "plt.title(\"Histogram of '查看各列分布情况'\")\n",
    "sns.kdeplot(data=df_train['成交量'], shade=True, ax=ax1)\n",
    "\n",
    "sns.kdeplot(data=df_train['振幅'], shade=True, ax=ax2)\n",
    "\n",
    "sns.kdeplot(data=df_train['涨跌幅'], shade=True, ax=ax3)\n",
    "\n",
    "sns.kdeplot(data=df_train['换手率'], shade=True, ax=ax4)"
   ]
  },
  {
   "cell_type": "markdown",
   "id": "40c2a7ec",
   "metadata": {},
   "source": [
    "## * 3.特征值工程"
   ]
  },
  {
   "cell_type": "code",
   "execution_count": 13,
   "id": "5c1af99e",
   "metadata": {},
   "outputs": [],
   "source": [
    "datalist = list()\n",
    "for i in range(0, len(df_train)):\n",
    "    if df_train.iloc[i, list(df_train.columns).index('涨跌幅')] > 0:\n",
    "        datalist.append(1)\n",
    "    else:\n",
    "        datalist.append(0)\n",
    "df_train['涨跌'] = datalist"
   ]
  },
  {
   "cell_type": "code",
   "execution_count": 14,
   "id": "5ce76a24",
   "metadata": {},
   "outputs": [],
   "source": [
    "# 特征值处理\n",
    "# 特征离散化\n",
    "def fun(x):\n",
    "    if 0<=abs(x)<2:\n",
    "        return 1\n",
    "    elif 2<=abs(x)<4:\n",
    "        return 2\n",
    "    elif 4<=abs(x)<6:\n",
    "        return 3\n",
    "    elif 6<=abs(x)<8:\n",
    "        return 4\n",
    "    else:\n",
    "        return 5\n",
    "    \n",
    "df_train['振幅'] = df_train['振幅'].map(fun)  \n",
    "df_train['换手率'] = df_train['换手率'].map(fun)  \n",
    "df_train['涨跌幅'] = df_train['涨跌幅'].map(fun)  "
   ]
  },
  {
   "cell_type": "code",
   "execution_count": 15,
   "id": "7da71479",
   "metadata": {},
   "outputs": [],
   "source": [
    "# 移动平均处理\n",
    "def mean_handle(total_list, cycle):\n",
    "            return [np.mean(total_list[i:i + cycle]) for i in range(len(total_list))]"
   ]
  },
  {
   "cell_type": "code",
   "execution_count": 16,
   "id": "efb16f6b",
   "metadata": {},
   "outputs": [],
   "source": [
    "cycle = 15"
   ]
  },
  {
   "cell_type": "code",
   "execution_count": 17,
   "id": "e8074c91",
   "metadata": {},
   "outputs": [],
   "source": [
    "for column in ['收盘','成交量']:\n",
    "            df_train[column] = mean_handle(df_train[column].tolist(), cycle)"
   ]
  },
  {
   "cell_type": "code",
   "execution_count": 18,
   "id": "3a336003",
   "metadata": {
    "scrolled": false
   },
   "outputs": [
    {
     "data": {
      "text/html": [
       "<div>\n",
       "<style scoped>\n",
       "    .dataframe tbody tr th:only-of-type {\n",
       "        vertical-align: middle;\n",
       "    }\n",
       "\n",
       "    .dataframe tbody tr th {\n",
       "        vertical-align: top;\n",
       "    }\n",
       "\n",
       "    .dataframe thead th {\n",
       "        text-align: right;\n",
       "    }\n",
       "</style>\n",
       "<table border=\"1\" class=\"dataframe\">\n",
       "  <thead>\n",
       "    <tr style=\"text-align: right;\">\n",
       "      <th></th>\n",
       "      <th>收盘</th>\n",
       "      <th>成交量</th>\n",
       "      <th>振幅</th>\n",
       "      <th>涨跌幅</th>\n",
       "      <th>换手率</th>\n",
       "      <th>涨跌</th>\n",
       "    </tr>\n",
       "    <tr>\n",
       "      <th>日期</th>\n",
       "      <th></th>\n",
       "      <th></th>\n",
       "      <th></th>\n",
       "      <th></th>\n",
       "      <th></th>\n",
       "      <th></th>\n",
       "    </tr>\n",
       "  </thead>\n",
       "  <tbody>\n",
       "    <tr>\n",
       "      <th>2020-11-09</th>\n",
       "      <td>28.743333</td>\n",
       "      <td>704892.533333</td>\n",
       "      <td>3</td>\n",
       "      <td>1</td>\n",
       "      <td>1</td>\n",
       "      <td>1</td>\n",
       "    </tr>\n",
       "    <tr>\n",
       "      <th>2020-11-10</th>\n",
       "      <td>28.954667</td>\n",
       "      <td>713645.333333</td>\n",
       "      <td>2</td>\n",
       "      <td>1</td>\n",
       "      <td>1</td>\n",
       "      <td>0</td>\n",
       "    </tr>\n",
       "    <tr>\n",
       "      <th>2020-11-11</th>\n",
       "      <td>29.282000</td>\n",
       "      <td>737789.066667</td>\n",
       "      <td>4</td>\n",
       "      <td>2</td>\n",
       "      <td>1</td>\n",
       "      <td>1</td>\n",
       "    </tr>\n",
       "    <tr>\n",
       "      <th>2020-11-12</th>\n",
       "      <td>29.554000</td>\n",
       "      <td>727904.266667</td>\n",
       "      <td>2</td>\n",
       "      <td>1</td>\n",
       "      <td>1</td>\n",
       "      <td>1</td>\n",
       "    </tr>\n",
       "    <tr>\n",
       "      <th>2020-11-13</th>\n",
       "      <td>29.751333</td>\n",
       "      <td>724724.733333</td>\n",
       "      <td>2</td>\n",
       "      <td>1</td>\n",
       "      <td>1</td>\n",
       "      <td>0</td>\n",
       "    </tr>\n",
       "  </tbody>\n",
       "</table>\n",
       "</div>"
      ],
      "text/plain": [
       "                   收盘            成交量  振幅  涨跌幅  换手率  涨跌\n",
       "日期                                                    \n",
       "2020-11-09  28.743333  704892.533333   3    1    1   1\n",
       "2020-11-10  28.954667  713645.333333   2    1    1   0\n",
       "2020-11-11  29.282000  737789.066667   4    2    1   1\n",
       "2020-11-12  29.554000  727904.266667   2    1    1   1\n",
       "2020-11-13  29.751333  724724.733333   2    1    1   0"
      ]
     },
     "execution_count": 18,
     "metadata": {},
     "output_type": "execute_result"
    }
   ],
   "source": [
    "df_train.head()"
   ]
  },
  {
   "cell_type": "code",
   "execution_count": 19,
   "id": "422e8452",
   "metadata": {},
   "outputs": [],
   "source": [
    "for colunm in ['收盘', '成交量']:\n",
    "    datalist = list()\n",
    "    datalist.append(0)\n",
    "    for i in range(1, len(df_train[colunm])):\n",
    "        datalist.append(df_train[colunm].tolist()[i] - df_train[colunm].tolist()[i - 1])\n",
    "    df_train[colunm] = datalist"
   ]
  },
  {
   "cell_type": "code",
   "execution_count": 20,
   "id": "792ea2c2",
   "metadata": {},
   "outputs": [
    {
     "data": {
      "text/html": [
       "<div>\n",
       "<style scoped>\n",
       "    .dataframe tbody tr th:only-of-type {\n",
       "        vertical-align: middle;\n",
       "    }\n",
       "\n",
       "    .dataframe tbody tr th {\n",
       "        vertical-align: top;\n",
       "    }\n",
       "\n",
       "    .dataframe thead th {\n",
       "        text-align: right;\n",
       "    }\n",
       "</style>\n",
       "<table border=\"1\" class=\"dataframe\">\n",
       "  <thead>\n",
       "    <tr style=\"text-align: right;\">\n",
       "      <th></th>\n",
       "      <th>收盘</th>\n",
       "      <th>成交量</th>\n",
       "      <th>振幅</th>\n",
       "      <th>涨跌幅</th>\n",
       "      <th>换手率</th>\n",
       "      <th>涨跌</th>\n",
       "    </tr>\n",
       "    <tr>\n",
       "      <th>日期</th>\n",
       "      <th></th>\n",
       "      <th></th>\n",
       "      <th></th>\n",
       "      <th></th>\n",
       "      <th></th>\n",
       "      <th></th>\n",
       "    </tr>\n",
       "  </thead>\n",
       "  <tbody>\n",
       "    <tr>\n",
       "      <th>2020-11-09</th>\n",
       "      <td>0.000000</td>\n",
       "      <td>0.000000</td>\n",
       "      <td>3</td>\n",
       "      <td>1</td>\n",
       "      <td>1</td>\n",
       "      <td>1</td>\n",
       "    </tr>\n",
       "    <tr>\n",
       "      <th>2020-11-10</th>\n",
       "      <td>0.211333</td>\n",
       "      <td>8752.800000</td>\n",
       "      <td>2</td>\n",
       "      <td>1</td>\n",
       "      <td>1</td>\n",
       "      <td>0</td>\n",
       "    </tr>\n",
       "    <tr>\n",
       "      <th>2020-11-11</th>\n",
       "      <td>0.327333</td>\n",
       "      <td>24143.733333</td>\n",
       "      <td>4</td>\n",
       "      <td>2</td>\n",
       "      <td>1</td>\n",
       "      <td>1</td>\n",
       "    </tr>\n",
       "    <tr>\n",
       "      <th>2020-11-12</th>\n",
       "      <td>0.272000</td>\n",
       "      <td>-9884.800000</td>\n",
       "      <td>2</td>\n",
       "      <td>1</td>\n",
       "      <td>1</td>\n",
       "      <td>1</td>\n",
       "    </tr>\n",
       "    <tr>\n",
       "      <th>2020-11-13</th>\n",
       "      <td>0.197333</td>\n",
       "      <td>-3179.533333</td>\n",
       "      <td>2</td>\n",
       "      <td>1</td>\n",
       "      <td>1</td>\n",
       "      <td>0</td>\n",
       "    </tr>\n",
       "  </tbody>\n",
       "</table>\n",
       "</div>"
      ],
      "text/plain": [
       "                  收盘           成交量  振幅  涨跌幅  换手率  涨跌\n",
       "日期                                                  \n",
       "2020-11-09  0.000000      0.000000   3    1    1   1\n",
       "2020-11-10  0.211333   8752.800000   2    1    1   0\n",
       "2020-11-11  0.327333  24143.733333   4    2    1   1\n",
       "2020-11-12  0.272000  -9884.800000   2    1    1   1\n",
       "2020-11-13  0.197333  -3179.533333   2    1    1   0"
      ]
     },
     "execution_count": 20,
     "metadata": {},
     "output_type": "execute_result"
    }
   ],
   "source": [
    "df_train.head()"
   ]
  },
  {
   "cell_type": "code",
   "execution_count": 21,
   "id": "01f84fe9",
   "metadata": {},
   "outputs": [],
   "source": [
    "from sklearn.preprocessing import MinMaxScaler"
   ]
  },
  {
   "cell_type": "code",
   "execution_count": 22,
   "id": "422f45a9",
   "metadata": {},
   "outputs": [
    {
     "data": {
      "text/plain": [
       "MinMaxScaler(feature_range=(-1, 1))"
      ]
     },
     "execution_count": 22,
     "metadata": {},
     "output_type": "execute_result"
    }
   ],
   "source": [
    "# 归一化\n",
    "scaler = MinMaxScaler(feature_range=(-1, 1))\n",
    "scaler.fit(df_train)"
   ]
  },
  {
   "cell_type": "code",
   "execution_count": 23,
   "id": "313d1847",
   "metadata": {},
   "outputs": [],
   "source": [
    "df_train = scaler.transform(df_train)"
   ]
  },
  {
   "cell_type": "code",
   "execution_count": 24,
   "id": "33303531",
   "metadata": {},
   "outputs": [],
   "source": [
    "df_train = pd.DataFrame(df_train,columns=['收盘','成交量','振幅','涨跌幅','换手率','涨跌'])"
   ]
  },
  {
   "cell_type": "code",
   "execution_count": 25,
   "id": "784242c0",
   "metadata": {},
   "outputs": [
    {
     "data": {
      "text/html": [
       "<div>\n",
       "<style scoped>\n",
       "    .dataframe tbody tr th:only-of-type {\n",
       "        vertical-align: middle;\n",
       "    }\n",
       "\n",
       "    .dataframe tbody tr th {\n",
       "        vertical-align: top;\n",
       "    }\n",
       "\n",
       "    .dataframe thead th {\n",
       "        text-align: right;\n",
       "    }\n",
       "</style>\n",
       "<table border=\"1\" class=\"dataframe\">\n",
       "  <thead>\n",
       "    <tr style=\"text-align: right;\">\n",
       "      <th></th>\n",
       "      <th>收盘</th>\n",
       "      <th>成交量</th>\n",
       "      <th>振幅</th>\n",
       "      <th>涨跌幅</th>\n",
       "      <th>换手率</th>\n",
       "      <th>涨跌</th>\n",
       "    </tr>\n",
       "  </thead>\n",
       "  <tbody>\n",
       "    <tr>\n",
       "      <th>0</th>\n",
       "      <td>-0.186441</td>\n",
       "      <td>-0.046723</td>\n",
       "      <td>0.0</td>\n",
       "      <td>-1.0</td>\n",
       "      <td>-1.0</td>\n",
       "      <td>1.0</td>\n",
       "    </tr>\n",
       "    <tr>\n",
       "      <th>1</th>\n",
       "      <td>0.069411</td>\n",
       "      <td>-0.010257</td>\n",
       "      <td>-0.5</td>\n",
       "      <td>-1.0</td>\n",
       "      <td>-1.0</td>\n",
       "      <td>-1.0</td>\n",
       "    </tr>\n",
       "    <tr>\n",
       "      <th>2</th>\n",
       "      <td>0.209847</td>\n",
       "      <td>0.053864</td>\n",
       "      <td>0.5</td>\n",
       "      <td>-0.5</td>\n",
       "      <td>-1.0</td>\n",
       "      <td>1.0</td>\n",
       "    </tr>\n",
       "    <tr>\n",
       "      <th>3</th>\n",
       "      <td>0.142857</td>\n",
       "      <td>-0.087905</td>\n",
       "      <td>-0.5</td>\n",
       "      <td>-1.0</td>\n",
       "      <td>-1.0</td>\n",
       "      <td>1.0</td>\n",
       "    </tr>\n",
       "    <tr>\n",
       "      <th>4</th>\n",
       "      <td>0.052462</td>\n",
       "      <td>-0.059970</td>\n",
       "      <td>-0.5</td>\n",
       "      <td>-1.0</td>\n",
       "      <td>-1.0</td>\n",
       "      <td>-1.0</td>\n",
       "    </tr>\n",
       "  </tbody>\n",
       "</table>\n",
       "</div>"
      ],
      "text/plain": [
       "         收盘       成交量   振幅  涨跌幅  换手率   涨跌\n",
       "0 -0.186441 -0.046723  0.0 -1.0 -1.0  1.0\n",
       "1  0.069411 -0.010257 -0.5 -1.0 -1.0 -1.0\n",
       "2  0.209847  0.053864  0.5 -0.5 -1.0  1.0\n",
       "3  0.142857 -0.087905 -0.5 -1.0 -1.0  1.0\n",
       "4  0.052462 -0.059970 -0.5 -1.0 -1.0 -1.0"
      ]
     },
     "execution_count": 25,
     "metadata": {},
     "output_type": "execute_result"
    }
   ],
   "source": [
    "df_train.head()"
   ]
  },
  {
   "cell_type": "code",
   "execution_count": 26,
   "id": "fa5d8870",
   "metadata": {},
   "outputs": [],
   "source": [
    "from sklearn.model_selection import train_test_split"
   ]
  },
  {
   "cell_type": "code",
   "execution_count": 27,
   "id": "3132bbe9",
   "metadata": {
    "scrolled": true
   },
   "outputs": [],
   "source": [
    "# 重新组织数据；保留具有有用功能的列;\n",
    "input_cols = ['收盘','成交量','振幅','涨跌幅','换手率']\n",
    "output_cols = ['涨跌']\n",
    "X_train,X_test,y_train,y_test = train_test_split(df_train[input_cols],df_train[output_cols],train_size=0.85)"
   ]
  },
  {
   "cell_type": "code",
   "execution_count": 28,
   "id": "2d867369",
   "metadata": {
    "scrolled": true
   },
   "outputs": [
    {
     "data": {
      "text/plain": [
       "((214, 5), (38, 5), (214, 1), (38, 1))"
      ]
     },
     "execution_count": 28,
     "metadata": {},
     "output_type": "execute_result"
    }
   ],
   "source": [
    "X_train.shape,X_test.shape,y_train.shape,y_test.shape"
   ]
  },
  {
   "cell_type": "code",
   "execution_count": 29,
   "id": "d0707dd3",
   "metadata": {},
   "outputs": [],
   "source": [
    "from sklearn import linear_model\n",
    "from sklearn.linear_model import LogisticRegression\n",
    "from sklearn.ensemble import RandomForestClassifier\n",
    "from sklearn.tree import DecisionTreeClassifier\n",
    "from sklearn.neighbors import KNeighborsClassifier\n",
    "from sklearn.svm import SVC, LinearSVC\n",
    "from sklearn.naive_bayes import GaussianNB"
   ]
  },
  {
   "cell_type": "code",
   "execution_count": 30,
   "id": "2a323c92",
   "metadata": {
    "scrolled": true
   },
   "outputs": [
    {
     "data": {
      "text/plain": [
       "0.6121495327102804"
      ]
     },
     "execution_count": 30,
     "metadata": {},
     "output_type": "execute_result"
    }
   ],
   "source": [
    "# Logistic regression;\n",
    "\n",
    "model = LogisticRegression()\n",
    "model.fit(X_train,y_train.values.ravel())\n",
    "y_pred_lr=model.predict(X_test)\n",
    "model.score(X_train,y_train)"
   ]
  },
  {
   "cell_type": "code",
   "execution_count": 31,
   "id": "32065012",
   "metadata": {},
   "outputs": [
    {
     "data": {
      "text/plain": [
       "0.7383177570093458"
      ]
     },
     "execution_count": 31,
     "metadata": {},
     "output_type": "execute_result"
    }
   ],
   "source": [
    "# KNN\n",
    "model = KNeighborsClassifier(n_neighbors = 3) \n",
    "model.fit(X_train, y_train.values.ravel())  \n",
    "y_pred_knn = model .predict(X_test)  \n",
    "model.score(X_train,y_train)"
   ]
  },
  {
   "cell_type": "code",
   "execution_count": 32,
   "id": "4b00d757",
   "metadata": {},
   "outputs": [
    {
     "data": {
      "text/plain": [
       "0.5747663551401869"
      ]
     },
     "execution_count": 32,
     "metadata": {},
     "output_type": "execute_result"
    }
   ],
   "source": [
    "# Gaussian naive bayesian\n",
    "from sklearn.naive_bayes import GaussianNB\n",
    "model= GaussianNB()\n",
    "model.fit(X_train,y_train.values.ravel())\n",
    "y_pred_gnb=model.predict(X_test) \n",
    "model.score(X_train,y_train)"
   ]
  },
  {
   "cell_type": "code",
   "execution_count": 33,
   "id": "65683db5",
   "metadata": {},
   "outputs": [
    {
     "data": {
      "text/plain": [
       "0.6121495327102804"
      ]
     },
     "execution_count": 33,
     "metadata": {},
     "output_type": "execute_result"
    }
   ],
   "source": [
    "# Linear SVM\n",
    "model  = LinearSVC()\n",
    "model.fit(X_train, y_train.values.ravel())\n",
    "\n",
    "y_pred_svc = model.predict(X_test)\n",
    "model.score(X_train,y_train)"
   ]
  },
  {
   "cell_type": "code",
   "execution_count": 34,
   "id": "bd8e8346",
   "metadata": {},
   "outputs": [
    {
     "data": {
      "text/plain": [
       "1.0"
      ]
     },
     "execution_count": 34,
     "metadata": {},
     "output_type": "execute_result"
    }
   ],
   "source": [
    "# Random forest\n",
    "model  = RandomForestClassifier(n_estimators=100)\n",
    "model.fit(X_train, y_train.values.ravel())\n",
    "\n",
    "y_pred_rf = model.predict(X_test)\n",
    "model.score(X_train,y_train)"
   ]
  },
  {
   "cell_type": "code",
   "execution_count": 35,
   "id": "a3387938",
   "metadata": {},
   "outputs": [
    {
     "data": {
      "text/plain": [
       "1.0"
      ]
     },
     "execution_count": 35,
     "metadata": {},
     "output_type": "execute_result"
    }
   ],
   "source": [
    "# Decision tree\n",
    "model = DecisionTreeClassifier() \n",
    "model.fit(X_train, y_train.values.ravel())\n",
    "y_pred_dt = model.predict(X_test) \n",
    "model.score(X_train,y_train)"
   ]
  }
 ],
 "metadata": {
  "kernelspec": {
   "display_name": "deep",
   "language": "python",
   "name": "deep"
  },
  "language_info": {
   "codemirror_mode": {
    "name": "ipython",
    "version": 3
   },
   "file_extension": ".py",
   "mimetype": "text/x-python",
   "name": "python",
   "nbconvert_exporter": "python",
   "pygments_lexer": "ipython3",
   "version": "3.9.7"
  }
 },
 "nbformat": 4,
 "nbformat_minor": 5
}
